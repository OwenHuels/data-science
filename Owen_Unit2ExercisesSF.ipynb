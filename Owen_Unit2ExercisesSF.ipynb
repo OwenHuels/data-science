{
  "nbformat": 4,
  "nbformat_minor": 0,
  "metadata": {
    "colab": {
      "provenance": [],
      "include_colab_link": true
    },
    "kernelspec": {
      "name": "python3",
      "display_name": "Python 3"
    },
    "language_info": {
      "name": "python"
    }
  },
  "cells": [
    {
      "cell_type": "markdown",
      "metadata": {
        "id": "view-in-github",
        "colab_type": "text"
      },
      "source": [
        "<a href=\"https://colab.research.google.com/github/OwenHuels/data-science/blob/main/Owen_Unit2ExercisesSF.ipynb\" target=\"_parent\"><img src=\"https://colab.research.google.com/assets/colab-badge.svg\" alt=\"Open In Colab\"/></a>"
      ]
    },
    {
      "cell_type": "markdown",
      "source": [
        "#Unit 2 Exercises: Bayesian Building Blocks\n",
        "\n",
        "This first set of exercises focuses on conceptual understanding of the three parts of bayesian statistics we'll manipulate the most: the prior, likelihood, and posterior.\n",
        "\n",
        "These vocabulary words will help us categorize and explain all statistical models, even models that don't fit inside the standard bayesian framework."
      ],
      "metadata": {
        "id": "0GANUQSIhV2t"
      }
    },
    {
      "cell_type": "markdown",
      "source": [
        "**Task1**:\n",
        "\n",
        "Why do we make guesses? In other words, what is the benefit of trying to predict something we are uncertain about?"
      ],
      "metadata": {
        "id": "4HnMLojUPtOR"
      }
    },
    {
      "cell_type": "markdown",
      "source": [
        "We make guesses because even if we may be wrong about what we are trying to predict, being at least somewhat close can be valuable information to us. If you just assumed that all possible cases in an uncertain scenario are equally likely, that's not very helpful information."
      ],
      "metadata": {
        "id": "mDaA1AeLU5dU"
      }
    },
    {
      "cell_type": "markdown",
      "source": [
        "**Task2**:\n",
        "\n",
        "Is is it possible to make a guess/prediction without making an assumption?\n",
        "\n",
        "If yes, then give an example of such a guess, and state whenever that guess would be useful or not.\n",
        "\n",
        "If no, then briefly justify why we need assumptions to make predictions."
      ],
      "metadata": {
        "id": "fMU4F4ZGQqb9"
      }
    },
    {
      "cell_type": "markdown",
      "source": [
        "It is not possible to make a prediction without making an assumption. We need assumptions to make predictions because without some sort of context, it's impossible to even get a realm of possibilities for a given scenario. If you just guess without any information at all, you're not going to be anywhere close to what the true answer is."
      ],
      "metadata": {
        "id": "JuBQVSQ0U-cD"
      }
    },
    {
      "cell_type": "markdown",
      "source": [
        "**Task3**:\n",
        "\n",
        "Should we use all the available information we have to make a guess/prediction? Justify your answer."
      ],
      "metadata": {
        "id": "8iIogaaJQEfl"
      }
    },
    {
      "cell_type": "markdown",
      "source": [
        "We should not use all available information we have to make a prediction. Some information is not relevant to what we are trying to guess at all, or it may have an effect on other information we are considering for out prediction while also affecting the guess itself."
      ],
      "metadata": {
        "id": "v8zljy-5QXSd"
      }
    },
    {
      "cell_type": "markdown",
      "source": [
        "**Task4**:\n",
        "\n",
        "What is a prior? How are priors related to\n",
        "- context?\n",
        "- assumptions?\n",
        "- predictions?"
      ],
      "metadata": {
        "id": "TYwtd8lPRFbj"
      }
    },
    {
      "cell_type": "markdown",
      "source": [
        "A prior is the probability of something before evidence is considered. In our Wembanyama NBA example, the prior was based on his Euro League stats, not including any evidence from what we actually want to know, that being the NBA stats. We used a beta distribution to do this. We assume that his Euro League stats will have some similarity to his NBA stats, as the act of shooting a free throw is relatively similar between leagues. The prior is combined with the likelihood in order to predict the posterior."
      ],
      "metadata": {
        "id": "d6vRRh3wVE5v"
      }
    },
    {
      "cell_type": "markdown",
      "source": [
        "**Task5**:\n",
        "\n",
        "What is a likelihood? How are likelihoods related to:\n",
        "\n",
        "- context?\n",
        "- assumptions?\n",
        "- predictions?"
      ],
      "metadata": {
        "id": "v6NnzoV_RWo6"
      }
    },
    {
      "cell_type": "markdown",
      "source": [
        "A likelihood is the probability that some data will appear given our prior is true. In the Wembanyama example, the likelihood was when we estimated the probability of him making 7 of 9 free throws, given his Euro League shooting percentage. We used a binomial distribution to do this. The likelihood has the context of our guessed probability from the prior. We can use the likelihood combinded with the prior in order to predict the posterior."
      ],
      "metadata": {
        "id": "VK5s3vZpVGLc"
      }
    },
    {
      "cell_type": "markdown",
      "source": [
        "**Task6**:\n",
        "\n",
        "What is a posterior? How are posteriors related to:\n",
        "\n",
        "- context?\n",
        "- assumptions?\n",
        "- predictions?"
      ],
      "metadata": {
        "id": "eYSYtG_2Rowf"
      }
    },
    {
      "cell_type": "markdown",
      "source": [
        "A posterior is the updated guess for a probability given that we have some data. In the Wembanyama example, the posterior was the probability of true probability him making a free throw being a certain value, given that we have some data from the NBA (7 out of 9 or the full season data). The posterior is our prediction for what the actual probability of some event is. We have the context of the data to use is this prediction, rather than it being mostly guesswork."
      ],
      "metadata": {
        "id": "T04x1VteVHH1"
      }
    },
    {
      "cell_type": "markdown",
      "source": [
        "**Task7**:\n",
        "\n",
        "Why would anyone want to define a prior and a likelihood in order to make a prediction? In other words, what's the point of using a likelihood and a prior to form a posterior?"
      ],
      "metadata": {
        "id": "CMAm4LqBXYxG"
      }
    },
    {
      "cell_type": "markdown",
      "source": [
        "The point of defining a prior and a likelihood in order to make a prediction is that it allows us to see and interpret how out prediction has changed based on learning some new information or data. This information is important to know  because it can give us idea of the significance of some data to our guess, or how off our guess was to begin with."
      ],
      "metadata": {
        "id": "rag62h9DVIDN"
      }
    },
    {
      "cell_type": "markdown",
      "source": [
        "## Bayes' Rule Math\n",
        "\n",
        "The following exrcises will be graded for completion, with no accuracy component. That said, correct answers below will replace mistakes in tasks 1-7.\n",
        "\n"
      ],
      "metadata": {
        "id": "BNrO2k34SGoF"
      }
    },
    {
      "cell_type": "markdown",
      "source": [
        "### Mathematical Framing\n",
        "\n",
        "In this series of exercises, we'll calculate a probability using the full version of Bayes' Rule.\n",
        "\n",
        "The version seen in the notes, $p(θ|y) ∝ p(y|θ)p(θ)$, ignores the normalizing constant found in the full equation: $p(θ|y) = \\frac{p(y|θ)p(θ)}{p(y)}$.\n",
        "\n",
        "As stated in the notes, in practical applications we don't need to worry too much about $p(y)$, AKA the marginal likelihood, AKA the prior predictive density, AKA the normalizing constant. And when we do, we'll approximate like we do everything else.\n",
        "\n",
        "But we these exercises are closer to theoretical abstraction, rather than practicality.\n",
        "\n",
        "So why do them?\n",
        "\n",
        "These exercises will hopefully help you gain additional inuition for probability, and how it behaves.\n",
        "\n",
        "As you work through the exercises, consider $p(y)$, the  prior predictive density, and why using it to divide $p(y|θ)p(θ)$ gurantees we get a probability.\n",
        "\n",
        "Additonaly, wonder about:\n",
        "- the likelihood $p(y|θ)$\n",
        "- the prior $p(θ)$,\n",
        "- why multiplying the likelihood and piror (almost) gives us the posterior $p(θ|y)$."
      ],
      "metadata": {
        "id": "w7KMRJa_TmdF"
      }
    },
    {
      "cell_type": "markdown",
      "source": [
        "###Problem Setting\n",
        "\n",
        "Imagine we have a bag of red and white marbles, identical in every other way. Let's assume there are 4 total marbles, we can't see inside the bag, and when we grab a ball from the bag, we replace it and shake the bag to scramble the balls.\n",
        "\n",
        "Additionally:\n",
        "\n",
        "- we draw three balls in this order: red-white-red. Call these the data, $y$. Remember, we replaced the ball and shook the bag between each draw.\n",
        "- we are interested in finding the true proportion of red balls in the bag, called $θ$"
      ],
      "metadata": {
        "id": "ab7E9RIuj2OX"
      }
    },
    {
      "cell_type": "markdown",
      "source": [
        "**Task8**:\n",
        "\n",
        "Write out all the possible color compositions of the marbless in the bag, before we observed our data $y$.\n",
        "\n",
        "Let each of these possible color compositions be a possible $θ$, or true proportion of red marbles."
      ],
      "metadata": {
        "id": "AmHTGWQQHuAD"
      }
    },
    {
      "cell_type": "markdown",
      "source": [
        "If the bag has 4 total marbles:\\\n",
        "RRRR\\\n",
        "WRRR\\\n",
        "WWRR\\\n",
        "WWWR\\\n",
        "WWWW"
      ],
      "metadata": {
        "id": "EkPylHwCVK72"
      }
    },
    {
      "cell_type": "markdown",
      "source": [
        "**Task9**:\n",
        "\n",
        "Which color compositions are possible after seeing the data $y$?"
      ],
      "metadata": {
        "id": "-TELvcnVH8N2"
      }
    },
    {
      "cell_type": "markdown",
      "source": [
        "WRRR\\\n",
        "WWRR\\\n",
        "WWWR"
      ],
      "metadata": {
        "id": "7q6nUOdNMN9Z"
      }
    },
    {
      "cell_type": "markdown",
      "source": [
        "**Task10**:\n",
        "\n",
        "How many ways can you select red-white-red, assuming that there are 2 red marbles and 2 white marbles?"
      ],
      "metadata": {
        "id": "vIjecZm7OVcy"
      }
    },
    {
      "cell_type": "markdown",
      "source": [
        "If we have a bag $R_1 R_2 W_1 W_2$ these are the ways we can select red-white-red:\\\n",
        "$R_1 W_1 R_1$\\\n",
        "$R_1 W_1 R_2$\\\n",
        "$R_1 W_2 R_1$\\\n",
        "$R_1 W_2 R_2$\\\n",
        "$R_2 W_1 R_1$\\\n",
        "$R_2 W_1 R_2$\\\n",
        "$R_2 W_2 R_1$\\\n",
        "$R_2 W_2 R_2$\\\n",
        "This is 8 ways"
      ],
      "metadata": {
        "id": "p2vDjMVIXtWR"
      }
    },
    {
      "cell_type": "markdown",
      "source": [
        "**Task11**:\n",
        "\n",
        "How many different ways can you select three balls so that order matters, given that there are 2 red marbles and 2 white marbles?"
      ],
      "metadata": {
        "id": "Bs7tx0pXhUZy"
      }
    },
    {
      "cell_type": "markdown",
      "source": [
        "Each ball selected has 4 possibilities, $R_1 R_2 W_1$ and $W_4$, so for 3 balls, 4 times 4 times 4 equals 64 different ways to select 3 balls."
      ],
      "metadata": {
        "id": "69ScN4NYh6ks"
      }
    },
    {
      "cell_type": "markdown",
      "source": [
        "**Task12**:\n",
        "\n",
        "What's the probablity you select red-white-red, given that there are 2 red marbles and 2 white marbles?\n",
        "\n",
        "Stated differently, Find the likelihood $p(y|θ)$, where $θ=RRWW$"
      ],
      "metadata": {
        "id": "k87Z69qUg9KV"
      }
    },
    {
      "cell_type": "markdown",
      "source": [
        "8 out of 64 equals a 12.5% chance, so $p(y|\\theta) = 0.125$."
      ],
      "metadata": {
        "id": "v5bdqu1nri3Y"
      }
    },
    {
      "cell_type": "markdown",
      "source": [
        "**Task13**:\n",
        "\n",
        "Find:\n",
        "\n",
        "- $p(y|WWWW)$\n",
        "- $p(y|RWWW)$\n",
        "- $p(y|RRWW)$\n",
        "- $p(y|RRRW)$\n",
        "- $p(y|RRRR)$"
      ],
      "metadata": {
        "id": "j6e9WP49sZJh"
      }
    },
    {
      "cell_type": "markdown",
      "source": [
        "$p(y|WWWW) = 0$\\\n",
        "\\\n",
        "$R_1W_1R_1, R_1W_2R_1, R_1W_3R_1$\\\n",
        "$p(y|RWWW) = 3/64 = 0.046875$\\\n",
        "\\\n",
        "$R_1W_1R_1, R_1W_2R_1, R_2W_1R_1, R_2W_2R_1, R_1W_1R_2, R_2W_1R_2, R_2W_2R_2, R_1W_2R_2$\\\n",
        "$p(y|RRWW) = 8/64 = 0.125$\\\n",
        "\\\n",
        "$R_1W_1R_1, R_2W_1R_1, R_1W_1R_2, R_2W_1R_2, R_3W_1R_1, R_3W_1R_2, R_3W_1R_3, R_1W_1R_3, R_2W_1R_3$\\\n",
        "$p(y|RRRW) = 9/64 = 0.140625$\\\n",
        "\\\n",
        "$p(y|RRRR) = 0$"
      ],
      "metadata": {
        "id": "NbSC4dj_tf4Y"
      }
    },
    {
      "cell_type": "markdown",
      "source": [
        "**Task14**:\n",
        "\n",
        "Find the probablity of getting red-white-red, $p(y)$"
      ],
      "metadata": {
        "id": "qxSVk_Sjv8Gk"
      }
    },
    {
      "cell_type": "markdown",
      "source": [
        "$p(y) = 1/5 * (0+0.046875+0.125+0.140625+0) = 0.0625$"
      ],
      "metadata": {
        "id": "N3PVjOk5wDZT"
      }
    },
    {
      "cell_type": "markdown",
      "source": [
        "**Task15**:\n",
        "\n",
        "Given that all color compositions are equally likely, and after observing  a draw of red-white-red, find the probability that there are two red marbles and two white marbles in the bag.\n",
        "\n",
        "In other words, find $p(θ|y)$, where $θ=RRWW$."
      ],
      "metadata": {
        "id": "CYoWtEwxyNB-"
      }
    },
    {
      "cell_type": "markdown",
      "source": [
        "$p(\\theta|y) = p(\\theta)*\\frac{p(y|\\theta)}{p(y)} = 0.2 * \\frac{0.125}{0.0625} = 0.4$"
      ],
      "metadata": {
        "id": "WxX-o3Uuy9eR"
      }
    },
    {
      "cell_type": "markdown",
      "source": [
        "**Task16**:\n",
        "\n",
        "Story time: The marble factory produces bags of four marbles. They want to make red marbles rare, so that people will get excited about them.  Therefore, for each 1 bag containing four red, they made 2 that contain three red, 3 that contain two red, 4 that contain one red, and 5 that contain zero red.\n",
        "\n",
        "With this new prior information, find $p(θ|y)$, where $θ=RRWW$."
      ],
      "metadata": {
        "id": "VgMdbaKW1o39"
      }
    },
    {
      "cell_type": "markdown",
      "source": [
        "RRWW now has a 3 out of 15 chance of showing up, or a probability of 0.2, which is the same as before.\\\n",
        "This means that $p(\\theta) = 0.2$\\\n",
        "$p(y|\\theta) = 0.125$ still, because it that case we are given $\\theta$\\\n",
        "$p(y)$ is now a weighted average based on this information, so $p(y) = \\frac{5}{15}0 + \\frac{4}{15}0.046875 + \\frac{3}{15}0.125 + \\frac{2}{15}0.140625 + \\frac{1}{15}0 = 0.05625$\\\n",
        "$p(\\theta|y) = p(\\theta)*\\frac{p(y|\\theta)}{p(y)} = 0.2 * \\frac{0.125}{0.05625} = 0.\\overline{4}$"
      ],
      "metadata": {
        "id": "UMMrUAIs3Dsi"
      }
    },
    {
      "cell_type": "markdown",
      "source": [
        "**Task17**:\n",
        "\n",
        "Write down similarities and differences between this marble example, and the VIctor Wembanyama FT example."
      ],
      "metadata": {
        "id": "ABn_s24K4K0H"
      }
    },
    {
      "cell_type": "markdown",
      "source": [
        "In this example, there is a defined spectrum of probabilities for what our set of marbles could like like (WWWW, RWWW, RRWW, RRRW, RRRR). In contrast, Wembanyama's true free throw percentage could be any real number from 0 to 1, not just one of 5 possibilities. In other words, the marbles are discrete, while a FT% is continuous. Continuous data is significantly harder to calculate by hand, and it's also harder to come up with a prior that is satisfying and reasonable than it is for discrete data. These examples are similar in that both have a binary outcome for a singular event, that being red or white and make or miss."
      ],
      "metadata": {
        "id": "CAmT3Bd34fhc"
      }
    }
  ]
}