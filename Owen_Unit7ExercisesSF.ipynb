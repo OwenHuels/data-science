{
  "cells": [
    {
      "cell_type": "markdown",
      "metadata": {
        "id": "view-in-github",
        "colab_type": "text"
      },
      "source": [
        "<a href=\"https://colab.research.google.com/github/OwenHuels/data-science/blob/main/Owen_Unit7ExercisesSF.ipynb\" target=\"_parent\"><img src=\"https://colab.research.google.com/assets/colab-badge.svg\" alt=\"Open In Colab\"/></a>"
      ]
    },
    {
      "cell_type": "markdown",
      "metadata": {
        "id": "nVWnEQSH4us3"
      },
      "source": [
        "# Fitting Curves: Concepts\n",
        "\n",
        "What you'll do:\n",
        "\n",
        "- Answer questions about what a GP is, and its relationship to GLMs and splines.\n",
        "- Practice applying one of: polynomial modeling, b splines, or GPs\n",
        "- You'll get a chance to read about and try to comprehend a more standard implementation of a GP.\n",
        "\n",
        "Have fun!"
      ]
    },
    {
      "cell_type": "markdown",
      "metadata": {
        "id": "dvOGkgka7zwk"
      },
      "source": [
        "**Task1**:\n",
        "\n",
        "Why would you ever want to include a polynomial element in a model you built? What's the benefit of using polynomials to model?"
      ]
    },
    {
      "cell_type": "markdown",
      "source": [
        "Polynomial elements can help to account for more complex trends in our data. This means that if our data doesn't show a simply straight line trend, we can capture it by using higher degree polynomials."
      ],
      "metadata": {
        "id": "bnjnA8ifeZzw"
      }
    },
    {
      "cell_type": "markdown",
      "metadata": {
        "id": "yoz8Bb-HQaqB"
      },
      "source": [
        "**Task2**:\n",
        "\n",
        "Why would you ever NOT want to include a polynomial element in a model you built?"
      ]
    },
    {
      "cell_type": "markdown",
      "source": [
        "If our relationship between our variables isn't that complex, we wouldn't want to use a polynomial element in our models because polynomial model tend to overfit pretty hard; It's difficult to prevent them from doing so in comparison to other types of models. Simpler models are also easier to interpret and generally run faster, so if the models seem to have equal predictive power, then we pick the one with no polynomial element."
      ],
      "metadata": {
        "id": "doV9_jq5e9mt"
      }
    },
    {
      "cell_type": "markdown",
      "metadata": {
        "id": "MaLdFTKNatZs"
      },
      "source": [
        "**Task3**:\n",
        "\n",
        "What's the point of using b splines?"
      ]
    },
    {
      "cell_type": "markdown",
      "source": [
        "B splines are useful when different parts (spaces on the x-axis) of our model have different trends going on. A b spline allows us to seperate these parts and fit different models to each one, which then are combined back together and weighted based on the number of data points in each splice. The reason we would use a b spline is that it gives us more flexibility to interpret our data in different ways, just like a polynomial regression, while making sure not to overfit the parts of our data that aren't too complex, which is where polynomial regressions tend to struggle."
      ],
      "metadata": {
        "id": "Eh7Pr4gUgQG4"
      }
    },
    {
      "cell_type": "markdown",
      "metadata": {
        "id": "M51jgnvxeg1o"
      },
      "source": [
        "**Task4**:\n",
        "\n",
        "Describe what a Gaussian Process is, in your own words. *Don't worry about being correct, just try to explain it to yourself*. I will not grade this question for accuracy."
      ]
    },
    {
      "cell_type": "markdown",
      "source": [
        "A Gaussian Process is a kind of limiting of a NN. A NN is like a b spline where instead of spliting the x axis into range and analyzing the trends within those ranges, you look at data points indivudally and analyze its relationships to the points around it. When the number of these points we analyze is every single data point available, that's a Gaussian Process. A Gaussian Process is kind of like a theoretically perfect model, but it's very intensive to run, which is why they aren't used very often."
      ],
      "metadata": {
        "id": "rLBdRIfghlaw"
      }
    },
    {
      "cell_type": "markdown",
      "source": [
        "**Task5**:\n",
        "\n",
        "Refit a model to the howell data, using one of the following: polynomial model, b splines, or GPs.\n",
        "Plot the posterior predictive check on a scatter plot\n",
        "\n",
        "You only need to use one . Remember, the simpler the model is, the better (usually).\n",
        "\n",
        "Hint: If you use a polynomial or bspline, try a disdributional model\n"
      ],
      "metadata": {
        "id": "94o5En1fQVja"
      }
    },
    {
      "cell_type": "code",
      "source": [
        "!pip install git+https://github.com/pydata/xarray.git\n",
        "!pip install bambi"
      ],
      "metadata": {
        "colab": {
          "base_uri": "https://localhost:8080/"
        },
        "collapsed": true,
        "id": "5mUrnfEliUuT",
        "outputId": "05443a3f-3e71-47f5-adcb-a9f45bd5063e"
      },
      "execution_count": 19,
      "outputs": [
        {
          "output_type": "stream",
          "name": "stdout",
          "text": [
            "Collecting git+https://github.com/pydata/xarray.git\n",
            "  Cloning https://github.com/pydata/xarray.git to /tmp/pip-req-build-5uu30lpj\n",
            "  Running command git clone --filter=blob:none --quiet https://github.com/pydata/xarray.git /tmp/pip-req-build-5uu30lpj\n",
            "  Resolved https://github.com/pydata/xarray.git to commit 1189240b2631fa27dec0cbea76bf3cf977b42fce\n",
            "  Installing build dependencies ... \u001b[?25l\u001b[?25hdone\n",
            "  Getting requirements to build wheel ... \u001b[?25l\u001b[?25hdone\n",
            "  Preparing metadata (pyproject.toml) ... \u001b[?25l\u001b[?25hdone\n",
            "Requirement already satisfied: numpy>=1.24 in /usr/local/lib/python3.11/dist-packages (from xarray==2025.1.3.dev12+g1189240b) (1.26.4)\n",
            "Requirement already satisfied: packaging>=23.2 in /usr/local/lib/python3.11/dist-packages (from xarray==2025.1.3.dev12+g1189240b) (24.2)\n",
            "Requirement already satisfied: pandas>=2.1 in /usr/local/lib/python3.11/dist-packages (from xarray==2025.1.3.dev12+g1189240b) (2.2.2)\n",
            "Requirement already satisfied: python-dateutil>=2.8.2 in /usr/local/lib/python3.11/dist-packages (from pandas>=2.1->xarray==2025.1.3.dev12+g1189240b) (2.8.2)\n",
            "Requirement already satisfied: pytz>=2020.1 in /usr/local/lib/python3.11/dist-packages (from pandas>=2.1->xarray==2025.1.3.dev12+g1189240b) (2025.1)\n",
            "Requirement already satisfied: tzdata>=2022.7 in /usr/local/lib/python3.11/dist-packages (from pandas>=2.1->xarray==2025.1.3.dev12+g1189240b) (2025.1)\n",
            "Requirement already satisfied: six>=1.5 in /usr/local/lib/python3.11/dist-packages (from python-dateutil>=2.8.2->pandas>=2.1->xarray==2025.1.3.dev12+g1189240b) (1.17.0)\n",
            "Requirement already satisfied: bambi in /usr/local/lib/python3.11/dist-packages (0.15.0)\n",
            "Requirement already satisfied: arviz>=0.12.0 in /usr/local/lib/python3.11/dist-packages (from bambi) (0.20.0)\n",
            "Requirement already satisfied: formulae>=0.5.3 in /usr/local/lib/python3.11/dist-packages (from bambi) (0.5.4)\n",
            "Requirement already satisfied: graphviz in /usr/local/lib/python3.11/dist-packages (from bambi) (0.20.3)\n",
            "Requirement already satisfied: pandas>=1.0.0 in /usr/local/lib/python3.11/dist-packages (from bambi) (2.2.2)\n",
            "Requirement already satisfied: pymc>=5.18.0 in /usr/local/lib/python3.11/dist-packages (from bambi) (5.20.0)\n",
            "Requirement already satisfied: setuptools>=60.0.0 in /usr/local/lib/python3.11/dist-packages (from arviz>=0.12.0->bambi) (75.1.0)\n",
            "Requirement already satisfied: matplotlib>=3.5 in /usr/local/lib/python3.11/dist-packages (from arviz>=0.12.0->bambi) (3.10.0)\n",
            "Requirement already satisfied: numpy>=1.23.0 in /usr/local/lib/python3.11/dist-packages (from arviz>=0.12.0->bambi) (1.26.4)\n",
            "Requirement already satisfied: scipy>=1.9.0 in /usr/local/lib/python3.11/dist-packages (from arviz>=0.12.0->bambi) (1.13.1)\n",
            "Requirement already satisfied: packaging in /usr/local/lib/python3.11/dist-packages (from arviz>=0.12.0->bambi) (24.2)\n",
            "Requirement already satisfied: xarray>=2022.6.0 in /usr/local/lib/python3.11/dist-packages (from arviz>=0.12.0->bambi) (2025.1.3.dev12+g1189240b)\n",
            "Requirement already satisfied: h5netcdf>=1.0.2 in /usr/local/lib/python3.11/dist-packages (from arviz>=0.12.0->bambi) (1.5.0)\n",
            "Requirement already satisfied: typing-extensions>=4.1.0 in /usr/local/lib/python3.11/dist-packages (from arviz>=0.12.0->bambi) (4.12.2)\n",
            "Requirement already satisfied: xarray-einstats>=0.3 in /usr/local/lib/python3.11/dist-packages (from arviz>=0.12.0->bambi) (0.8.0)\n",
            "Requirement already satisfied: python-dateutil>=2.8.2 in /usr/local/lib/python3.11/dist-packages (from pandas>=1.0.0->bambi) (2.8.2)\n",
            "Requirement already satisfied: pytz>=2020.1 in /usr/local/lib/python3.11/dist-packages (from pandas>=1.0.0->bambi) (2025.1)\n",
            "Requirement already satisfied: tzdata>=2022.7 in /usr/local/lib/python3.11/dist-packages (from pandas>=1.0.0->bambi) (2025.1)\n",
            "Requirement already satisfied: cachetools>=4.2.1 in /usr/local/lib/python3.11/dist-packages (from pymc>=5.18.0->bambi) (5.5.1)\n",
            "Requirement already satisfied: cloudpickle in /usr/local/lib/python3.11/dist-packages (from pymc>=5.18.0->bambi) (3.1.1)\n",
            "Requirement already satisfied: pytensor<2.27,>=2.26.1 in /usr/local/lib/python3.11/dist-packages (from pymc>=5.18.0->bambi) (2.26.4)\n",
            "Requirement already satisfied: rich>=13.7.1 in /usr/local/lib/python3.11/dist-packages (from pymc>=5.18.0->bambi) (13.9.4)\n",
            "Requirement already satisfied: threadpoolctl<4.0.0,>=3.1.0 in /usr/local/lib/python3.11/dist-packages (from pymc>=5.18.0->bambi) (3.5.0)\n",
            "Requirement already satisfied: h5py in /usr/local/lib/python3.11/dist-packages (from h5netcdf>=1.0.2->arviz>=0.12.0->bambi) (3.12.1)\n",
            "Requirement already satisfied: contourpy>=1.0.1 in /usr/local/lib/python3.11/dist-packages (from matplotlib>=3.5->arviz>=0.12.0->bambi) (1.3.1)\n",
            "Requirement already satisfied: cycler>=0.10 in /usr/local/lib/python3.11/dist-packages (from matplotlib>=3.5->arviz>=0.12.0->bambi) (0.12.1)\n",
            "Requirement already satisfied: fonttools>=4.22.0 in /usr/local/lib/python3.11/dist-packages (from matplotlib>=3.5->arviz>=0.12.0->bambi) (4.55.8)\n",
            "Requirement already satisfied: kiwisolver>=1.3.1 in /usr/local/lib/python3.11/dist-packages (from matplotlib>=3.5->arviz>=0.12.0->bambi) (1.4.8)\n",
            "Requirement already satisfied: pillow>=8 in /usr/local/lib/python3.11/dist-packages (from matplotlib>=3.5->arviz>=0.12.0->bambi) (11.1.0)\n",
            "Requirement already satisfied: pyparsing>=2.3.1 in /usr/local/lib/python3.11/dist-packages (from matplotlib>=3.5->arviz>=0.12.0->bambi) (3.2.1)\n",
            "Requirement already satisfied: filelock>=3.15 in /usr/local/lib/python3.11/dist-packages (from pytensor<2.27,>=2.26.1->pymc>=5.18.0->bambi) (3.17.0)\n",
            "Requirement already satisfied: etuples in /usr/local/lib/python3.11/dist-packages (from pytensor<2.27,>=2.26.1->pymc>=5.18.0->bambi) (0.3.9)\n",
            "Requirement already satisfied: logical-unification in /usr/local/lib/python3.11/dist-packages (from pytensor<2.27,>=2.26.1->pymc>=5.18.0->bambi) (0.4.6)\n",
            "Requirement already satisfied: miniKanren in /usr/local/lib/python3.11/dist-packages (from pytensor<2.27,>=2.26.1->pymc>=5.18.0->bambi) (1.0.3)\n",
            "Requirement already satisfied: cons in /usr/local/lib/python3.11/dist-packages (from pytensor<2.27,>=2.26.1->pymc>=5.18.0->bambi) (0.4.6)\n",
            "Requirement already satisfied: six>=1.5 in /usr/local/lib/python3.11/dist-packages (from python-dateutil>=2.8.2->pandas>=1.0.0->bambi) (1.17.0)\n",
            "Requirement already satisfied: markdown-it-py>=2.2.0 in /usr/local/lib/python3.11/dist-packages (from rich>=13.7.1->pymc>=5.18.0->bambi) (3.0.0)\n",
            "Requirement already satisfied: pygments<3.0.0,>=2.13.0 in /usr/local/lib/python3.11/dist-packages (from rich>=13.7.1->pymc>=5.18.0->bambi) (2.18.0)\n",
            "Requirement already satisfied: mdurl~=0.1 in /usr/local/lib/python3.11/dist-packages (from markdown-it-py>=2.2.0->rich>=13.7.1->pymc>=5.18.0->bambi) (0.1.2)\n",
            "Requirement already satisfied: toolz in /usr/local/lib/python3.11/dist-packages (from logical-unification->pytensor<2.27,>=2.26.1->pymc>=5.18.0->bambi) (0.12.1)\n",
            "Requirement already satisfied: multipledispatch in /usr/local/lib/python3.11/dist-packages (from logical-unification->pytensor<2.27,>=2.26.1->pymc>=5.18.0->bambi) (1.0.0)\n"
          ]
        }
      ]
    },
    {
      "cell_type": "code",
      "source": [
        "import numpy as np\n",
        "import pandas as pd\n",
        "import arviz as az\n",
        "import matplotlib.pyplot as plt\n",
        "import xarray as xr\n",
        "import bambi as bmb"
      ],
      "metadata": {
        "id": "i3OSQ2-YibI9"
      },
      "execution_count": 20,
      "outputs": []
    },
    {
      "cell_type": "code",
      "source": [
        "howell = pd.read_csv('https://raw.githubusercontent.com/thedarredondo/data-science-fundamentals/main/Data/howell.csv')"
      ],
      "metadata": {
        "id": "FKWA-b25iqip"
      },
      "execution_count": 21,
      "outputs": []
    },
    {
      "cell_type": "code",
      "source": [
        "formula_howell = bmb.Formula(\n",
        "    \"weight ~ poly(height, 3)\",\n",
        "    \"sigma ~ height\"\n",
        ")\n",
        "\n",
        "model_dis = bmb.Model(formula_howell, howell)\n",
        "\n",
        "idata_dis = model_dis.fit(idata_kwargs={\"log_likelihood\":True})"
      ],
      "metadata": {
        "colab": {
          "base_uri": "https://localhost:8080/",
          "height": 57,
          "referenced_widgets": [
            "6fcb1a85bb1d48d0aa3e3a1085640aea",
            "47b6f0341915486a8014faa60f6a52cb",
            "a6535e48f3564effbb137d11a4124f3a",
            "1237778b0edc487a9c752b7e76ef35f3"
          ]
        },
        "id": "OZvOlsCFi3zE",
        "outputId": "846b22bc-865d-44fc-fd7e-0756d32a7384"
      },
      "execution_count": 29,
      "outputs": [
        {
          "output_type": "display_data",
          "data": {
            "text/plain": [
              "Output()"
            ],
            "application/vnd.jupyter.widget-view+json": {
              "version_major": 2,
              "version_minor": 0,
              "model_id": "6fcb1a85bb1d48d0aa3e3a1085640aea"
            }
          },
          "metadata": {}
        },
        {
          "output_type": "display_data",
          "data": {
            "text/plain": [],
            "text/html": [
              "<pre style=\"white-space:pre;overflow-x:auto;line-height:normal;font-family:Menlo,'DejaVu Sans Mono',consolas,'Courier New',monospace\"></pre>\n"
            ]
          },
          "metadata": {}
        },
        {
          "output_type": "display_data",
          "data": {
            "text/plain": [
              "Output()"
            ],
            "application/vnd.jupyter.widget-view+json": {
              "version_major": 2,
              "version_minor": 0,
              "model_id": "a6535e48f3564effbb137d11a4124f3a"
            }
          },
          "metadata": {}
        },
        {
          "output_type": "display_data",
          "data": {
            "text/plain": [],
            "text/html": [
              "<pre style=\"white-space:pre;overflow-x:auto;line-height:normal;font-family:Menlo,'DejaVu Sans Mono',consolas,'Courier New',monospace\"></pre>\n"
            ]
          },
          "metadata": {}
        }
      ]
    },
    {
      "cell_type": "code",
      "source": [
        "bmb.interpret.plot_predictions(model_dis, idata_dis, \"height\", pps=True)\n",
        "plt.plot(howell.height, howell.weight, \"C2.\", zorder=-3)"
      ],
      "metadata": {
        "colab": {
          "base_uri": "https://localhost:8080/",
          "height": 501
        },
        "id": "z5BgTIJ4i6g7",
        "outputId": "6a8c2c12-bf5b-4b5d-8bdc-e04cfd81e6ee"
      },
      "execution_count": 30,
      "outputs": [
        {
          "output_type": "stream",
          "name": "stderr",
          "text": [
            "/usr/local/lib/python3.11/dist-packages/arviz/rcparams.py:368: FutureWarning: stats.hdi_prob is deprecated since 0.18.0, use stats.ci_prob instead\n",
            "  warnings.warn(\n"
          ]
        },
        {
          "output_type": "execute_result",
          "data": {
            "text/plain": [
              "[<matplotlib.lines.Line2D at 0x7d0d62ddb150>]"
            ]
          },
          "metadata": {},
          "execution_count": 30
        },
        {
          "output_type": "display_data",
          "data": {
            "text/plain": [
              "<Figure size 640x480 with 1 Axes>"
            ],
            "image/png": "[encoded data removed]"
          },
          "metadata": {}
        }
      ]
    },
    {
      "cell_type": "markdown",
      "source": [
        "**Task6**:\n",
        "\n",
        "Read the article on the pymc website about GP implementation on the Mauna Loa CO$_{2}$ data combined with CO$_{2}$ ice core data from the south pole.\n",
        "[Link here.](https://www.pymc.io/projects/examples/en/latest/gaussian_processes/GP-MaunaLoa2.html)\n",
        "\n",
        "Write down one thing you learned about GPs from reading the article.\n",
        "\n",
        "Note: You probably won't understand anything in this article. The main point of this task is to hammer home that good GP implementations are extremely technical."
      ],
      "metadata": {
        "id": "oYy-Gpzbpm8A"
      }
    },
    {
      "cell_type": "markdown",
      "source": [
        "I learned that you can design very accurate covariance function to give to your model if you have a lot of prior knowledge about what is going on with your data. The author made the model specifically switches priors at the time of the industrial revolution, which makes sense because human impact on the environment became much more significant and observable beginning at that time, so a more strong relationship with less variance should be allowed to occur after that time."
      ],
      "metadata": {
        "id": "O4XYdg7g7sKo"
      }
    },
    {
      "cell_type": "markdown",
      "source": [
        "**Task7**:\n",
        "\n",
        "Describe your favorite graph from the article in the previous task. Explain why its your favorite."
      ],
      "metadata": {
        "id": "T4dngCCrrO_q"
      }
    },
    {
      "cell_type": "markdown",
      "source": [
        "My favorite graph was the very first black and blue graph of the posterior predictive samples, coming from the first model. I found this graph very interesting because it predict the observed data extremely well, but the trend going to the future is way off from what we would reasonably expect in the real world. The fact that you can create a model whos fit is so good but whose future predictive power is so bad shows how careful you need to be that you actually understand what your model is doing to avoid making predictions that make mathematical sense but realistically make no logical sense."
      ],
      "metadata": {
        "id": "mONa5JlW7Bb-"
      }
    }
  ],
  "metadata": {
    "colab": {
      "provenance": [],
      "include_colab_link": true
    },
    "kernelspec": {
      "display_name": "Python 3",
      "name": "python3"
    },
    "language_info": {
      "name": "python"
    },
    "widgets": {
      "application/vnd.jupyter.widget-state+json": {
        "6fcb1a85bb1d48d0aa3e3a1085640aea": {
          "model_module": "@jupyter-widgets/output",
          "model_name": "OutputModel",
          "model_module_version": "1.0.0",
          "state": {
            "_dom_classes": [],
            "_model_module": "@jupyter-widgets/output",
            "_model_module_version": "1.0.0",
            "_model_name": "OutputModel",
            "_view_count": null,
            "_view_module": "@jupyter-widgets/output",
            "_view_module_version": "1.0.0",
            "_view_name": "OutputView",
            "layout": "IPY_MODEL_47b6f0341915486a8014faa60f6a52cb",
            "msg_id": "",
            "outputs": [
              {
                "output_type": "display_data",
                "data": {
                  "text/plain": "Sampling chain 0, 0 divergences \u001b[32m━━━━━━━━━━━━━━━━━━━━━━━━━━━━━━━━━━━━━━━━\u001b[0m \u001b[35m100%\u001b[0m \u001b[36m0:00:00\u001b[0m / \u001b[33m0:00:11\u001b[0m\n",
                  "text/html": "<pre style=\"white-space:pre;overflow-x:auto;line-height:normal;font-family:Menlo,'DejaVu Sans Mono',consolas,'Courier New',monospace\">Sampling chain 0, 0 divergences <span style=\"color: #008000; text-decoration-color: #008000\">━━━━━━━━━━━━━━━━━━━━━━━━━━━━━━━━━━━━━━━━</span> <span style=\"color: #800080; text-decoration-color: #800080\">100%</span> <span style=\"color: #008080; text-decoration-color: #008080\">0:00:00</span> / <span style=\"color: #808000; text-decoration-color: #808000\">0:00:11</span>\n</pre>\n"
                },
                "metadata": {}
              }
            ]
          }
        },
        "47b6f0341915486a8014faa60f6a52cb": {
          "model_module": "@jupyter-widgets/base",
          "model_name": "LayoutModel",
          "model_module_version": "1.2.0",
          "state": {
            "_model_module": "@jupyter-widgets/base",
            "_model_module_version": "1.2.0",
            "_model_name": "LayoutModel",
            "_view_count": null,
            "_view_module": "@jupyter-widgets/base",
            "_view_module_version": "1.2.0",
            "_view_name": "LayoutView",
            "align_content": null,
            "align_items": null,
            "align_self": null,
            "border": null,
            "bottom": null,
            "display": null,
            "flex": null,
            "flex_flow": null,
            "grid_area": null,
            "grid_auto_columns": null,
            "grid_auto_flow": null,
            "grid_auto_rows": null,
            "grid_column": null,
            "grid_gap": null,
            "grid_row": null,
            "grid_template_areas": null,
            "grid_template_columns": null,
            "grid_template_rows": null,
            "height": null,
            "justify_content": null,
            "justify_items": null,
            "left": null,
            "margin": null,
            "max_height": null,
            "max_width": null,
            "min_height": null,
            "min_width": null,
            "object_fit": null,
            "object_position": null,
            "order": null,
            "overflow": null,
            "overflow_x": null,
            "overflow_y": null,
            "padding": null,
            "right": null,
            "top": null,
            "visibility": null,
            "width": null
          }
        },
        "a6535e48f3564effbb137d11a4124f3a": {
          "model_module": "@jupyter-widgets/output",
          "model_name": "OutputModel",
          "model_module_version": "1.0.0",
          "state": {
            "_dom_classes": [],
            "_model_module": "@jupyter-widgets/output",
            "_model_module_version": "1.0.0",
            "_model_name": "OutputModel",
            "_view_count": null,
            "_view_module": "@jupyter-widgets/output",
            "_view_module_version": "1.0.0",
            "_view_name": "OutputView",
            "layout": "IPY_MODEL_1237778b0edc487a9c752b7e76ef35f3",
            "msg_id": "",
            "outputs": [
              {
                "output_type": "display_data",
                "data": {
                  "text/plain": "Sampling chain 1, 0 divergences \u001b[32m━━━━━━━━━━━━━━━━━━━━━━━━━━━━━━━━━━━━━━━━\u001b[0m \u001b[35m100%\u001b[0m \u001b[36m0:00:00\u001b[0m / \u001b[33m0:00:09\u001b[0m\n",
                  "text/html": "<pre style=\"white-space:pre;overflow-x:auto;line-height:normal;font-family:Menlo,'DejaVu Sans Mono',consolas,'Courier New',monospace\">Sampling chain 1, 0 divergences <span style=\"color: #008000; text-decoration-color: #008000\">━━━━━━━━━━━━━━━━━━━━━━━━━━━━━━━━━━━━━━━━</span> <span style=\"color: #800080; text-decoration-color: #800080\">100%</span> <span style=\"color: #008080; text-decoration-color: #008080\">0:00:00</span> / <span style=\"color: #808000; text-decoration-color: #808000\">0:00:09</span>\n</pre>\n"
                },
                "metadata": {}
              }
            ]
          }
        },
        "1237778b0edc487a9c752b7e76ef35f3": {
          "model_module": "@jupyter-widgets/base",
          "model_name": "LayoutModel",
          "model_module_version": "1.2.0",
          "state": {
            "_model_module": "@jupyter-widgets/base",
            "_model_module_version": "1.2.0",
            "_model_name": "LayoutModel",
            "_view_count": null,
            "_view_module": "@jupyter-widgets/base",
            "_view_module_version": "1.2.0",
            "_view_name": "LayoutView",
            "align_content": null,
            "align_items": null,
            "align_self": null,
            "border": null,
            "bottom": null,
            "display": null,
            "flex": null,
            "flex_flow": null,
            "grid_area": null,
            "grid_auto_columns": null,
            "grid_auto_flow": null,
            "grid_auto_rows": null,
            "grid_column": null,
            "grid_gap": null,
            "grid_row": null,
            "grid_template_areas": null,
            "grid_template_columns": null,
            "grid_template_rows": null,
            "height": null,
            "justify_content": null,
            "justify_items": null,
            "left": null,
            "margin": null,
            "max_height": null,
            "max_width": null,
            "min_height": null,
            "min_width": null,
            "object_fit": null,
            "object_position": null,
            "order": null,
            "overflow": null,
            "overflow_x": null,
            "overflow_y": null,
            "padding": null,
            "right": null,
            "top": null,
            "visibility": null,
            "width": null
          }
        }
      }
    }
  },
  "nbformat": 4,
  "nbformat_minor": 0
}