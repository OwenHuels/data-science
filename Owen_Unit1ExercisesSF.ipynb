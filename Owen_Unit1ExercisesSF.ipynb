{
  "nbformat": 4,
  "nbformat_minor": 0,
  "metadata": {
    "colab": {
      "provenance": [],
      "include_colab_link": true
    },
    "kernelspec": {
      "name": "python3",
      "display_name": "Python 3"
    },
    "language_info": {
      "name": "python"
    }
  },
  "cells": [
    {
      "cell_type": "markdown",
      "metadata": {
        "id": "view-in-github",
        "colab_type": "text"
      },
      "source": [
        "<a href=\"https://colab.research.google.com/github/OwenHuels/data-science/blob/main/Owen_Unit1ExercisesSF.ipynb\" target=\"_parent\"><img src=\"https://colab.research.google.com/assets/colab-badge.svg\" alt=\"Open In Colab\"/></a>"
      ]
    },
    {
      "cell_type": "markdown",
      "source": [
        "# Unit 1 Exercises: Data Structure Concepts\n",
        "\n",
        "The following questions will ask you to describe the various objects we learned about in the first Unit.\n",
        "\n",
        "I'm not giving you coding exercises, because we will learn all the coding technqiues we need as we move through the course.\n",
        "\n",
        "What I do need from you right now, is a conceptual understanding how how data is stored in our computer, when we use python."
      ],
      "metadata": {
        "id": "65OCktLjbZmA"
      }
    },
    {
      "cell_type": "markdown",
      "source": [
        "**Task1**:\n",
        "\n",
        "Describe the similarities and differences between an int and a float in python."
      ],
      "metadata": {
        "id": "bt0bWe1evLtv"
      }
    },
    {
      "cell_type": "markdown",
      "source": [
        "**Answer1**:\n",
        "\n",
        "Ints and floats in python are both object types that are numbers; they can have mathematical operations performed on them. The difference between them is that ints are only integers, while floats can have decimal places. Floats also take up a set amount of memory space, while ints can change the amount of space they take up. Floats are good for small numbers close to zero, while integers are good for larger numbers. Floats become less accurate as you get farther away from zero."
      ],
      "metadata": {
        "id": "FW3KHt4yvt90"
      }
    },
    {
      "cell_type": "markdown",
      "source": [
        "**Task2**:\n",
        "\n",
        "Describe the similarities and differences between: strings, lists, and dicts."
      ],
      "metadata": {
        "id": "mJ_i6he5wwgr"
      }
    },
    {
      "cell_type": "markdown",
      "source": [
        "**Answer2**:\n",
        "\n",
        "Strings, lists, and dicts are all iterable (or mostly iterable) data types. A string is a single word or sentence contained in a variable. Strings are immutable. Lists contain any number of individual entrys, which can be different object types, not just strings. Lists are mutable. Dicts are very similar to lists in the types of data they hold, but they hold it in key/value pairs, where the value can be accessed by using its key."
      ],
      "metadata": {
        "id": "iFu5BKyWw98T"
      }
    },
    {
      "cell_type": "markdown",
      "source": [
        "**Task3**:\n",
        "\n",
        "What is a numpy array? Why would we ever use one over a list or dict?"
      ],
      "metadata": {
        "id": "56v05s45yBHk"
      }
    },
    {
      "cell_type": "markdown",
      "source": [
        "**Answer3**:\n",
        "\n",
        "Numpy arrays are like lists that only contain one data type, converting all data types into a single type. This is useful for manipulating data, as it is often easier to do so when every entry is of the same type. Lists and dicts do not have this property. You can also easily perform operations, like scalar multiplication, on numpy arrays, which is often useful. Arrays can also be used to create matrices."
      ],
      "metadata": {
        "id": "eikgxyNzyLTY"
      }
    },
    {
      "cell_type": "markdown",
      "source": [
        "**Task4**:\n",
        "\n",
        "What is a pandas dataframe? Why would we ever want to use one over a numpy array?"
      ],
      "metadata": {
        "id": "RLaEQ5irywBl"
      }
    },
    {
      "cell_type": "markdown",
      "source": [
        "**Answer4**:\n",
        "\n",
        "A pandas dataframe is based off of a numpy array, but turns it into a 2d sheet with rows (each with its own index) and columns (with labels). Dataframes are useful over numpy arrays because they provide a convinient, visual representation of data, and can also be spliced for specific rows and columns relatively easily."
      ],
      "metadata": {
        "id": "5IkNlzYpy-HP"
      }
    },
    {
      "cell_type": "markdown",
      "source": [
        "**Task5**:\n",
        "\n",
        "What are for loops, and why would we ever use them?"
      ],
      "metadata": {
        "id": "khRn2d7qz1Y2"
      }
    },
    {
      "cell_type": "markdown",
      "source": [
        "**Answer5**:\n",
        "\n",
        "For loops are used when you there is not a dataframe method available to perform data wrangling. For loops iterate through a given iterable as many times as it can, allowing you to look through each entry in a dataframe and perform some operation or task with them."
      ],
      "metadata": {
        "id": "NAdVfRZB1d9J"
      }
    }
  ]
}