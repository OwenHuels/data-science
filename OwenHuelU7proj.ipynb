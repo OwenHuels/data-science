{
  "cells": [
    {
      "cell_type": "markdown",
      "metadata": {
        "id": "view-in-github",
        "colab_type": "text"
      },
      "source": [
        "<a href=\"https://colab.research.google.com/github/OwenHuels/data-science/blob/main/OwenHuelU7proj.ipynb\" target=\"_parent\"><img src=\"https://colab.research.google.com/assets/colab-badge.svg\" alt=\"Open In Colab\"/></a>"
      ]
    },
    {
      "cell_type": "code",
      "execution_count": null,
      "metadata": {
        "colab": {
          "base_uri": "https://localhost:8080/"
        },
        "collapsed": true,
        "id": "gc8S35xTCreG",
        "outputId": "19527c0d-a0a4-4efb-e7ee-0e6e661cb6de"
      },
      "outputs": [
        {
          "output_type": "stream",
          "name": "stdout",
          "text": [
            "Collecting git+https://github.com/pydata/xarray.git\n",
            "  Cloning https://github.com/pydata/xarray.git to /tmp/pip-req-build-ytz3k09r\n",
            "  Running command git clone --filter=blob:none --quiet https://github.com/pydata/xarray.git /tmp/pip-req-build-ytz3k09r\n",
            "  Resolved https://github.com/pydata/xarray.git to commit 0184702f16c3f744fc9096c7dac690626dcc6922\n",
            "  Installing build dependencies ... \u001b[?25l\u001b[?25hdone\n",
            "  Getting requirements to build wheel ... \u001b[?25l\u001b[?25hdone\n",
            "  Preparing metadata (pyproject.toml) ... \u001b[?25l\u001b[?25hdone\n",
            "Requirement already satisfied: numpy>=1.24 in /usr/local/lib/python3.11/dist-packages (from xarray==2025.1.3.dev22+g0184702f) (1.26.4)\n",
            "Requirement already satisfied: packaging>=23.2 in /usr/local/lib/python3.11/dist-packages (from xarray==2025.1.3.dev22+g0184702f) (24.2)\n",
            "Requirement already satisfied: pandas>=2.1 in /usr/local/lib/python3.11/dist-packages (from xarray==2025.1.3.dev22+g0184702f) (2.2.2)\n",
            "Requirement already satisfied: python-dateutil>=2.8.2 in /usr/local/lib/python3.11/dist-packages (from pandas>=2.1->xarray==2025.1.3.dev22+g0184702f) (2.8.2)\n",
            "Requirement already satisfied: pytz>=2020.1 in /usr/local/lib/python3.11/dist-packages (from pandas>=2.1->xarray==2025.1.3.dev22+g0184702f) (2025.1)\n",
            "Requirement already satisfied: tzdata>=2022.7 in /usr/local/lib/python3.11/dist-packages (from pandas>=2.1->xarray==2025.1.3.dev22+g0184702f) (2025.1)\n",
            "Requirement already satisfied: six>=1.5 in /usr/local/lib/python3.11/dist-packages (from python-dateutil>=2.8.2->pandas>=2.1->xarray==2025.1.3.dev22+g0184702f) (1.17.0)\n",
            "Building wheels for collected packages: xarray\n",
            "  Building wheel for xarray (pyproject.toml) ... \u001b[?25l\u001b[?25hdone\n",
            "  Created wheel for xarray: filename=xarray-2025.1.3.dev22+g0184702f-py3-none-any.whl size=1262235 sha256=95c2c94921097df55340ddad177d5d1588b8e157b574481ddb10bf51d352499f\n",
            "  Stored in directory: /tmp/pip-ephem-wheel-cache-m2bwe15z/wheels/15/f9/46/ac58ec95d7761bd0b92f54d99c5d132719866f63745c3702ed\n",
            "Successfully built xarray\n",
            "Installing collected packages: xarray\n",
            "  Attempting uninstall: xarray\n",
            "    Found existing installation: xarray 2025.1.2\n",
            "    Uninstalling xarray-2025.1.2:\n",
            "      Successfully uninstalled xarray-2025.1.2\n",
            "Successfully installed xarray-2025.1.3.dev22+g0184702f\n",
            "Collecting preliz\n",
            "  Downloading preliz-0.15.0-py3-none-any.whl.metadata (6.1 kB)\n",
            "Requirement already satisfied: matplotlib>=3.7 in /usr/local/lib/python3.11/dist-packages (from preliz) (3.10.0)\n",
            "Requirement already satisfied: numba>=0.59 in /usr/local/lib/python3.11/dist-packages (from preliz) (0.61.0)\n",
            "Requirement already satisfied: numpy>=1.24 in /usr/local/lib/python3.11/dist-packages (from preliz) (1.26.4)\n",
            "Collecting scipy<1.13,>=1.10 (from preliz)\n",
            "  Downloading scipy-1.12.0-cp311-cp311-manylinux_2_17_x86_64.manylinux2014_x86_64.whl.metadata (60 kB)\n",
            "\u001b[2K     \u001b[90m━━━━━━━━━━━━━━━━━━━━━━━━━━━━━━━━━━━━━━━━\u001b[0m \u001b[32m60.4/60.4 kB\u001b[0m \u001b[31m2.1 MB/s\u001b[0m eta \u001b[36m0:00:00\u001b[0m\n",
            "\u001b[?25hRequirement already satisfied: contourpy>=1.0.1 in /usr/local/lib/python3.11/dist-packages (from matplotlib>=3.7->preliz) (1.3.1)\n",
            "Requirement already satisfied: cycler>=0.10 in /usr/local/lib/python3.11/dist-packages (from matplotlib>=3.7->preliz) (0.12.1)\n",
            "Requirement already satisfied: fonttools>=4.22.0 in /usr/local/lib/python3.11/dist-packages (from matplotlib>=3.7->preliz) (4.56.0)\n",
            "Requirement already satisfied: kiwisolver>=1.3.1 in /usr/local/lib/python3.11/dist-packages (from matplotlib>=3.7->preliz) (1.4.8)\n",
            "Requirement already satisfied: packaging>=20.0 in /usr/local/lib/python3.11/dist-packages (from matplotlib>=3.7->preliz) (24.2)\n",
            "Requirement already satisfied: pillow>=8 in /usr/local/lib/python3.11/dist-packages (from matplotlib>=3.7->preliz) (11.1.0)\n",
            "Requirement already satisfied: pyparsing>=2.3.1 in /usr/local/lib/python3.11/dist-packages (from matplotlib>=3.7->preliz) (3.2.1)\n",
            "Requirement already satisfied: python-dateutil>=2.7 in /usr/local/lib/python3.11/dist-packages (from matplotlib>=3.7->preliz) (2.8.2)\n",
            "Requirement already satisfied: llvmlite<0.45,>=0.44.0dev0 in /usr/local/lib/python3.11/dist-packages (from numba>=0.59->preliz) (0.44.0)\n",
            "Requirement already satisfied: six>=1.5 in /usr/local/lib/python3.11/dist-packages (from python-dateutil>=2.7->matplotlib>=3.7->preliz) (1.17.0)\n",
            "Downloading preliz-0.15.0-py3-none-any.whl (517 kB)\n",
            "\u001b[2K   \u001b[90m━━━━━━━━━━━━━━━━━━━━━━━━━━━━━━━━━━━━━━━━\u001b[0m \u001b[32m517.1/517.1 kB\u001b[0m \u001b[31m8.4 MB/s\u001b[0m eta \u001b[36m0:00:00\u001b[0m\n",
            "\u001b[?25hDownloading scipy-1.12.0-cp311-cp311-manylinux_2_17_x86_64.manylinux2014_x86_64.whl (38.4 MB)\n",
            "\u001b[2K   \u001b[90m━━━━━━━━━━━━━━━━━━━━━━━━━━━━━━━━━━━━━━━━\u001b[0m \u001b[32m38.4/38.4 MB\u001b[0m \u001b[31m15.6 MB/s\u001b[0m eta \u001b[36m0:00:00\u001b[0m\n",
            "\u001b[?25hInstalling collected packages: scipy, preliz\n",
            "  Attempting uninstall: scipy\n",
            "    Found existing installation: scipy 1.13.1\n",
            "    Uninstalling scipy-1.13.1:\n",
            "      Successfully uninstalled scipy-1.13.1\n",
            "Successfully installed preliz-0.15.0 scipy-1.12.0\n",
            "Collecting bambi\n",
            "  Downloading bambi-0.15.0-py3-none-any.whl.metadata (8.8 kB)\n",
            "Requirement already satisfied: arviz>=0.12.0 in /usr/local/lib/python3.11/dist-packages (from bambi) (0.20.0)\n",
            "Collecting formulae>=0.5.3 (from bambi)\n",
            "  Downloading formulae-0.5.4-py3-none-any.whl.metadata (4.5 kB)\n",
            "Requirement already satisfied: graphviz in /usr/local/lib/python3.11/dist-packages (from bambi) (0.20.3)\n",
            "Requirement already satisfied: pandas>=1.0.0 in /usr/local/lib/python3.11/dist-packages (from bambi) (2.2.2)\n",
            "Requirement already satisfied: pymc>=5.18.0 in /usr/local/lib/python3.11/dist-packages (from bambi) (5.20.1)\n",
            "Requirement already satisfied: setuptools>=60.0.0 in /usr/local/lib/python3.11/dist-packages (from arviz>=0.12.0->bambi) (75.1.0)\n",
            "Requirement already satisfied: matplotlib>=3.5 in /usr/local/lib/python3.11/dist-packages (from arviz>=0.12.0->bambi) (3.10.0)\n",
            "Requirement already satisfied: numpy>=1.23.0 in /usr/local/lib/python3.11/dist-packages (from arviz>=0.12.0->bambi) (1.26.4)\n",
            "Requirement already satisfied: scipy>=1.9.0 in /usr/local/lib/python3.11/dist-packages (from arviz>=0.12.0->bambi) (1.12.0)\n",
            "Requirement already satisfied: packaging in /usr/local/lib/python3.11/dist-packages (from arviz>=0.12.0->bambi) (24.2)\n",
            "Requirement already satisfied: xarray>=2022.6.0 in /usr/local/lib/python3.11/dist-packages (from arviz>=0.12.0->bambi) (2025.1.3.dev22+g0184702f)\n",
            "Requirement already satisfied: h5netcdf>=1.0.2 in /usr/local/lib/python3.11/dist-packages (from arviz>=0.12.0->bambi) (1.5.0)\n",
            "Requirement already satisfied: typing-extensions>=4.1.0 in /usr/local/lib/python3.11/dist-packages (from arviz>=0.12.0->bambi) (4.12.2)\n",
            "Requirement already satisfied: xarray-einstats>=0.3 in /usr/local/lib/python3.11/dist-packages (from arviz>=0.12.0->bambi) (0.8.0)\n",
            "Requirement already satisfied: python-dateutil>=2.8.2 in /usr/local/lib/python3.11/dist-packages (from pandas>=1.0.0->bambi) (2.8.2)\n",
            "Requirement already satisfied: pytz>=2020.1 in /usr/local/lib/python3.11/dist-packages (from pandas>=1.0.0->bambi) (2025.1)\n",
            "Requirement already satisfied: tzdata>=2022.7 in /usr/local/lib/python3.11/dist-packages (from pandas>=1.0.0->bambi) (2025.1)\n",
            "Requirement already satisfied: cachetools>=4.2.1 in /usr/local/lib/python3.11/dist-packages (from pymc>=5.18.0->bambi) (5.5.2)\n",
            "Requirement already satisfied: cloudpickle in /usr/local/lib/python3.11/dist-packages (from pymc>=5.18.0->bambi) (3.1.1)\n",
            "Requirement already satisfied: pytensor<2.28,>=2.26.1 in /usr/local/lib/python3.11/dist-packages (from pymc>=5.18.0->bambi) (2.27.1)\n",
            "Requirement already satisfied: rich>=13.7.1 in /usr/local/lib/python3.11/dist-packages (from pymc>=5.18.0->bambi) (13.9.4)\n",
            "Requirement already satisfied: threadpoolctl<4.0.0,>=3.1.0 in /usr/local/lib/python3.11/dist-packages (from pymc>=5.18.0->bambi) (3.5.0)\n",
            "Requirement already satisfied: h5py in /usr/local/lib/python3.11/dist-packages (from h5netcdf>=1.0.2->arviz>=0.12.0->bambi) (3.12.1)\n",
            "Requirement already satisfied: contourpy>=1.0.1 in /usr/local/lib/python3.11/dist-packages (from matplotlib>=3.5->arviz>=0.12.0->bambi) (1.3.1)\n",
            "Requirement already satisfied: cycler>=0.10 in /usr/local/lib/python3.11/dist-packages (from matplotlib>=3.5->arviz>=0.12.0->bambi) (0.12.1)\n",
            "Requirement already satisfied: fonttools>=4.22.0 in /usr/local/lib/python3.11/dist-packages (from matplotlib>=3.5->arviz>=0.12.0->bambi) (4.56.0)\n",
            "Requirement already satisfied: kiwisolver>=1.3.1 in /usr/local/lib/python3.11/dist-packages (from matplotlib>=3.5->arviz>=0.12.0->bambi) (1.4.8)\n",
            "Requirement already satisfied: pillow>=8 in /usr/local/lib/python3.11/dist-packages (from matplotlib>=3.5->arviz>=0.12.0->bambi) (11.1.0)\n",
            "Requirement already satisfied: pyparsing>=2.3.1 in /usr/local/lib/python3.11/dist-packages (from matplotlib>=3.5->arviz>=0.12.0->bambi) (3.2.1)\n",
            "Requirement already satisfied: filelock>=3.15 in /usr/local/lib/python3.11/dist-packages (from pytensor<2.28,>=2.26.1->pymc>=5.18.0->bambi) (3.17.0)\n",
            "Requirement already satisfied: etuples in /usr/local/lib/python3.11/dist-packages (from pytensor<2.28,>=2.26.1->pymc>=5.18.0->bambi) (0.3.9)\n",
            "Requirement already satisfied: logical-unification in /usr/local/lib/python3.11/dist-packages (from pytensor<2.28,>=2.26.1->pymc>=5.18.0->bambi) (0.4.6)\n",
            "Requirement already satisfied: miniKanren in /usr/local/lib/python3.11/dist-packages (from pytensor<2.28,>=2.26.1->pymc>=5.18.0->bambi) (1.0.3)\n",
            "Requirement already satisfied: cons in /usr/local/lib/python3.11/dist-packages (from pytensor<2.28,>=2.26.1->pymc>=5.18.0->bambi) (0.4.6)\n",
            "Requirement already satisfied: six>=1.5 in /usr/local/lib/python3.11/dist-packages (from python-dateutil>=2.8.2->pandas>=1.0.0->bambi) (1.17.0)\n",
            "Requirement already satisfied: markdown-it-py>=2.2.0 in /usr/local/lib/python3.11/dist-packages (from rich>=13.7.1->pymc>=5.18.0->bambi) (3.0.0)\n",
            "Requirement already satisfied: pygments<3.0.0,>=2.13.0 in /usr/local/lib/python3.11/dist-packages (from rich>=13.7.1->pymc>=5.18.0->bambi) (2.18.0)\n",
            "Requirement already satisfied: mdurl~=0.1 in /usr/local/lib/python3.11/dist-packages (from markdown-it-py>=2.2.0->rich>=13.7.1->pymc>=5.18.0->bambi) (0.1.2)\n",
            "Requirement already satisfied: toolz in /usr/local/lib/python3.11/dist-packages (from logical-unification->pytensor<2.28,>=2.26.1->pymc>=5.18.0->bambi) (0.12.1)\n",
            "Requirement already satisfied: multipledispatch in /usr/local/lib/python3.11/dist-packages (from logical-unification->pytensor<2.28,>=2.26.1->pymc>=5.18.0->bambi) (1.0.0)\n",
            "Downloading bambi-0.15.0-py3-none-any.whl (109 kB)\n",
            "\u001b[2K   \u001b[90m━━━━━━━━━━━━━━━━━━━━━━━━━━━━━━━━━━━━━━━━\u001b[0m \u001b[32m109.2/109.2 kB\u001b[0m \u001b[31m2.5 MB/s\u001b[0m eta \u001b[36m0:00:00\u001b[0m\n",
            "\u001b[?25hDownloading formulae-0.5.4-py3-none-any.whl (53 kB)\n",
            "\u001b[2K   \u001b[90m━━━━━━━━━━━━━━━━━━━━━━━━━━━━━━━━━━━━━━━━\u001b[0m \u001b[32m53.7/53.7 kB\u001b[0m \u001b[31m4.4 MB/s\u001b[0m eta \u001b[36m0:00:00\u001b[0m\n",
            "\u001b[?25hInstalling collected packages: formulae, bambi\n",
            "Successfully installed bambi-0.15.0 formulae-0.5.4\n"
          ]
        }
      ],
      "source": [
        "!pip install git+https://github.com/pydata/xarray.git\n",
        "!pip install preliz\n",
        "!pip install bambi"
      ]
    },
    {
      "cell_type": "code",
      "execution_count": null,
      "metadata": {
        "id": "ZelbgMe9jr-s"
      },
      "outputs": [],
      "source": [
        "import preliz as pz\n",
        "import bambi as bmb\n",
        "import pymc as pm\n",
        "import numpy as np\n",
        "import pandas as pd\n",
        "import arviz as az\n",
        "import matplotlib.pyplot as plt"
      ]
    },
    {
      "cell_type": "markdown",
      "metadata": {
        "id": "qgQ4re21CYCP"
      },
      "source": [
        "#**Unit 7 Project: Predicting NFL Player Receiving Metrics Using Fitting Curves**"
      ]
    },
    {
      "cell_type": "markdown",
      "metadata": {
        "id": "dUuZnxwYcTIJ"
      },
      "source": [
        "##**Context**\n",
        "\n",
        "In the NFL, touchdowns are everything. Getting a touchdown means at least 6 points on the board for your team, a massive boost. Touchdowns can be gained through running the ball, sure, but an explosive passing play is one of the most cool ways to get one. Players that can generate a lot of receiving touchdowns are often the most sought after and impactful players in the league.\n",
        "\n",
        "I want to try to predict how many receiving touchdowns an NFL player might record in a season based on a number of different statistics. I'll be using bambi to create Polynomial GLMs, B-Splines, and Gaussian Processes to carry out my analysis."
      ]
    },
    {
      "cell_type": "markdown",
      "metadata": {
        "id": "_bW_IYvTa-fe"
      },
      "source": [
        "##**Data**"
      ]
    },
    {
      "cell_type": "markdown",
      "metadata": {
        "id": "PvAg1G5CR0XT"
      },
      "source": [
        "Before we begin to create and test models, here is the raw data."
      ]
    },
    {
      "cell_type": "code",
      "execution_count": null,
      "metadata": {
        "colab": {
          "base_uri": "https://localhost:8080/",
          "height": 424
        },
        "id": "k9K2f0J3RFS9",
        "outputId": "b74b5ae6-3fd8-446b-e9a6-5b117d9e0a69"
      },
      "outputs": [
        {
          "output_type": "execute_result",
          "data": {
            "text/plain": [
              "                Player  Age Team Pos   G  GS  Tgt  Rec   Yds   Y/R  ...  1D  \\\n",
              "0        Ja'Marr Chase   24  CIN  WR  17  16  175  127  1708  13.4  ...  75   \n",
              "1    Amon-Ra St. Brown   25  DET  WR  17  17  141  115  1263  11.0  ...  73   \n",
              "2         Brock Bowers   22  LVR  TE  17  16  153  112  1194  10.7  ...  61   \n",
              "3         Trey McBride   25  ARI  TE  16  16  147  111  1146  10.3  ...  63   \n",
              "4         Malik Nabers   21  NYG  WR  15  13  170  109  1204  11.0  ...  55   \n",
              "..                 ...  ...  ...  ..  ..  ..  ...  ...   ...   ...  ...  ..   \n",
              "589     Jameis Winston   30  CLE  QB  12   7    0    0     0   NaN  ...   0   \n",
              "590      Tristan Wirfs   25  TAM   T  16  16    0    0     9   NaN  ...   0   \n",
              "591        Bryce Young   23  CAR  QB  14  12    0    0     0   NaN  ...   0   \n",
              "592       Dareke Young   25  SEA  WR  14   0    1    0     0   NaN  ...   0   \n",
              "593       Bailey Zappe   25  CLE  QB   1   1    0    0     0   NaN  ...   0   \n",
              "\n",
              "     Succ%   Lng  R/G    Y/G  Ctch%  Y/Tgt  Fmb                   Awards  \\\n",
              "0     62.3  70.0  7.5  100.5   72.6    9.8    0  PBAP-1AP MVP-8AP OPoY-3   \n",
              "1     70.2  66.0  6.8   74.3   81.6    9.0    1         PBAP-1AP OPoY-11   \n",
              "2     60.8  57.0  6.6   70.2   73.2    7.8    0          PBAP-1AP ORoY-2   \n",
              "3     63.3  37.0  6.9   71.6   75.5    7.8    0                       PB   \n",
              "4     51.2  59.0  7.3   80.3   64.1    7.1    1              PBAP ORoY-5   \n",
              "..     ...   ...  ...    ...    ...    ...  ...                      ...   \n",
              "589    NaN   NaN  0.0    0.0    NaN    NaN    5                      NaN   \n",
              "590    NaN   9.0  0.0    0.6    NaN    NaN    1                   PBAP-1   \n",
              "591    NaN   NaN  0.0    0.0    NaN    NaN    5                      NaN   \n",
              "592    0.0   NaN  0.0    0.0    0.0    0.0    0                      NaN   \n",
              "593    NaN   NaN  0.0    0.0    NaN    NaN    0                      NaN   \n",
              "\n",
              "        -9999  \n",
              "0    ChasJa00  \n",
              "1    StxxAm00  \n",
              "2    BoweBr01  \n",
              "3    McBrTr01  \n",
              "4    NabeMa00  \n",
              "..        ...  \n",
              "589  WinsJa00  \n",
              "590  WirfTr00  \n",
              "591  YounBr01  \n",
              "592  YounDa02  \n",
              "593  ZappBa00  \n",
              "\n",
              "[594 rows x 21 columns]"
            ],
            "text/html": [
              "\n",
              "  <div id=\"df-54dc9c09-23dd-46ce-9ff2-15671706068d\" class=\"colab-df-container\">\n",
              "    <div>\n",
              "<style scoped>\n",
              "    .dataframe tbody tr th:only-of-type {\n",
              "        vertical-align: middle;\n",
              "    }\n",
              "\n",
              "    .dataframe tbody tr th {\n",
              "        vertical-align: top;\n",
              "    }\n",
              "\n",
              "    .dataframe thead th {\n",
              "        text-align: right;\n",
              "    }\n",
              "</style>\n",
              "<table border=\"1\" class=\"dataframe\">\n",
              "  <thead>\n",
              "    <tr style=\"text-align: right;\">\n",
              "      <th></th>\n",
              "      <th>Player</th>\n",
              "      <th>Age</th>\n",
              "      <th>Team</th>\n",
              "      <th>Pos</th>\n",
              "      <th>G</th>\n",
              "      <th>GS</th>\n",
              "      <th>Tgt</th>\n",
              "      <th>Rec</th>\n",
              "      <th>Yds</th>\n",
              "      <th>Y/R</th>\n",
              "      <th>...</th>\n",
              "      <th>1D</th>\n",
              "      <th>Succ%</th>\n",
              "      <th>Lng</th>\n",
              "      <th>R/G</th>\n",
              "      <th>Y/G</th>\n",
              "      <th>Ctch%</th>\n",
              "      <th>Y/Tgt</th>\n",
              "      <th>Fmb</th>\n",
              "      <th>Awards</th>\n",
              "      <th>-9999</th>\n",
              "    </tr>\n",
              "  </thead>\n",
              "  <tbody>\n",
              "    <tr>\n",
              "      <th>0</th>\n",
              "      <td>Ja'Marr Chase</td>\n",
              "      <td>24</td>\n",
              "      <td>CIN</td>\n",
              "      <td>WR</td>\n",
              "      <td>17</td>\n",
              "      <td>16</td>\n",
              "      <td>175</td>\n",
              "      <td>127</td>\n",
              "      <td>1708</td>\n",
              "      <td>13.4</td>\n",
              "      <td>...</td>\n",
              "      <td>75</td>\n",
              "      <td>62.3</td>\n",
              "      <td>70.0</td>\n",
              "      <td>7.5</td>\n",
              "      <td>100.5</td>\n",
              "      <td>72.6</td>\n",
              "      <td>9.8</td>\n",
              "      <td>0</td>\n",
              "      <td>PBAP-1AP MVP-8AP OPoY-3</td>\n",
              "      <td>ChasJa00</td>\n",
              "    </tr>\n",
              "    <tr>\n",
              "      <th>1</th>\n",
              "      <td>Amon-Ra St. Brown</td>\n",
              "      <td>25</td>\n",
              "      <td>DET</td>\n",
              "      <td>WR</td>\n",
              "      <td>17</td>\n",
              "      <td>17</td>\n",
              "      <td>141</td>\n",
              "      <td>115</td>\n",
              "      <td>1263</td>\n",
              "      <td>11.0</td>\n",
              "      <td>...</td>\n",
              "      <td>73</td>\n",
              "      <td>70.2</td>\n",
              "      <td>66.0</td>\n",
              "      <td>6.8</td>\n",
              "      <td>74.3</td>\n",
              "      <td>81.6</td>\n",
              "      <td>9.0</td>\n",
              "      <td>1</td>\n",
              "      <td>PBAP-1AP OPoY-11</td>\n",
              "      <td>StxxAm00</td>\n",
              "    </tr>\n",
              "    <tr>\n",
              "      <th>2</th>\n",
              "      <td>Brock Bowers</td>\n",
              "      <td>22</td>\n",
              "      <td>LVR</td>\n",
              "      <td>TE</td>\n",
              "      <td>17</td>\n",
              "      <td>16</td>\n",
              "      <td>153</td>\n",
              "      <td>112</td>\n",
              "      <td>1194</td>\n",
              "      <td>10.7</td>\n",
              "      <td>...</td>\n",
              "      <td>61</td>\n",
              "      <td>60.8</td>\n",
              "      <td>57.0</td>\n",
              "      <td>6.6</td>\n",
              "      <td>70.2</td>\n",
              "      <td>73.2</td>\n",
              "      <td>7.8</td>\n",
              "      <td>0</td>\n",
              "      <td>PBAP-1AP ORoY-2</td>\n",
              "      <td>BoweBr01</td>\n",
              "    </tr>\n",
              "    <tr>\n",
              "      <th>3</th>\n",
              "      <td>Trey McBride</td>\n",
              "      <td>25</td>\n",
              "      <td>ARI</td>\n",
              "      <td>TE</td>\n",
              "      <td>16</td>\n",
              "      <td>16</td>\n",
              "      <td>147</td>\n",
              "      <td>111</td>\n",
              "      <td>1146</td>\n",
              "      <td>10.3</td>\n",
              "      <td>...</td>\n",
              "      <td>63</td>\n",
              "      <td>63.3</td>\n",
              "      <td>37.0</td>\n",
              "      <td>6.9</td>\n",
              "      <td>71.6</td>\n",
              "      <td>75.5</td>\n",
              "      <td>7.8</td>\n",
              "      <td>0</td>\n",
              "      <td>PB</td>\n",
              "      <td>McBrTr01</td>\n",
              "    </tr>\n",
              "    <tr>\n",
              "      <th>4</th>\n",
              "      <td>Malik Nabers</td>\n",
              "      <td>21</td>\n",
              "      <td>NYG</td>\n",
              "      <td>WR</td>\n",
              "      <td>15</td>\n",
              "      <td>13</td>\n",
              "      <td>170</td>\n",
              "      <td>109</td>\n",
              "      <td>1204</td>\n",
              "      <td>11.0</td>\n",
              "      <td>...</td>\n",
              "      <td>55</td>\n",
              "      <td>51.2</td>\n",
              "      <td>59.0</td>\n",
              "      <td>7.3</td>\n",
              "      <td>80.3</td>\n",
              "      <td>64.1</td>\n",
              "      <td>7.1</td>\n",
              "      <td>1</td>\n",
              "      <td>PBAP ORoY-5</td>\n",
              "      <td>NabeMa00</td>\n",
              "    </tr>\n",
              "    <tr>\n",
              "      <th>...</th>\n",
              "      <td>...</td>\n",
              "      <td>...</td>\n",
              "      <td>...</td>\n",
              "      <td>...</td>\n",
              "      <td>...</td>\n",
              "      <td>...</td>\n",
              "      <td>...</td>\n",
              "      <td>...</td>\n",
              "      <td>...</td>\n",
              "      <td>...</td>\n",
              "      <td>...</td>\n",
              "      <td>...</td>\n",
              "      <td>...</td>\n",
              "      <td>...</td>\n",
              "      <td>...</td>\n",
              "      <td>...</td>\n",
              "      <td>...</td>\n",
              "      <td>...</td>\n",
              "      <td>...</td>\n",
              "      <td>...</td>\n",
              "      <td>...</td>\n",
              "    </tr>\n",
              "    <tr>\n",
              "      <th>589</th>\n",
              "      <td>Jameis Winston</td>\n",
              "      <td>30</td>\n",
              "      <td>CLE</td>\n",
              "      <td>QB</td>\n",
              "      <td>12</td>\n",
              "      <td>7</td>\n",
              "      <td>0</td>\n",
              "      <td>0</td>\n",
              "      <td>0</td>\n",
              "      <td>NaN</td>\n",
              "      <td>...</td>\n",
              "      <td>0</td>\n",
              "      <td>NaN</td>\n",
              "      <td>NaN</td>\n",
              "      <td>0.0</td>\n",
              "      <td>0.0</td>\n",
              "      <td>NaN</td>\n",
              "      <td>NaN</td>\n",
              "      <td>5</td>\n",
              "      <td>NaN</td>\n",
              "      <td>WinsJa00</td>\n",
              "    </tr>\n",
              "    <tr>\n",
              "      <th>590</th>\n",
              "      <td>Tristan Wirfs</td>\n",
              "      <td>25</td>\n",
              "      <td>TAM</td>\n",
              "      <td>T</td>\n",
              "      <td>16</td>\n",
              "      <td>16</td>\n",
              "      <td>0</td>\n",
              "      <td>0</td>\n",
              "      <td>9</td>\n",
              "      <td>NaN</td>\n",
              "      <td>...</td>\n",
              "      <td>0</td>\n",
              "      <td>NaN</td>\n",
              "      <td>9.0</td>\n",
              "      <td>0.0</td>\n",
              "      <td>0.6</td>\n",
              "      <td>NaN</td>\n",
              "      <td>NaN</td>\n",
              "      <td>1</td>\n",
              "      <td>PBAP-1</td>\n",
              "      <td>WirfTr00</td>\n",
              "    </tr>\n",
              "    <tr>\n",
              "      <th>591</th>\n",
              "      <td>Bryce Young</td>\n",
              "      <td>23</td>\n",
              "      <td>CAR</td>\n",
              "      <td>QB</td>\n",
              "      <td>14</td>\n",
              "      <td>12</td>\n",
              "      <td>0</td>\n",
              "      <td>0</td>\n",
              "      <td>0</td>\n",
              "      <td>NaN</td>\n",
              "      <td>...</td>\n",
              "      <td>0</td>\n",
              "      <td>NaN</td>\n",
              "      <td>NaN</td>\n",
              "      <td>0.0</td>\n",
              "      <td>0.0</td>\n",
              "      <td>NaN</td>\n",
              "      <td>NaN</td>\n",
              "      <td>5</td>\n",
              "      <td>NaN</td>\n",
              "      <td>YounBr01</td>\n",
              "    </tr>\n",
              "    <tr>\n",
              "      <th>592</th>\n",
              "      <td>Dareke Young</td>\n",
              "      <td>25</td>\n",
              "      <td>SEA</td>\n",
              "      <td>WR</td>\n",
              "      <td>14</td>\n",
              "      <td>0</td>\n",
              "      <td>1</td>\n",
              "      <td>0</td>\n",
              "      <td>0</td>\n",
              "      <td>NaN</td>\n",
              "      <td>...</td>\n",
              "      <td>0</td>\n",
              "      <td>0.0</td>\n",
              "      <td>NaN</td>\n",
              "      <td>0.0</td>\n",
              "      <td>0.0</td>\n",
              "      <td>0.0</td>\n",
              "      <td>0.0</td>\n",
              "      <td>0</td>\n",
              "      <td>NaN</td>\n",
              "      <td>YounDa02</td>\n",
              "    </tr>\n",
              "    <tr>\n",
              "      <th>593</th>\n",
              "      <td>Bailey Zappe</td>\n",
              "      <td>25</td>\n",
              "      <td>CLE</td>\n",
              "      <td>QB</td>\n",
              "      <td>1</td>\n",
              "      <td>1</td>\n",
              "      <td>0</td>\n",
              "      <td>0</td>\n",
              "      <td>0</td>\n",
              "      <td>NaN</td>\n",
              "      <td>...</td>\n",
              "      <td>0</td>\n",
              "      <td>NaN</td>\n",
              "      <td>NaN</td>\n",
              "      <td>0.0</td>\n",
              "      <td>0.0</td>\n",
              "      <td>NaN</td>\n",
              "      <td>NaN</td>\n",
              "      <td>0</td>\n",
              "      <td>NaN</td>\n",
              "      <td>ZappBa00</td>\n",
              "    </tr>\n",
              "  </tbody>\n",
              "</table>\n",
              "<p>594 rows × 21 columns</p>\n",
              "</div>\n",
              "    <div class=\"colab-df-buttons\">\n",
              "\n",
              "  <div class=\"colab-df-container\">\n",
              "    <button class=\"colab-df-convert\" onclick=\"convertToInteractive('df-54dc9c09-23dd-46ce-9ff2-15671706068d')\"\n",
              "            title=\"Convert this dataframe to an interactive table.\"\n",
              "            style=\"display:none;\">\n",
              "\n",
              "  <svg xmlns=\"http://www.w3.org/2000/svg\" height=\"24px\" viewBox=\"0 -960 960 960\">\n",
              "    <path d=\"M120-120v-720h720v720H120Zm60-500h600v-160H180v160Zm220 220h160v-160H400v160Zm0 220h160v-160H400v160ZM180-400h160v-160H180v160Zm440 0h160v-160H620v160ZM180-180h160v-160H180v160Zm440 0h160v-160H620v160Z\"/>\n",
              "  </svg>\n",
              "    </button>\n",
              "\n",
              "  <style>\n",
              "    .colab-df-container {\n",
              "      display:flex;\n",
              "      gap: 12px;\n",
              "    }\n",
              "\n",
              "    .colab-df-convert {\n",
              "      background-color: #E8F0FE;\n",
              "      border: none;\n",
              "      border-radius: 50%;\n",
              "      cursor: pointer;\n",
              "      display: none;\n",
              "      fill: #1967D2;\n",
              "      height: 32px;\n",
              "      padding: 0 0 0 0;\n",
              "      width: 32px;\n",
              "    }\n",
              "\n",
              "    .colab-df-convert:hover {\n",
              "      background-color: #E2EBFA;\n",
              "      box-shadow: 0px 1px 2px rgba(60, 64, 67, 0.3), 0px 1px 3px 1px rgba(60, 64, 67, 0.15);\n",
              "      fill: #174EA6;\n",
              "    }\n",
              "\n",
              "    .colab-df-buttons div {\n",
              "      margin-bottom: 4px;\n",
              "    }\n",
              "\n",
              "    [theme=dark] .colab-df-convert {\n",
              "      background-color: #3B4455;\n",
              "      fill: #D2E3FC;\n",
              "    }\n",
              "\n",
              "    [theme=dark] .colab-df-convert:hover {\n",
              "      background-color: #434B5C;\n",
              "      box-shadow: 0px 1px 3px 1px rgba(0, 0, 0, 0.15);\n",
              "      filter: drop-shadow(0px 1px 2px rgba(0, 0, 0, 0.3));\n",
              "      fill: #FFFFFF;\n",
              "    }\n",
              "  </style>\n",
              "\n",
              "    <script>\n",
              "      const buttonEl =\n",
              "        document.querySelector('#df-54dc9c09-23dd-46ce-9ff2-15671706068d button.colab-df-convert');\n",
              "      buttonEl.style.display =\n",
              "        google.colab.kernel.accessAllowed ? 'block' : 'none';\n",
              "\n",
              "      async function convertToInteractive(key) {\n",
              "        const element = document.querySelector('#df-54dc9c09-23dd-46ce-9ff2-15671706068d');\n",
              "        const dataTable =\n",
              "          await google.colab.kernel.invokeFunction('convertToInteractive',\n",
              "                                                    [key], {});\n",
              "        if (!dataTable) return;\n",
              "\n",
              "        const docLinkHtml = 'Like what you see? Visit the ' +\n",
              "          '<a target=\"_blank\" href=https://colab.research.google.com/notebooks/data_table.ipynb>data table notebook</a>'\n",
              "          + ' to learn more about interactive tables.';\n",
              "        element.innerHTML = '';\n",
              "        dataTable['output_type'] = 'display_data';\n",
              "        await google.colab.output.renderOutput(dataTable, element);\n",
              "        const docLink = document.createElement('div');\n",
              "        docLink.innerHTML = docLinkHtml;\n",
              "        element.appendChild(docLink);\n",
              "      }\n",
              "    </script>\n",
              "  </div>\n",
              "\n",
              "\n",
              "<div id=\"df-edf4b1b0-cf08-4787-b611-911e6773343b\">\n",
              "  <button class=\"colab-df-quickchart\" onclick=\"quickchart('df-edf4b1b0-cf08-4787-b611-911e6773343b')\"\n",
              "            title=\"Suggest charts\"\n",
              "            style=\"display:none;\">\n",
              "\n",
              "<svg xmlns=\"http://www.w3.org/2000/svg\" height=\"24px\"viewBox=\"0 0 24 24\"\n",
              "     width=\"24px\">\n",
              "    <g>\n",
              "        <path d=\"M19 3H5c-1.1 0-2 .9-2 2v14c0 1.1.9 2 2 2h14c1.1 0 2-.9 2-2V5c0-1.1-.9-2-2-2zM9 17H7v-7h2v7zm4 0h-2V7h2v10zm4 0h-2v-4h2v4z\"/>\n",
              "    </g>\n",
              "</svg>\n",
              "  </button>\n",
              "\n",
              "<style>\n",
              "  .colab-df-quickchart {\n",
              "      --bg-color: #E8F0FE;\n",
              "      --fill-color: #1967D2;\n",
              "      --hover-bg-color: #E2EBFA;\n",
              "      --hover-fill-color: #174EA6;\n",
              "      --disabled-fill-color: #AAA;\n",
              "      --disabled-bg-color: #DDD;\n",
              "  }\n",
              "\n",
              "  [theme=dark] .colab-df-quickchart {\n",
              "      --bg-color: #3B4455;\n",
              "      --fill-color: #D2E3FC;\n",
              "      --hover-bg-color: #434B5C;\n",
              "      --hover-fill-color: #FFFFFF;\n",
              "      --disabled-bg-color: #3B4455;\n",
              "      --disabled-fill-color: #666;\n",
              "  }\n",
              "\n",
              "  .colab-df-quickchart {\n",
              "    background-color: var(--bg-color);\n",
              "    border: none;\n",
              "    border-radius: 50%;\n",
              "    cursor: pointer;\n",
              "    display: none;\n",
              "    fill: var(--fill-color);\n",
              "    height: 32px;\n",
              "    padding: 0;\n",
              "    width: 32px;\n",
              "  }\n",
              "\n",
              "  .colab-df-quickchart:hover {\n",
              "    background-color: var(--hover-bg-color);\n",
              "    box-shadow: 0 1px 2px rgba(60, 64, 67, 0.3), 0 1px 3px 1px rgba(60, 64, 67, 0.15);\n",
              "    fill: var(--button-hover-fill-color);\n",
              "  }\n",
              "\n",
              "  .colab-df-quickchart-complete:disabled,\n",
              "  .colab-df-quickchart-complete:disabled:hover {\n",
              "    background-color: var(--disabled-bg-color);\n",
              "    fill: var(--disabled-fill-color);\n",
              "    box-shadow: none;\n",
              "  }\n",
              "\n",
              "  .colab-df-spinner {\n",
              "    border: 2px solid var(--fill-color);\n",
              "    border-color: transparent;\n",
              "    border-bottom-color: var(--fill-color);\n",
              "    animation:\n",
              "      spin 1s steps(1) infinite;\n",
              "  }\n",
              "\n",
              "  @keyframes spin {\n",
              "    0% {\n",
              "      border-color: transparent;\n",
              "      border-bottom-color: var(--fill-color);\n",
              "      border-left-color: var(--fill-color);\n",
              "    }\n",
              "    20% {\n",
              "      border-color: transparent;\n",
              "      border-left-color: var(--fill-color);\n",
              "      border-top-color: var(--fill-color);\n",
              "    }\n",
              "    30% {\n",
              "      border-color: transparent;\n",
              "      border-left-color: var(--fill-color);\n",
              "      border-top-color: var(--fill-color);\n",
              "      border-right-color: var(--fill-color);\n",
              "    }\n",
              "    40% {\n",
              "      border-color: transparent;\n",
              "      border-right-color: var(--fill-color);\n",
              "      border-top-color: var(--fill-color);\n",
              "    }\n",
              "    60% {\n",
              "      border-color: transparent;\n",
              "      border-right-color: var(--fill-color);\n",
              "    }\n",
              "    80% {\n",
              "      border-color: transparent;\n",
              "      border-right-color: var(--fill-color);\n",
              "      border-bottom-color: var(--fill-color);\n",
              "    }\n",
              "    90% {\n",
              "      border-color: transparent;\n",
              "      border-bottom-color: var(--fill-color);\n",
              "    }\n",
              "  }\n",
              "</style>\n",
              "\n",
              "  <script>\n",
              "    async function quickchart(key) {\n",
              "      const quickchartButtonEl =\n",
              "        document.querySelector('#' + key + ' button');\n",
              "      quickchartButtonEl.disabled = true;  // To prevent multiple clicks.\n",
              "      quickchartButtonEl.classList.add('colab-df-spinner');\n",
              "      try {\n",
              "        const charts = await google.colab.kernel.invokeFunction(\n",
              "            'suggestCharts', [key], {});\n",
              "      } catch (error) {\n",
              "        console.error('Error during call to suggestCharts:', error);\n",
              "      }\n",
              "      quickchartButtonEl.classList.remove('colab-df-spinner');\n",
              "      quickchartButtonEl.classList.add('colab-df-quickchart-complete');\n",
              "    }\n",
              "    (() => {\n",
              "      let quickchartButtonEl =\n",
              "        document.querySelector('#df-edf4b1b0-cf08-4787-b611-911e6773343b button');\n",
              "      quickchartButtonEl.style.display =\n",
              "        google.colab.kernel.accessAllowed ? 'block' : 'none';\n",
              "    })();\n",
              "  </script>\n",
              "</div>\n",
              "\n",
              "  <div id=\"id_e87a7b4e-0a6e-455a-941f-df70cdff5a78\">\n",
              "    <style>\n",
              "      .colab-df-generate {\n",
              "        background-color: #E8F0FE;\n",
              "        border: none;\n",
              "        border-radius: 50%;\n",
              "        cursor: pointer;\n",
              "        display: none;\n",
              "        fill: #1967D2;\n",
              "        height: 32px;\n",
              "        padding: 0 0 0 0;\n",
              "        width: 32px;\n",
              "      }\n",
              "\n",
              "      .colab-df-generate:hover {\n",
              "        background-color: #E2EBFA;\n",
              "        box-shadow: 0px 1px 2px rgba(60, 64, 67, 0.3), 0px 1px 3px 1px rgba(60, 64, 67, 0.15);\n",
              "        fill: #174EA6;\n",
              "      }\n",
              "\n",
              "      [theme=dark] .colab-df-generate {\n",
              "        background-color: #3B4455;\n",
              "        fill: #D2E3FC;\n",
              "      }\n",
              "\n",
              "      [theme=dark] .colab-df-generate:hover {\n",
              "        background-color: #434B5C;\n",
              "        box-shadow: 0px 1px 3px 1px rgba(0, 0, 0, 0.15);\n",
              "        filter: drop-shadow(0px 1px 2px rgba(0, 0, 0, 0.3));\n",
              "        fill: #FFFFFF;\n",
              "      }\n",
              "    </style>\n",
              "    <button class=\"colab-df-generate\" onclick=\"generateWithVariable('nfl')\"\n",
              "            title=\"Generate code using this dataframe.\"\n",
              "            style=\"display:none;\">\n",
              "\n",
              "  <svg xmlns=\"http://www.w3.org/2000/svg\" height=\"24px\"viewBox=\"0 0 24 24\"\n",
              "       width=\"24px\">\n",
              "    <path d=\"M7,19H8.4L18.45,9,17,7.55,7,17.6ZM5,21V16.75L18.45,3.32a2,2,0,0,1,2.83,0l1.4,1.43a1.91,1.91,0,0,1,.58,1.4,1.91,1.91,0,0,1-.58,1.4L9.25,21ZM18.45,9,17,7.55Zm-12,3A5.31,5.31,0,0,0,4.9,8.1,5.31,5.31,0,0,0,1,6.5,5.31,5.31,0,0,0,4.9,4.9,5.31,5.31,0,0,0,6.5,1,5.31,5.31,0,0,0,8.1,4.9,5.31,5.31,0,0,0,12,6.5,5.46,5.46,0,0,0,6.5,12Z\"/>\n",
              "  </svg>\n",
              "    </button>\n",
              "    <script>\n",
              "      (() => {\n",
              "      const buttonEl =\n",
              "        document.querySelector('#id_e87a7b4e-0a6e-455a-941f-df70cdff5a78 button.colab-df-generate');\n",
              "      buttonEl.style.display =\n",
              "        google.colab.kernel.accessAllowed ? 'block' : 'none';\n",
              "\n",
              "      buttonEl.onclick = () => {\n",
              "        google.colab.notebook.generateWithVariable('nfl');\n",
              "      }\n",
              "      })();\n",
              "    </script>\n",
              "  </div>\n",
              "\n",
              "    </div>\n",
              "  </div>\n"
            ],
            "application/vnd.google.colaboratory.intrinsic+json": {
              "type": "dataframe",
              "variable_name": "nfl"
            }
          },
          "metadata": {},
          "execution_count": 3
        }
      ],
      "source": [
        "#raw data csv from my github\n",
        "url_nfl = 'https://raw.githubusercontent.com/OwenHuels/data-science/main/rec24.csv'\n",
        "\n",
        "nfl = pd.read_csv(url_nfl)\n",
        "\n",
        "#view data\n",
        "nfl"
      ]
    },
    {
      "cell_type": "code",
      "execution_count": null,
      "metadata": {
        "colab": {
          "base_uri": "https://localhost:8080/",
          "height": 510
        },
        "id": "IqjUF-f8LAl2",
        "outputId": "dd1b745d-1b8e-43eb-8529-684659597c57"
      },
      "outputs": [
        {
          "output_type": "stream",
          "name": "stderr",
          "text": [
            "<ipython-input-4-ddfc8df72d3a>:5: SettingWithCopyWarning: \n",
            "A value is trying to be set on a copy of a slice from a DataFrame\n",
            "\n",
            "See the caveats in the documentation: https://pandas.pydata.org/pandas-docs/stable/user_guide/indexing.html#returning-a-view-versus-a-copy\n",
            "  nfl.dropna(axis=0, subset='Lng', inplace=True)\n"
          ]
        },
        {
          "output_type": "execute_result",
          "data": {
            "text/plain": [
              "                Player  Age Team Pos   G  GS  Tgt  Rec   Yds   YpR  ...  FD  \\\n",
              "0        Ja'Marr Chase   24  CIN  WR  17  16  175  127  1708  13.4  ...  75   \n",
              "1    Amon-Ra St. Brown   25  DET  WR  17  17  141  115  1263  11.0  ...  73   \n",
              "2         Brock Bowers   22  LVR  TE  17  16  153  112  1194  10.7  ...  61   \n",
              "3         Trey McBride   25  ARI  TE  16  16  147  111  1146  10.3  ...  63   \n",
              "4         Malik Nabers   21  NYG  WR  15  13  170  109  1204  11.0  ...  55   \n",
              "..                 ...  ...  ...  ..  ..  ..  ...  ...   ...   ...  ...  ..   \n",
              "345        Ben Sinnott   22  WAS  TE  17   2    5    5    28   5.6  ...   2   \n",
              "346      Ben Skowronek   27  PIT  WR  10   1    5    5    69  13.8  ...   4   \n",
              "347       Kimani Vidal   23  LAC  RB  10   0    9    5    62  12.4  ...   2   \n",
              "348      Johnny Wilson   23  PHI  WR  16   4   15    5    38   7.6  ...   3   \n",
              "349       Kenny Yeboah   26  NYJ  TE   9   1    8    5    47   9.4  ...   3   \n",
              "\n",
              "     SuccP   Lng  RpG    YpG  CtchP  YpTgt  Fmb                   Awards  \\\n",
              "0     62.3  70.0  7.5  100.5   72.6    9.8    0  PBAP-1AP MVP-8AP OPoY-3   \n",
              "1     70.2  66.0  6.8   74.3   81.6    9.0    1         PBAP-1AP OPoY-11   \n",
              "2     60.8  57.0  6.6   70.2   73.2    7.8    0          PBAP-1AP ORoY-2   \n",
              "3     63.3  37.0  6.9   71.6   75.5    7.8    0                       PB   \n",
              "4     51.2  59.0  7.3   80.3   64.1    7.1    1              PBAP ORoY-5   \n",
              "..     ...   ...  ...    ...    ...    ...  ...                      ...   \n",
              "345   40.0  12.0  0.3    1.6  100.0    5.6    0                      NaN   \n",
              "346   80.0  23.0  0.5    6.9  100.0   13.8    0                      NaN   \n",
              "347   33.3  38.0  0.5    6.2   55.6    6.9    1                      NaN   \n",
              "348   26.7   9.0  0.3    2.4   33.3    2.5    0                      NaN   \n",
              "349   62.5  13.0  0.6    5.2   62.5    5.9    0                      NaN   \n",
              "\n",
              "        -9999  \n",
              "0    ChasJa00  \n",
              "1    StxxAm00  \n",
              "2    BoweBr01  \n",
              "3    McBrTr01  \n",
              "4    NabeMa00  \n",
              "..        ...  \n",
              "345  SinnBe00  \n",
              "346  SkowBe00  \n",
              "347  VidaKi00  \n",
              "348  WilsJo03  \n",
              "349  YeboKe00  \n",
              "\n",
              "[350 rows x 21 columns]"
            ],
            "text/html": [
              "\n",
              "  <div id=\"df-1dcce928-2202-4343-8609-de2ea7304c43\" class=\"colab-df-container\">\n",
              "    <div>\n",
              "<style scoped>\n",
              "    .dataframe tbody tr th:only-of-type {\n",
              "        vertical-align: middle;\n",
              "    }\n",
              "\n",
              "    .dataframe tbody tr th {\n",
              "        vertical-align: top;\n",
              "    }\n",
              "\n",
              "    .dataframe thead th {\n",
              "        text-align: right;\n",
              "    }\n",
              "</style>\n",
              "<table border=\"1\" class=\"dataframe\">\n",
              "  <thead>\n",
              "    <tr style=\"text-align: right;\">\n",
              "      <th></th>\n",
              "      <th>Player</th>\n",
              "      <th>Age</th>\n",
              "      <th>Team</th>\n",
              "      <th>Pos</th>\n",
              "      <th>G</th>\n",
              "      <th>GS</th>\n",
              "      <th>Tgt</th>\n",
              "      <th>Rec</th>\n",
              "      <th>Yds</th>\n",
              "      <th>YpR</th>\n",
              "      <th>...</th>\n",
              "      <th>FD</th>\n",
              "      <th>SuccP</th>\n",
              "      <th>Lng</th>\n",
              "      <th>RpG</th>\n",
              "      <th>YpG</th>\n",
              "      <th>CtchP</th>\n",
              "      <th>YpTgt</th>\n",
              "      <th>Fmb</th>\n",
              "      <th>Awards</th>\n",
              "      <th>-9999</th>\n",
              "    </tr>\n",
              "  </thead>\n",
              "  <tbody>\n",
              "    <tr>\n",
              "      <th>0</th>\n",
              "      <td>Ja'Marr Chase</td>\n",
              "      <td>24</td>\n",
              "      <td>CIN</td>\n",
              "      <td>WR</td>\n",
              "      <td>17</td>\n",
              "      <td>16</td>\n",
              "      <td>175</td>\n",
              "      <td>127</td>\n",
              "      <td>1708</td>\n",
              "      <td>13.4</td>\n",
              "      <td>...</td>\n",
              "      <td>75</td>\n",
              "      <td>62.3</td>\n",
              "      <td>70.0</td>\n",
              "      <td>7.5</td>\n",
              "      <td>100.5</td>\n",
              "      <td>72.6</td>\n",
              "      <td>9.8</td>\n",
              "      <td>0</td>\n",
              "      <td>PBAP-1AP MVP-8AP OPoY-3</td>\n",
              "      <td>ChasJa00</td>\n",
              "    </tr>\n",
              "    <tr>\n",
              "      <th>1</th>\n",
              "      <td>Amon-Ra St. Brown</td>\n",
              "      <td>25</td>\n",
              "      <td>DET</td>\n",
              "      <td>WR</td>\n",
              "      <td>17</td>\n",
              "      <td>17</td>\n",
              "      <td>141</td>\n",
              "      <td>115</td>\n",
              "      <td>1263</td>\n",
              "      <td>11.0</td>\n",
              "      <td>...</td>\n",
              "      <td>73</td>\n",
              "      <td>70.2</td>\n",
              "      <td>66.0</td>\n",
              "      <td>6.8</td>\n",
              "      <td>74.3</td>\n",
              "      <td>81.6</td>\n",
              "      <td>9.0</td>\n",
              "      <td>1</td>\n",
              "      <td>PBAP-1AP OPoY-11</td>\n",
              "      <td>StxxAm00</td>\n",
              "    </tr>\n",
              "    <tr>\n",
              "      <th>2</th>\n",
              "      <td>Brock Bowers</td>\n",
              "      <td>22</td>\n",
              "      <td>LVR</td>\n",
              "      <td>TE</td>\n",
              "      <td>17</td>\n",
              "      <td>16</td>\n",
              "      <td>153</td>\n",
              "      <td>112</td>\n",
              "      <td>1194</td>\n",
              "      <td>10.7</td>\n",
              "      <td>...</td>\n",
              "      <td>61</td>\n",
              "      <td>60.8</td>\n",
              "      <td>57.0</td>\n",
              "      <td>6.6</td>\n",
              "      <td>70.2</td>\n",
              "      <td>73.2</td>\n",
              "      <td>7.8</td>\n",
              "      <td>0</td>\n",
              "      <td>PBAP-1AP ORoY-2</td>\n",
              "      <td>BoweBr01</td>\n",
              "    </tr>\n",
              "    <tr>\n",
              "      <th>3</th>\n",
              "      <td>Trey McBride</td>\n",
              "      <td>25</td>\n",
              "      <td>ARI</td>\n",
              "      <td>TE</td>\n",
              "      <td>16</td>\n",
              "      <td>16</td>\n",
              "      <td>147</td>\n",
              "      <td>111</td>\n",
              "      <td>1146</td>\n",
              "      <td>10.3</td>\n",
              "      <td>...</td>\n",
              "      <td>63</td>\n",
              "      <td>63.3</td>\n",
              "      <td>37.0</td>\n",
              "      <td>6.9</td>\n",
              "      <td>71.6</td>\n",
              "      <td>75.5</td>\n",
              "      <td>7.8</td>\n",
              "      <td>0</td>\n",
              "      <td>PB</td>\n",
              "      <td>McBrTr01</td>\n",
              "    </tr>\n",
              "    <tr>\n",
              "      <th>4</th>\n",
              "      <td>Malik Nabers</td>\n",
              "      <td>21</td>\n",
              "      <td>NYG</td>\n",
              "      <td>WR</td>\n",
              "      <td>15</td>\n",
              "      <td>13</td>\n",
              "      <td>170</td>\n",
              "      <td>109</td>\n",
              "      <td>1204</td>\n",
              "      <td>11.0</td>\n",
              "      <td>...</td>\n",
              "      <td>55</td>\n",
              "      <td>51.2</td>\n",
              "      <td>59.0</td>\n",
              "      <td>7.3</td>\n",
              "      <td>80.3</td>\n",
              "      <td>64.1</td>\n",
              "      <td>7.1</td>\n",
              "      <td>1</td>\n",
              "      <td>PBAP ORoY-5</td>\n",
              "      <td>NabeMa00</td>\n",
              "    </tr>\n",
              "    <tr>\n",
              "      <th>...</th>\n",
              "      <td>...</td>\n",
              "      <td>...</td>\n",
              "      <td>...</td>\n",
              "      <td>...</td>\n",
              "      <td>...</td>\n",
              "      <td>...</td>\n",
              "      <td>...</td>\n",
              "      <td>...</td>\n",
              "      <td>...</td>\n",
              "      <td>...</td>\n",
              "      <td>...</td>\n",
              "      <td>...</td>\n",
              "      <td>...</td>\n",
              "      <td>...</td>\n",
              "      <td>...</td>\n",
              "      <td>...</td>\n",
              "      <td>...</td>\n",
              "      <td>...</td>\n",
              "      <td>...</td>\n",
              "      <td>...</td>\n",
              "      <td>...</td>\n",
              "    </tr>\n",
              "    <tr>\n",
              "      <th>345</th>\n",
              "      <td>Ben Sinnott</td>\n",
              "      <td>22</td>\n",
              "      <td>WAS</td>\n",
              "      <td>TE</td>\n",
              "      <td>17</td>\n",
              "      <td>2</td>\n",
              "      <td>5</td>\n",
              "      <td>5</td>\n",
              "      <td>28</td>\n",
              "      <td>5.6</td>\n",
              "      <td>...</td>\n",
              "      <td>2</td>\n",
              "      <td>40.0</td>\n",
              "      <td>12.0</td>\n",
              "      <td>0.3</td>\n",
              "      <td>1.6</td>\n",
              "      <td>100.0</td>\n",
              "      <td>5.6</td>\n",
              "      <td>0</td>\n",
              "      <td>NaN</td>\n",
              "      <td>SinnBe00</td>\n",
              "    </tr>\n",
              "    <tr>\n",
              "      <th>346</th>\n",
              "      <td>Ben Skowronek</td>\n",
              "      <td>27</td>\n",
              "      <td>PIT</td>\n",
              "      <td>WR</td>\n",
              "      <td>10</td>\n",
              "      <td>1</td>\n",
              "      <td>5</td>\n",
              "      <td>5</td>\n",
              "      <td>69</td>\n",
              "      <td>13.8</td>\n",
              "      <td>...</td>\n",
              "      <td>4</td>\n",
              "      <td>80.0</td>\n",
              "      <td>23.0</td>\n",
              "      <td>0.5</td>\n",
              "      <td>6.9</td>\n",
              "      <td>100.0</td>\n",
              "      <td>13.8</td>\n",
              "      <td>0</td>\n",
              "      <td>NaN</td>\n",
              "      <td>SkowBe00</td>\n",
              "    </tr>\n",
              "    <tr>\n",
              "      <th>347</th>\n",
              "      <td>Kimani Vidal</td>\n",
              "      <td>23</td>\n",
              "      <td>LAC</td>\n",
              "      <td>RB</td>\n",
              "      <td>10</td>\n",
              "      <td>0</td>\n",
              "      <td>9</td>\n",
              "      <td>5</td>\n",
              "      <td>62</td>\n",
              "      <td>12.4</td>\n",
              "      <td>...</td>\n",
              "      <td>2</td>\n",
              "      <td>33.3</td>\n",
              "      <td>38.0</td>\n",
              "      <td>0.5</td>\n",
              "      <td>6.2</td>\n",
              "      <td>55.6</td>\n",
              "      <td>6.9</td>\n",
              "      <td>1</td>\n",
              "      <td>NaN</td>\n",
              "      <td>VidaKi00</td>\n",
              "    </tr>\n",
              "    <tr>\n",
              "      <th>348</th>\n",
              "      <td>Johnny Wilson</td>\n",
              "      <td>23</td>\n",
              "      <td>PHI</td>\n",
              "      <td>WR</td>\n",
              "      <td>16</td>\n",
              "      <td>4</td>\n",
              "      <td>15</td>\n",
              "      <td>5</td>\n",
              "      <td>38</td>\n",
              "      <td>7.6</td>\n",
              "      <td>...</td>\n",
              "      <td>3</td>\n",
              "      <td>26.7</td>\n",
              "      <td>9.0</td>\n",
              "      <td>0.3</td>\n",
              "      <td>2.4</td>\n",
              "      <td>33.3</td>\n",
              "      <td>2.5</td>\n",
              "      <td>0</td>\n",
              "      <td>NaN</td>\n",
              "      <td>WilsJo03</td>\n",
              "    </tr>\n",
              "    <tr>\n",
              "      <th>349</th>\n",
              "      <td>Kenny Yeboah</td>\n",
              "      <td>26</td>\n",
              "      <td>NYJ</td>\n",
              "      <td>TE</td>\n",
              "      <td>9</td>\n",
              "      <td>1</td>\n",
              "      <td>8</td>\n",
              "      <td>5</td>\n",
              "      <td>47</td>\n",
              "      <td>9.4</td>\n",
              "      <td>...</td>\n",
              "      <td>3</td>\n",
              "      <td>62.5</td>\n",
              "      <td>13.0</td>\n",
              "      <td>0.6</td>\n",
              "      <td>5.2</td>\n",
              "      <td>62.5</td>\n",
              "      <td>5.9</td>\n",
              "      <td>0</td>\n",
              "      <td>NaN</td>\n",
              "      <td>YeboKe00</td>\n",
              "    </tr>\n",
              "  </tbody>\n",
              "</table>\n",
              "<p>350 rows × 21 columns</p>\n",
              "</div>\n",
              "    <div class=\"colab-df-buttons\">\n",
              "\n",
              "  <div class=\"colab-df-container\">\n",
              "    <button class=\"colab-df-convert\" onclick=\"convertToInteractive('df-1dcce928-2202-4343-8609-de2ea7304c43')\"\n",
              "            title=\"Convert this dataframe to an interactive table.\"\n",
              "            style=\"display:none;\">\n",
              "\n",
              "  <svg xmlns=\"http://www.w3.org/2000/svg\" height=\"24px\" viewBox=\"0 -960 960 960\">\n",
              "    <path d=\"M120-120v-720h720v720H120Zm60-500h600v-160H180v160Zm220 220h160v-160H400v160Zm0 220h160v-160H400v160ZM180-400h160v-160H180v160Zm440 0h160v-160H620v160ZM180-180h160v-160H180v160Zm440 0h160v-160H620v160Z\"/>\n",
              "  </svg>\n",
              "    </button>\n",
              "\n",
              "  <style>\n",
              "    .colab-df-container {\n",
              "      display:flex;\n",
              "      gap: 12px;\n",
              "    }\n",
              "\n",
              "    .colab-df-convert {\n",
              "      background-color: #E8F0FE;\n",
              "      border: none;\n",
              "      border-radius: 50%;\n",
              "      cursor: pointer;\n",
              "      display: none;\n",
              "      fill: #1967D2;\n",
              "      height: 32px;\n",
              "      padding: 0 0 0 0;\n",
              "      width: 32px;\n",
              "    }\n",
              "\n",
              "    .colab-df-convert:hover {\n",
              "      background-color: #E2EBFA;\n",
              "      box-shadow: 0px 1px 2px rgba(60, 64, 67, 0.3), 0px 1px 3px 1px rgba(60, 64, 67, 0.15);\n",
              "      fill: #174EA6;\n",
              "    }\n",
              "\n",
              "    .colab-df-buttons div {\n",
              "      margin-bottom: 4px;\n",
              "    }\n",
              "\n",
              "    [theme=dark] .colab-df-convert {\n",
              "      background-color: #3B4455;\n",
              "      fill: #D2E3FC;\n",
              "    }\n",
              "\n",
              "    [theme=dark] .colab-df-convert:hover {\n",
              "      background-color: #434B5C;\n",
              "      box-shadow: 0px 1px 3px 1px rgba(0, 0, 0, 0.15);\n",
              "      filter: drop-shadow(0px 1px 2px rgba(0, 0, 0, 0.3));\n",
              "      fill: #FFFFFF;\n",
              "    }\n",
              "  </style>\n",
              "\n",
              "    <script>\n",
              "      const buttonEl =\n",
              "        document.querySelector('#df-1dcce928-2202-4343-8609-de2ea7304c43 button.colab-df-convert');\n",
              "      buttonEl.style.display =\n",
              "        google.colab.kernel.accessAllowed ? 'block' : 'none';\n",
              "\n",
              "      async function convertToInteractive(key) {\n",
              "        const element = document.querySelector('#df-1dcce928-2202-4343-8609-de2ea7304c43');\n",
              "        const dataTable =\n",
              "          await google.colab.kernel.invokeFunction('convertToInteractive',\n",
              "                                                    [key], {});\n",
              "        if (!dataTable) return;\n",
              "\n",
              "        const docLinkHtml = 'Like what you see? Visit the ' +\n",
              "          '<a target=\"_blank\" href=https://colab.research.google.com/notebooks/data_table.ipynb>data table notebook</a>'\n",
              "          + ' to learn more about interactive tables.';\n",
              "        element.innerHTML = '';\n",
              "        dataTable['output_type'] = 'display_data';\n",
              "        await google.colab.output.renderOutput(dataTable, element);\n",
              "        const docLink = document.createElement('div');\n",
              "        docLink.innerHTML = docLinkHtml;\n",
              "        element.appendChild(docLink);\n",
              "      }\n",
              "    </script>\n",
              "  </div>\n",
              "\n",
              "\n",
              "<div id=\"df-d084ae83-03c9-4469-8aff-ef63c8c2a1ca\">\n",
              "  <button class=\"colab-df-quickchart\" onclick=\"quickchart('df-d084ae83-03c9-4469-8aff-ef63c8c2a1ca')\"\n",
              "            title=\"Suggest charts\"\n",
              "            style=\"display:none;\">\n",
              "\n",
              "<svg xmlns=\"http://www.w3.org/2000/svg\" height=\"24px\"viewBox=\"0 0 24 24\"\n",
              "     width=\"24px\">\n",
              "    <g>\n",
              "        <path d=\"M19 3H5c-1.1 0-2 .9-2 2v14c0 1.1.9 2 2 2h14c1.1 0 2-.9 2-2V5c0-1.1-.9-2-2-2zM9 17H7v-7h2v7zm4 0h-2V7h2v10zm4 0h-2v-4h2v4z\"/>\n",
              "    </g>\n",
              "</svg>\n",
              "  </button>\n",
              "\n",
              "<style>\n",
              "  .colab-df-quickchart {\n",
              "      --bg-color: #E8F0FE;\n",
              "      --fill-color: #1967D2;\n",
              "      --hover-bg-color: #E2EBFA;\n",
              "      --hover-fill-color: #174EA6;\n",
              "      --disabled-fill-color: #AAA;\n",
              "      --disabled-bg-color: #DDD;\n",
              "  }\n",
              "\n",
              "  [theme=dark] .colab-df-quickchart {\n",
              "      --bg-color: #3B4455;\n",
              "      --fill-color: #D2E3FC;\n",
              "      --hover-bg-color: #434B5C;\n",
              "      --hover-fill-color: #FFFFFF;\n",
              "      --disabled-bg-color: #3B4455;\n",
              "      --disabled-fill-color: #666;\n",
              "  }\n",
              "\n",
              "  .colab-df-quickchart {\n",
              "    background-color: var(--bg-color);\n",
              "    border: none;\n",
              "    border-radius: 50%;\n",
              "    cursor: pointer;\n",
              "    display: none;\n",
              "    fill: var(--fill-color);\n",
              "    height: 32px;\n",
              "    padding: 0;\n",
              "    width: 32px;\n",
              "  }\n",
              "\n",
              "  .colab-df-quickchart:hover {\n",
              "    background-color: var(--hover-bg-color);\n",
              "    box-shadow: 0 1px 2px rgba(60, 64, 67, 0.3), 0 1px 3px 1px rgba(60, 64, 67, 0.15);\n",
              "    fill: var(--button-hover-fill-color);\n",
              "  }\n",
              "\n",
              "  .colab-df-quickchart-complete:disabled,\n",
              "  .colab-df-quickchart-complete:disabled:hover {\n",
              "    background-color: var(--disabled-bg-color);\n",
              "    fill: var(--disabled-fill-color);\n",
              "    box-shadow: none;\n",
              "  }\n",
              "\n",
              "  .colab-df-spinner {\n",
              "    border: 2px solid var(--fill-color);\n",
              "    border-color: transparent;\n",
              "    border-bottom-color: var(--fill-color);\n",
              "    animation:\n",
              "      spin 1s steps(1) infinite;\n",
              "  }\n",
              "\n",
              "  @keyframes spin {\n",
              "    0% {\n",
              "      border-color: transparent;\n",
              "      border-bottom-color: var(--fill-color);\n",
              "      border-left-color: var(--fill-color);\n",
              "    }\n",
              "    20% {\n",
              "      border-color: transparent;\n",
              "      border-left-color: var(--fill-color);\n",
              "      border-top-color: var(--fill-color);\n",
              "    }\n",
              "    30% {\n",
              "      border-color: transparent;\n",
              "      border-left-color: var(--fill-color);\n",
              "      border-top-color: var(--fill-color);\n",
              "      border-right-color: var(--fill-color);\n",
              "    }\n",
              "    40% {\n",
              "      border-color: transparent;\n",
              "      border-right-color: var(--fill-color);\n",
              "      border-top-color: var(--fill-color);\n",
              "    }\n",
              "    60% {\n",
              "      border-color: transparent;\n",
              "      border-right-color: var(--fill-color);\n",
              "    }\n",
              "    80% {\n",
              "      border-color: transparent;\n",
              "      border-right-color: var(--fill-color);\n",
              "      border-bottom-color: var(--fill-color);\n",
              "    }\n",
              "    90% {\n",
              "      border-color: transparent;\n",
              "      border-bottom-color: var(--fill-color);\n",
              "    }\n",
              "  }\n",
              "</style>\n",
              "\n",
              "  <script>\n",
              "    async function quickchart(key) {\n",
              "      const quickchartButtonEl =\n",
              "        document.querySelector('#' + key + ' button');\n",
              "      quickchartButtonEl.disabled = true;  // To prevent multiple clicks.\n",
              "      quickchartButtonEl.classList.add('colab-df-spinner');\n",
              "      try {\n",
              "        const charts = await google.colab.kernel.invokeFunction(\n",
              "            'suggestCharts', [key], {});\n",
              "      } catch (error) {\n",
              "        console.error('Error during call to suggestCharts:', error);\n",
              "      }\n",
              "      quickchartButtonEl.classList.remove('colab-df-spinner');\n",
              "      quickchartButtonEl.classList.add('colab-df-quickchart-complete');\n",
              "    }\n",
              "    (() => {\n",
              "      let quickchartButtonEl =\n",
              "        document.querySelector('#df-d084ae83-03c9-4469-8aff-ef63c8c2a1ca button');\n",
              "      quickchartButtonEl.style.display =\n",
              "        google.colab.kernel.accessAllowed ? 'block' : 'none';\n",
              "    })();\n",
              "  </script>\n",
              "</div>\n",
              "\n",
              "  <div id=\"id_81f11a8e-49e1-4d1f-a3ee-9955b0093c07\">\n",
              "    <style>\n",
              "      .colab-df-generate {\n",
              "        background-color: #E8F0FE;\n",
              "        border: none;\n",
              "        border-radius: 50%;\n",
              "        cursor: pointer;\n",
              "        display: none;\n",
              "        fill: #1967D2;\n",
              "        height: 32px;\n",
              "        padding: 0 0 0 0;\n",
              "        width: 32px;\n",
              "      }\n",
              "\n",
              "      .colab-df-generate:hover {\n",
              "        background-color: #E2EBFA;\n",
              "        box-shadow: 0px 1px 2px rgba(60, 64, 67, 0.3), 0px 1px 3px 1px rgba(60, 64, 67, 0.15);\n",
              "        fill: #174EA6;\n",
              "      }\n",
              "\n",
              "      [theme=dark] .colab-df-generate {\n",
              "        background-color: #3B4455;\n",
              "        fill: #D2E3FC;\n",
              "      }\n",
              "\n",
              "      [theme=dark] .colab-df-generate:hover {\n",
              "        background-color: #434B5C;\n",
              "        box-shadow: 0px 1px 3px 1px rgba(0, 0, 0, 0.15);\n",
              "        filter: drop-shadow(0px 1px 2px rgba(0, 0, 0, 0.3));\n",
              "        fill: #FFFFFF;\n",
              "      }\n",
              "    </style>\n",
              "    <button class=\"colab-df-generate\" onclick=\"generateWithVariable('nfl')\"\n",
              "            title=\"Generate code using this dataframe.\"\n",
              "            style=\"display:none;\">\n",
              "\n",
              "  <svg xmlns=\"http://www.w3.org/2000/svg\" height=\"24px\"viewBox=\"0 0 24 24\"\n",
              "       width=\"24px\">\n",
              "    <path d=\"M7,19H8.4L18.45,9,17,7.55,7,17.6ZM5,21V16.75L18.45,3.32a2,2,0,0,1,2.83,0l1.4,1.43a1.91,1.91,0,0,1,.58,1.4,1.91,1.91,0,0,1-.58,1.4L9.25,21ZM18.45,9,17,7.55Zm-12,3A5.31,5.31,0,0,0,4.9,8.1,5.31,5.31,0,0,0,1,6.5,5.31,5.31,0,0,0,4.9,4.9,5.31,5.31,0,0,0,6.5,1,5.31,5.31,0,0,0,8.1,4.9,5.31,5.31,0,0,0,12,6.5,5.46,5.46,0,0,0,6.5,12Z\"/>\n",
              "  </svg>\n",
              "    </button>\n",
              "    <script>\n",
              "      (() => {\n",
              "      const buttonEl =\n",
              "        document.querySelector('#id_81f11a8e-49e1-4d1f-a3ee-9955b0093c07 button.colab-df-generate');\n",
              "      buttonEl.style.display =\n",
              "        google.colab.kernel.accessAllowed ? 'block' : 'none';\n",
              "\n",
              "      buttonEl.onclick = () => {\n",
              "        google.colab.notebook.generateWithVariable('nfl');\n",
              "      }\n",
              "      })();\n",
              "    </script>\n",
              "  </div>\n",
              "\n",
              "    </div>\n",
              "  </div>\n"
            ],
            "application/vnd.google.colaboratory.intrinsic+json": {
              "type": "dataframe",
              "variable_name": "nfl"
            }
          },
          "metadata": {},
          "execution_count": 4
        }
      ],
      "source": [
        "#rename columns to fix errors later with syntax\n",
        "nfl.rename(columns={'Y/R': 'YpR', 'Y/G': 'YpG', 'R/G': 'RpG', 'Y/Tgt':'YpTgt', '1D':'FD', 'Succ%':'SuccP', 'Ctch%':'CtchP'}, inplace=True)\n",
        "#remove non traditional receiving players from the data set (and players with no yards)\n",
        "nfl = nfl.query('Pos != \"QB\" & Pos != \"T\" & Pos != \"QB\" & Pos != \"DL\" & Pos != \"S\" & Pos != \"P\" & Pos != \"LB\" & Pos != \"OL\" & Pos != \"OT\" & Pos != \"CB\" & Pos != \"DE\" & Pos != \"C\" & Pos != \"FS\" & Pos != \"DB\" & Yds != 0 & Rec >= 5')\n",
        "nfl.dropna(axis=0, subset='Lng', inplace=True)\n",
        "#reset indexes after removal to make the data look nicer\n",
        "nfl.reset_index(drop=True, inplace=True)\n",
        "nfl"
      ]
    },
    {
      "cell_type": "markdown",
      "source": [
        "Here is a visualization of my data based primarily on yards, which I suspect will be my primary predictor."
      ],
      "metadata": {
        "id": "fvVAAmBVDxW9"
      }
    },
    {
      "cell_type": "code",
      "source": [
        "x = nfl.Yds.tolist()\n",
        "y = nfl.TD.tolist()\n",
        "z = nfl.Tgt.tolist()\n",
        "\n",
        "color = [str(item/(max(z)+max(z)/2)) for item in z]\n",
        "\n",
        "plt.scatter(x, y, c=color)\n",
        "\n",
        "plt.show()"
      ],
      "metadata": {
        "colab": {
          "base_uri": "https://localhost:8080/",
          "height": 430
        },
        "id": "ppDqkXBmkjDO",
        "outputId": "bfd4f265-7c31-4466-b737-0d9860ba2b3e"
      },
      "execution_count": null,
      "outputs": [
        {
          "output_type": "display_data",
          "data": {
            "text/plain": [
              "<Figure size 640x480 with 1 Axes>"
            ],
            "image/png": "[encoded data removed]"
          },
          "metadata": {}
        }
      ]
    },
    {
      "cell_type": "markdown",
      "source": [
        "Some of these variables are important, and some are not. The following are the ones I decided to include when creating my initial DAG, because I thought they would have the most impactful relationships.\n",
        "\n",
        "* Pos (Position)\n",
        "* GS (Games Started)\n",
        "* Tgt (Targets)\n",
        "* Rec (Receptions)\n",
        "* Yds (Yards)\n",
        "* YpR (Yards per Reception)\n",
        "* FD (First Downs)\n",
        "* SuccP (Success Percentage)\n",
        "* Lng (Long)"
      ],
      "metadata": {
        "id": "pi94W3HbD9mA"
      }
    },
    {
      "cell_type": "markdown",
      "metadata": {
        "id": "ewfjF6Ysckl6"
      },
      "source": [
        "##**Models**"
      ]
    },
    {
      "cell_type": "markdown",
      "metadata": {
        "id": "NAmx4rzfTZ5z"
      },
      "source": [
        "After drawing my DAG, I think that the strongest predictor will be yards by far, so I'll try a bunch of models with different variations of that alongside other predictors, or with just other strong predictors."
      ]
    },
    {
      "cell_type": "markdown",
      "metadata": {
        "id": "4h1II9mQhSjq"
      },
      "source": [
        "Here's just a baseline model, standard linear with no frills attached."
      ]
    },
    {
      "cell_type": "code",
      "source": [
        "formula_nfl_1 = bmb.Formula(\n",
        "    \"TD ~ Yds\",\n",
        ")\n",
        "\n",
        "model_poly_1 = bmb.Model(formula_nfl_1, nfl, family=\"negativebinomial\")\n",
        "\n",
        "idata_poly_1 = model_poly_1.fit(idata_kwargs={\"log_likelihood\":True})"
      ],
      "metadata": {
        "colab": {
          "base_uri": "https://localhost:8080/",
          "height": 119,
          "referenced_widgets": [
            "aa00b3a1b46842349fadcb266c1c9e99",
            "9c18d2decea148d6ac360efd9d4ce1ff"
          ]
        },
        "id": "U4VdLJ18CMpD",
        "outputId": "d9b0be76-cc2d-4ffb-df2a-884c8b2c07fd"
      },
      "execution_count": null,
      "outputs": [
        {
          "output_type": "display_data",
          "data": {
            "text/plain": [
              "Output()"
            ],
            "application/vnd.jupyter.widget-view+json": {
              "version_major": 2,
              "version_minor": 0,
              "model_id": "aa00b3a1b46842349fadcb266c1c9e99"
            }
          },
          "metadata": {}
        },
        {
          "output_type": "display_data",
          "data": {
            "text/plain": [],
            "text/html": [
              "<pre style=\"white-space:pre;overflow-x:auto;line-height:normal;font-family:Menlo,'DejaVu Sans Mono',consolas,'Courier New',monospace\"></pre>\n"
            ]
          },
          "metadata": {}
        }
      ]
    },
    {
      "cell_type": "code",
      "source": [
        "#plot of posterior predictive dist\n",
        "bmb.interpret.plot_predictions(model_poly_1, idata_poly_1, \"Yds\", pps=True)\n",
        "#raw data\n",
        "plt.plot(nfl.Yds, nfl.TD, \"C2.\", zorder=-3)"
      ],
      "metadata": {
        "colab": {
          "base_uri": "https://localhost:8080/",
          "height": 501
        },
        "id": "JrFcsushCVt4",
        "outputId": "324cd0c2-cece-4121-9665-ae0da0a1fcc0"
      },
      "execution_count": null,
      "outputs": [
        {
          "output_type": "stream",
          "name": "stderr",
          "text": [
            "/usr/local/lib/python3.11/dist-packages/arviz/rcparams.py:368: FutureWarning: stats.hdi_prob is deprecated since 0.18.0, use stats.ci_prob instead\n",
            "  warnings.warn(\n"
          ]
        },
        {
          "output_type": "execute_result",
          "data": {
            "text/plain": [
              "[<matplotlib.lines.Line2D at 0x7bdbc33f94d0>]"
            ]
          },
          "metadata": {},
          "execution_count": 7
        },
        {
          "output_type": "display_data",
          "data": {
            "text/plain": [
              "<Figure size 640x480 with 1 Axes>"
            ],
            "image/png": "[encoded data removed]"
          },
          "metadata": {}
        }
      ]
    },
    {
      "cell_type": "markdown",
      "source": [
        "This doesn't look great, we can definitely do better. It way overpredicts touchdowns for players with a high number of yards. Let's try some polynomial models."
      ],
      "metadata": {
        "id": "4Nr0JeAME_k4"
      }
    },
    {
      "cell_type": "code",
      "source": [
        "formula_nfl_3 = bmb.Formula(\n",
        "    \"TD ~ poly(Yds, degree=3)\",\n",
        ")\n",
        "\n",
        "model_poly_3 = bmb.Model(formula_nfl_3, nfl, family=\"negativebinomial\")\n",
        "\n",
        "idata_poly_3 = model_poly_3.fit(idata_kwargs={\"log_likelihood\":True})"
      ],
      "metadata": {
        "colab": {
          "base_uri": "https://localhost:8080/",
          "height": 119,
          "referenced_widgets": [
            "d4319d93a585464289d546f19658df1a",
            "a611eb9b8eb9434fb59a00eb79347dba"
          ]
        },
        "id": "pjKDs4n_uXpF",
        "outputId": "7135f9c4-f000-4838-e150-aaa7f173ec50"
      },
      "execution_count": null,
      "outputs": [
        {
          "output_type": "display_data",
          "data": {
            "text/plain": [
              "Output()"
            ],
            "application/vnd.jupyter.widget-view+json": {
              "version_major": 2,
              "version_minor": 0,
              "model_id": "d4319d93a585464289d546f19658df1a"
            }
          },
          "metadata": {}
        },
        {
          "output_type": "display_data",
          "data": {
            "text/plain": [],
            "text/html": [
              "<pre style=\"white-space:pre;overflow-x:auto;line-height:normal;font-family:Menlo,'DejaVu Sans Mono',consolas,'Courier New',monospace\"></pre>\n"
            ]
          },
          "metadata": {}
        }
      ]
    },
    {
      "cell_type": "code",
      "source": [
        "#plot of posterior predictive dist\n",
        "bmb.interpret.plot_predictions(model_poly_3, idata_poly_3, \"Yds\", pps=True)\n",
        "#raw data\n",
        "plt.plot(nfl.Yds, nfl.TD, \"C2.\", zorder=-3)"
      ],
      "metadata": {
        "colab": {
          "base_uri": "https://localhost:8080/",
          "height": 501
        },
        "id": "Ik2zXke2uiXp",
        "outputId": "a24c3867-b371-4682-8296-11706fd2c4f0"
      },
      "execution_count": null,
      "outputs": [
        {
          "output_type": "stream",
          "name": "stderr",
          "text": [
            "/usr/local/lib/python3.11/dist-packages/arviz/rcparams.py:368: FutureWarning: stats.hdi_prob is deprecated since 0.18.0, use stats.ci_prob instead\n",
            "  warnings.warn(\n"
          ]
        },
        {
          "output_type": "execute_result",
          "data": {
            "text/plain": [
              "[<matplotlib.lines.Line2D at 0x7bdbc1ff8650>]"
            ]
          },
          "metadata": {},
          "execution_count": 9
        },
        {
          "output_type": "display_data",
          "data": {
            "text/plain": [
              "<Figure size 640x480 with 1 Axes>"
            ],
            "image/png": "[encoded data removed]"
          },
          "metadata": {}
        }
      ]
    },
    {
      "cell_type": "code",
      "source": [
        "formula_nfl_3_pos = bmb.Formula(\n",
        "    \"TD ~ poly(Yds, degree=3) + Pos\",\n",
        ")\n",
        "\n",
        "model_poly_3_pos = bmb.Model(formula_nfl_3_pos, nfl, family=\"negativebinomial\")\n",
        "\n",
        "idata_poly_3_pos = model_poly_3_pos.fit(idata_kwargs={\"log_likelihood\":True})"
      ],
      "metadata": {
        "colab": {
          "base_uri": "https://localhost:8080/",
          "height": 119,
          "referenced_widgets": [
            "42bb8f842e7d43d3894f748fb2980a86",
            "5f37a086043c4799b4e1ed811a27e4ae"
          ]
        },
        "id": "PdFO6T9ak7g0",
        "outputId": "955eec0b-bbeb-4a1e-c833-5a246bc5ce12"
      },
      "execution_count": null,
      "outputs": [
        {
          "output_type": "display_data",
          "data": {
            "text/plain": [
              "Output()"
            ],
            "application/vnd.jupyter.widget-view+json": {
              "version_major": 2,
              "version_minor": 0,
              "model_id": "42bb8f842e7d43d3894f748fb2980a86"
            }
          },
          "metadata": {}
        },
        {
          "output_type": "display_data",
          "data": {
            "text/plain": [],
            "text/html": [
              "<pre style=\"white-space:pre;overflow-x:auto;line-height:normal;font-family:Menlo,'DejaVu Sans Mono',consolas,'Courier New',monospace\"></pre>\n"
            ]
          },
          "metadata": {}
        }
      ]
    },
    {
      "cell_type": "code",
      "source": [
        "#plot of posterior predictive dist\n",
        "bmb.interpret.plot_predictions(model_poly_3_pos, idata_poly_3_pos, \"Yds\", pps=True)\n",
        "#raw data\n",
        "plt.plot(nfl.Yds, nfl.TD, \"C2.\", zorder=-3)"
      ],
      "metadata": {
        "colab": {
          "base_uri": "https://localhost:8080/",
          "height": 501
        },
        "id": "4Kn5M8ivlGCB",
        "outputId": "db14db86-ccfb-4961-88b4-f906427c943d"
      },
      "execution_count": null,
      "outputs": [
        {
          "output_type": "stream",
          "name": "stderr",
          "text": [
            "/usr/local/lib/python3.11/dist-packages/arviz/rcparams.py:368: FutureWarning: stats.hdi_prob is deprecated since 0.18.0, use stats.ci_prob instead\n",
            "  warnings.warn(\n"
          ]
        },
        {
          "output_type": "execute_result",
          "data": {
            "text/plain": [
              "[<matplotlib.lines.Line2D at 0x7bdbd6385f10>]"
            ]
          },
          "metadata": {},
          "execution_count": 11
        },
        {
          "output_type": "display_data",
          "data": {
            "text/plain": [
              "<Figure size 640x480 with 1 Axes>"
            ],
            "image/png": "[encoded data removed]"
          },
          "metadata": {}
        }
      ]
    },
    {
      "cell_type": "code",
      "source": [
        "formula_nfl_3_comb = bmb.Formula(\n",
        "    \"TD ~ poly(Rec, degree=3) + poly(Yds, degree=3)\",\n",
        ")\n",
        "\n",
        "model_poly_3_comb = bmb.Model(formula_nfl_3_comb, nfl, family=\"negativebinomial\")\n",
        "\n",
        "idata_poly_3_comb = model_poly_3_comb.fit(idata_kwargs={\"log_likelihood\":True})"
      ],
      "metadata": {
        "colab": {
          "base_uri": "https://localhost:8080/",
          "height": 119,
          "referenced_widgets": [
            "c7eaeff8d4d04d839a2738dfc8262c9c",
            "4a9e459641e6430c9e2d350ed0630182"
          ]
        },
        "id": "RgcuX6p1yQsT",
        "outputId": "9d129503-f791-4a4b-f940-6adc5c4735be"
      },
      "execution_count": null,
      "outputs": [
        {
          "output_type": "display_data",
          "data": {
            "text/plain": [
              "Output()"
            ],
            "application/vnd.jupyter.widget-view+json": {
              "version_major": 2,
              "version_minor": 0,
              "model_id": "c7eaeff8d4d04d839a2738dfc8262c9c"
            }
          },
          "metadata": {}
        },
        {
          "output_type": "display_data",
          "data": {
            "text/plain": [],
            "text/html": [
              "<pre style=\"white-space:pre;overflow-x:auto;line-height:normal;font-family:Menlo,'DejaVu Sans Mono',consolas,'Courier New',monospace\"></pre>\n"
            ]
          },
          "metadata": {}
        }
      ]
    },
    {
      "cell_type": "code",
      "source": [
        "#plot of posterior predictive dist\n",
        "bmb.interpret.plot_predictions(model_poly_3_comb, idata_poly_3_comb, \"Yds\", pps=True)\n",
        "#raw data\n",
        "plt.plot(nfl.Yds, nfl.TD, \"C2.\", zorder=-3)"
      ],
      "metadata": {
        "colab": {
          "base_uri": "https://localhost:8080/",
          "height": 501
        },
        "id": "XnvJAO0azeJV",
        "outputId": "797a0dd0-f686-48ab-bfc7-01f80ef9c261"
      },
      "execution_count": null,
      "outputs": [
        {
          "output_type": "stream",
          "name": "stderr",
          "text": [
            "/usr/local/lib/python3.11/dist-packages/arviz/rcparams.py:368: FutureWarning: stats.hdi_prob is deprecated since 0.18.0, use stats.ci_prob instead\n",
            "  warnings.warn(\n"
          ]
        },
        {
          "output_type": "execute_result",
          "data": {
            "text/plain": [
              "[<matplotlib.lines.Line2D at 0x7bdbc0371210>]"
            ]
          },
          "metadata": {},
          "execution_count": 13
        },
        {
          "output_type": "display_data",
          "data": {
            "text/plain": [
              "<Figure size 640x480 with 1 Axes>"
            ],
            "image/png": "[encoded data removed]"
          },
          "metadata": {}
        }
      ]
    },
    {
      "cell_type": "markdown",
      "source": [
        "I'm curious to see how a distributional model will do, so I'll run one of those too."
      ],
      "metadata": {
        "id": "LZl2Zem7FS9V"
      }
    },
    {
      "cell_type": "code",
      "execution_count": null,
      "metadata": {
        "colab": {
          "base_uri": "https://localhost:8080/",
          "height": 119,
          "referenced_widgets": [
            "f5f762940bc847b3a00d0a3b9e811ad1",
            "7efd9dc6744a483db3badd81b4dd340f"
          ]
        },
        "id": "D7yDI5HBgdCa",
        "outputId": "1207db49-da8f-4c8c-8d5c-17953b4087ed"
      },
      "outputs": [
        {
          "output_type": "display_data",
          "data": {
            "text/plain": [
              "Output()"
            ],
            "application/vnd.jupyter.widget-view+json": {
              "version_major": 2,
              "version_minor": 0,
              "model_id": "f5f762940bc847b3a00d0a3b9e811ad1"
            }
          },
          "metadata": {}
        },
        {
          "output_type": "display_data",
          "data": {
            "text/plain": [],
            "text/html": [
              "<pre style=\"white-space:pre;overflow-x:auto;line-height:normal;font-family:Menlo,'DejaVu Sans Mono',consolas,'Courier New',monospace\"></pre>\n"
            ]
          },
          "metadata": {}
        }
      ],
      "source": [
        "formula_nfl_1_dis = bmb.Formula(\n",
        "    \"TD ~ Yds\",\n",
        "    \"sigma ~ poly(Yds, degree=2)\"\n",
        ")\n",
        "\n",
        "model_poly_1_dis = bmb.Model(formula_nfl_1_dis, nfl)\n",
        "\n",
        "idata_poly_1_dis = model_poly_1_dis.fit(idata_kwargs={\"log_likelihood\":True})"
      ]
    },
    {
      "cell_type": "code",
      "source": [
        "#plot of posterior predictive dist\n",
        "bmb.interpret.plot_predictions(model_poly_1_dis, idata_poly_1_dis, \"Yds\", pps=True)\n",
        "#raw data\n",
        "plt.plot(nfl.Yds, nfl.TD, \"C2.\", zorder=-3)"
      ],
      "metadata": {
        "colab": {
          "base_uri": "https://localhost:8080/",
          "height": 501
        },
        "id": "__vg73uIrKki",
        "outputId": "62b2a216-53ba-4767-baa4-907c5176de11"
      },
      "execution_count": null,
      "outputs": [
        {
          "output_type": "stream",
          "name": "stderr",
          "text": [
            "/usr/local/lib/python3.11/dist-packages/arviz/rcparams.py:368: FutureWarning: stats.hdi_prob is deprecated since 0.18.0, use stats.ci_prob instead\n",
            "  warnings.warn(\n"
          ]
        },
        {
          "output_type": "execute_result",
          "data": {
            "text/plain": [
              "[<matplotlib.lines.Line2D at 0x7bdbd61aeb90>]"
            ]
          },
          "metadata": {},
          "execution_count": 15
        },
        {
          "output_type": "display_data",
          "data": {
            "text/plain": [
              "<Figure size 640x480 with 1 Axes>"
            ],
            "image/png": "[encoded data removed]"
          },
          "metadata": {}
        }
      ]
    },
    {
      "cell_type": "code",
      "source": [
        "formula_nfl_3_rate = bmb.Formula(\n",
        "    \"TD ~ poly(YpG, degree=3)\"\n",
        ")\n",
        "\n",
        "model_poly_3_rate = bmb.Model(formula_nfl_3_rate, nfl, family=\"negativebinomial\")\n",
        "\n",
        "idata_poly_3_rate = model_poly_3_rate.fit(idata_kwargs={\"log_likelihood\":True})"
      ],
      "metadata": {
        "colab": {
          "base_uri": "https://localhost:8080/",
          "height": 119,
          "referenced_widgets": [
            "c066eb8d3d744d2b820f0d446c3315b9",
            "c4059c916aef4bdd846e681e2e78446d"
          ]
        },
        "id": "pPg4wPG7wH7w",
        "outputId": "eea850b8-f150-4997-c954-f5a280645e08"
      },
      "execution_count": null,
      "outputs": [
        {
          "output_type": "display_data",
          "data": {
            "text/plain": [
              "Output()"
            ],
            "application/vnd.jupyter.widget-view+json": {
              "version_major": 2,
              "version_minor": 0,
              "model_id": "c066eb8d3d744d2b820f0d446c3315b9"
            }
          },
          "metadata": {}
        },
        {
          "output_type": "display_data",
          "data": {
            "text/plain": [],
            "text/html": [
              "<pre style=\"white-space:pre;overflow-x:auto;line-height:normal;font-family:Menlo,'DejaVu Sans Mono',consolas,'Courier New',monospace\"></pre>\n"
            ]
          },
          "metadata": {}
        }
      ]
    },
    {
      "cell_type": "code",
      "source": [
        "#plot of posterior predictive dist\n",
        "bmb.interpret.plot_predictions(model_poly_3_rate, idata_poly_3_rate, \"YpG\", pps=True)\n",
        "#raw data\n",
        "plt.plot(nfl.YpG, nfl.TD, \"C2.\", zorder=-3)"
      ],
      "metadata": {
        "colab": {
          "base_uri": "https://localhost:8080/",
          "height": 501
        },
        "id": "QYKyu_C2w_b4",
        "outputId": "b0eed91a-5781-485d-84f4-0f8122755e63"
      },
      "execution_count": null,
      "outputs": [
        {
          "output_type": "stream",
          "name": "stderr",
          "text": [
            "/usr/local/lib/python3.11/dist-packages/arviz/rcparams.py:368: FutureWarning: stats.hdi_prob is deprecated since 0.18.0, use stats.ci_prob instead\n",
            "  warnings.warn(\n"
          ]
        },
        {
          "output_type": "execute_result",
          "data": {
            "text/plain": [
              "[<matplotlib.lines.Line2D at 0x7bdbd55c3ed0>]"
            ]
          },
          "metadata": {},
          "execution_count": 17
        },
        {
          "output_type": "display_data",
          "data": {
            "text/plain": [
              "<Figure size 640x480 with 1 Axes>"
            ],
            "image/png": "[encoded data removed]"
          },
          "metadata": {}
        }
      ]
    },
    {
      "cell_type": "code",
      "source": [
        "formula_nfl_3_total = bmb.Formula(\n",
        "    \"TD ~ poly(Yds, degree=3) + Lng\"\n",
        ")\n",
        "\n",
        "model_poly_3_total = bmb.Model(formula_nfl_3_total, nfl, family=\"negativebinomial\")\n",
        "\n",
        "idata_poly_3_total = model_poly_3_total.fit(idata_kwargs={\"log_likelihood\":True})"
      ],
      "metadata": {
        "colab": {
          "base_uri": "https://localhost:8080/",
          "height": 119,
          "referenced_widgets": [
            "14abde65ed2a419bb8334f66f5e9e5e1",
            "f915a75e78ec4b24bb0e8844ba44ddb9"
          ]
        },
        "id": "4heNp_DQy3sj",
        "outputId": "7b2b0816-d657-43ba-d0f2-16fe72e451ec"
      },
      "execution_count": null,
      "outputs": [
        {
          "output_type": "display_data",
          "data": {
            "text/plain": [
              "Output()"
            ],
            "application/vnd.jupyter.widget-view+json": {
              "version_major": 2,
              "version_minor": 0,
              "model_id": "14abde65ed2a419bb8334f66f5e9e5e1"
            }
          },
          "metadata": {}
        },
        {
          "output_type": "display_data",
          "data": {
            "text/plain": [],
            "text/html": [
              "<pre style=\"white-space:pre;overflow-x:auto;line-height:normal;font-family:Menlo,'DejaVu Sans Mono',consolas,'Courier New',monospace\"></pre>\n"
            ]
          },
          "metadata": {}
        }
      ]
    },
    {
      "cell_type": "code",
      "source": [
        "#plot of posterior predictive dist\n",
        "bmb.interpret.plot_predictions(model_poly_3_total, idata_poly_3_total, \"Yds\", pps=True)\n",
        "#raw data\n",
        "plt.plot(nfl.Yds, nfl.TD, \"C2.\", zorder=-3)"
      ],
      "metadata": {
        "colab": {
          "base_uri": "https://localhost:8080/",
          "height": 504
        },
        "id": "yIgumirj15Oy",
        "outputId": "cf51841b-da0b-4d30-a7d2-c587a4e2c2eb"
      },
      "execution_count": null,
      "outputs": [
        {
          "output_type": "stream",
          "name": "stderr",
          "text": [
            "/usr/local/lib/python3.11/dist-packages/arviz/rcparams.py:368: FutureWarning: stats.hdi_prob is deprecated since 0.18.0, use stats.ci_prob instead\n",
            "  warnings.warn(\n"
          ]
        },
        {
          "output_type": "execute_result",
          "data": {
            "text/plain": [
              "[<matplotlib.lines.Line2D at 0x7bdbbfba2850>]"
            ]
          },
          "metadata": {},
          "execution_count": 19
        },
        {
          "output_type": "display_data",
          "data": {
            "text/plain": [
              "<Figure size 640x480 with 1 Axes>"
            ],
            "image/png": "[encoded data removed]"
          },
          "metadata": {}
        }
      ]
    },
    {
      "cell_type": "markdown",
      "source": [
        "Here's some models with hierarchy or interaction terms thrown in based on position, which I think will affect results heavily (wide receivers tend to have a stronger correlation with yards to touchdowns than any other position from what I've observed)."
      ],
      "metadata": {
        "id": "rLP5XhPfFhbF"
      }
    },
    {
      "cell_type": "code",
      "source": [
        "formula_nfl_3_total_int = bmb.Formula(\n",
        "    \"TD ~ poly(Yds, degree=3) + Lng + Yds:Pos\"\n",
        ")\n",
        "\n",
        "model_poly_3_total_int = bmb.Model(formula_nfl_3_total_int, nfl, family=\"negativebinomial\")\n",
        "\n",
        "idata_poly_3_total_int = model_poly_3_total_int.fit(idata_kwargs={\"log_likelihood\":True})"
      ],
      "metadata": {
        "colab": {
          "base_uri": "https://localhost:8080/",
          "height": 119,
          "referenced_widgets": [
            "3ed1e5d4a7e94dda9923acb620a9e832",
            "eaf69669913f4724975d8b3c70010d67"
          ]
        },
        "id": "2Tn0mt7n79pQ",
        "outputId": "5618967e-d30b-4bb8-dff8-021248004fd3"
      },
      "execution_count": null,
      "outputs": [
        {
          "output_type": "display_data",
          "data": {
            "text/plain": [
              "Output()"
            ],
            "application/vnd.jupyter.widget-view+json": {
              "version_major": 2,
              "version_minor": 0,
              "model_id": "3ed1e5d4a7e94dda9923acb620a9e832"
            }
          },
          "metadata": {}
        },
        {
          "output_type": "display_data",
          "data": {
            "text/plain": [],
            "text/html": [
              "<pre style=\"white-space:pre;overflow-x:auto;line-height:normal;font-family:Menlo,'DejaVu Sans Mono',consolas,'Courier New',monospace\"></pre>\n"
            ]
          },
          "metadata": {}
        }
      ]
    },
    {
      "cell_type": "code",
      "source": [
        "#plot of posterior predictive dist\n",
        "bmb.interpret.plot_predictions(model_poly_3_total_int, idata_poly_3_total_int, \"Yds\", pps=True)\n",
        "#raw data\n",
        "plt.plot(nfl.Yds, nfl.TD, \"C2.\", zorder=-3)"
      ],
      "metadata": {
        "colab": {
          "base_uri": "https://localhost:8080/",
          "height": 504
        },
        "id": "tV0uqlcF85KD",
        "outputId": "4fb70f62-f81f-45d9-e48b-92965a2b418a"
      },
      "execution_count": null,
      "outputs": [
        {
          "output_type": "stream",
          "name": "stderr",
          "text": [
            "/usr/local/lib/python3.11/dist-packages/arviz/rcparams.py:368: FutureWarning: stats.hdi_prob is deprecated since 0.18.0, use stats.ci_prob instead\n",
            "  warnings.warn(\n"
          ]
        },
        {
          "output_type": "execute_result",
          "data": {
            "text/plain": [
              "[<matplotlib.lines.Line2D at 0x7bdc1dac3ad0>]"
            ]
          },
          "metadata": {},
          "execution_count": 23
        },
        {
          "output_type": "display_data",
          "data": {
            "text/plain": [
              "<Figure size 640x480 with 1 Axes>"
            ],
            "image/png": "[encoded data removed]"
          },
          "metadata": {}
        }
      ]
    },
    {
      "cell_type": "markdown",
      "source": [
        "Most of the models so far have looked pretty successful, so I'm not sure if a more poweful model is necessary, but here are some b-splines for fun."
      ],
      "metadata": {
        "id": "TPs5o05eFx1n"
      }
    },
    {
      "cell_type": "code",
      "source": [
        "num_knots = 3\n",
        "knots = np.linspace(0, 1708, num_knots+2)[1:-1]\n",
        "model_spline_3 = bmb.Model(\"TD ~ bs(Yds, degree=3, knots=knots)\", nfl, family=\"negativebinomial\")\n",
        "idata_spline_3 = model_spline_3.fit(idata_kwargs={\"log_likelihood\":True})"
      ],
      "metadata": {
        "colab": {
          "base_uri": "https://localhost:8080/",
          "height": 119,
          "referenced_widgets": [
            "81b42cdb0ecb4cf6814ac62906c9cc91",
            "e07b688689964c8a8edb8eb92e5fa279"
          ]
        },
        "id": "qlG3Erj4sGQd",
        "outputId": "fc2da6fd-a3fe-4de1-91a0-416c27470115"
      },
      "execution_count": null,
      "outputs": [
        {
          "output_type": "display_data",
          "data": {
            "text/plain": [
              "Output()"
            ],
            "application/vnd.jupyter.widget-view+json": {
              "version_major": 2,
              "version_minor": 0,
              "model_id": "81b42cdb0ecb4cf6814ac62906c9cc91"
            }
          },
          "metadata": {}
        },
        {
          "output_type": "display_data",
          "data": {
            "text/plain": [],
            "text/html": [
              "<pre style=\"white-space:pre;overflow-x:auto;line-height:normal;font-family:Menlo,'DejaVu Sans Mono',consolas,'Courier New',monospace\"></pre>\n"
            ]
          },
          "metadata": {}
        }
      ]
    },
    {
      "cell_type": "code",
      "source": [
        "#plot of posterior predictive dist\n",
        "bmb.interpret.plot_predictions(model_spline_3, idata_spline_3, \"Yds\", pps=True)\n",
        "#raw data\n",
        "plt.plot(nfl.Yds, nfl.TD, \"C2.\", zorder=-3)"
      ],
      "metadata": {
        "colab": {
          "base_uri": "https://localhost:8080/",
          "height": 501
        },
        "id": "6Qp9dSizsiU0",
        "outputId": "84a5eb6a-910b-466b-9a0a-10c2ecb08225"
      },
      "execution_count": null,
      "outputs": [
        {
          "output_type": "stream",
          "name": "stderr",
          "text": [
            "/usr/local/lib/python3.11/dist-packages/arviz/rcparams.py:368: FutureWarning: stats.hdi_prob is deprecated since 0.18.0, use stats.ci_prob instead\n",
            "  warnings.warn(\n"
          ]
        },
        {
          "output_type": "execute_result",
          "data": {
            "text/plain": [
              "[<matplotlib.lines.Line2D at 0x7bdbc1372cd0>]"
            ]
          },
          "metadata": {},
          "execution_count": 25
        },
        {
          "output_type": "display_data",
          "data": {
            "text/plain": [
              "<Figure size 640x480 with 1 Axes>"
            ],
            "image/png": "[encoded data removed]"
          },
          "metadata": {}
        }
      ]
    },
    {
      "cell_type": "code",
      "source": [
        "knots_manual = [250, 750, 1250]\n",
        "model_spline_manual = bmb.Model(\"TD ~ bs(Yds, degree=2, knots=knots_manual)\", nfl, family=\"negativebinomial\")\n",
        "idata_spline_manual = model_spline_manual.fit(idata_kwargs={\"log_likelihood\":True})"
      ],
      "metadata": {
        "colab": {
          "base_uri": "https://localhost:8080/",
          "height": 119,
          "referenced_widgets": [
            "22810bfd470a41d3b2de93097db4f057",
            "0eab7b68b2e04444b105fb11b3362862"
          ]
        },
        "id": "YrlVIgd45vlz",
        "outputId": "f2be8f22-ac5e-43da-8194-dcabfcc3d4f6"
      },
      "execution_count": null,
      "outputs": [
        {
          "output_type": "display_data",
          "data": {
            "text/plain": [
              "Output()"
            ],
            "application/vnd.jupyter.widget-view+json": {
              "version_major": 2,
              "version_minor": 0,
              "model_id": "22810bfd470a41d3b2de93097db4f057"
            }
          },
          "metadata": {}
        },
        {
          "output_type": "display_data",
          "data": {
            "text/plain": [],
            "text/html": [
              "<pre style=\"white-space:pre;overflow-x:auto;line-height:normal;font-family:Menlo,'DejaVu Sans Mono',consolas,'Courier New',monospace\"></pre>\n"
            ]
          },
          "metadata": {}
        }
      ]
    },
    {
      "cell_type": "code",
      "source": [
        "#plot of posterior predictive dist\n",
        "bmb.interpret.plot_predictions(model_spline_manual, idata_spline_manual, \"Yds\", pps=True)\n",
        "#raw data\n",
        "plt.plot(nfl.Yds, nfl.TD, \"C2.\", zorder=-3)"
      ],
      "metadata": {
        "colab": {
          "base_uri": "https://localhost:8080/",
          "height": 501
        },
        "id": "JNo3Kkq17l3o",
        "outputId": "dce18afc-80e0-4d3e-b232-0b9658fef67c"
      },
      "execution_count": null,
      "outputs": [
        {
          "output_type": "stream",
          "name": "stderr",
          "text": [
            "/usr/local/lib/python3.11/dist-packages/arviz/rcparams.py:368: FutureWarning: stats.hdi_prob is deprecated since 0.18.0, use stats.ci_prob instead\n",
            "  warnings.warn(\n"
          ]
        },
        {
          "output_type": "execute_result",
          "data": {
            "text/plain": [
              "[<matplotlib.lines.Line2D at 0x7bdbbf3e8110>]"
            ]
          },
          "metadata": {},
          "execution_count": 27
        },
        {
          "output_type": "display_data",
          "data": {
            "text/plain": [
              "<Figure size 640x480 with 1 Axes>"
            ],
            "image/png": "[encoded data removed]"
          },
          "metadata": {}
        }
      ]
    },
    {
      "cell_type": "code",
      "source": [
        "def get_ig_params(x_vals, l_b=None, u_b=None, mass=0.96, plot=False):\n",
        "    differences = np.abs(np.subtract.outer(x_vals, x_vals))\n",
        "    if l_b is None:\n",
        "        l_b = np.min(differences[differences != 0]) * 2\n",
        "    if u_b is None:\n",
        "        u_b = np.max(differences) / 1.5\n",
        "\n",
        "    dist = pz.InverseGamma()\n",
        "    pz.maxent(dist, l_b, u_b, mass, plot=plot)\n",
        "\n",
        "    return dict(zip(dist.param_names, dist.params))"
      ],
      "metadata": {
        "id": "OMoiB8pJyvDr"
      },
      "execution_count": null,
      "outputs": []
    },
    {
      "cell_type": "code",
      "source": [
        "TD = nfl[\"TD\"].values\n",
        "Yds = nfl[\"Yds\"].values[:,None]"
      ],
      "metadata": {
        "id": "XUMu512ux3Xj"
      },
      "execution_count": null,
      "outputs": []
    },
    {
      "cell_type": "markdown",
      "source": [
        "This is definitely overkill for the complexity of this data, but just because I feel like it, here's a HSGP (Gaussian Process) that should theoretically perfectly model the data. It's worth noting that you can't run an elpd_loo calculation on this, so I'm not sure exactly how it compares to the other models, but to me I think the trend is too weak in many places. Then again, the 3rd degree polynomials spike up at the end in a way that I don't think is accurate, so I might consider this model better for its behavior at the far right end."
      ],
      "metadata": {
        "id": "BVdiPCb6F-tp"
      }
    },
    {
      "cell_type": "code",
      "source": [
        "prior_gp = {\n",
        "    \"sigma\": bmb.Prior(\"Gamma\", mu=1, sigma=0.01),\n",
        "    \"ell\": bmb.Prior(\"InverseGamma\", **get_ig_params(Yds))\n",
        "}\n",
        "\n",
        "priors = {\n",
        "    \"hsgp(Yds, m=10, c=1.5)\": prior_gp,\n",
        "    \"alpha\": bmb.Prior(\"HalfNormal\", sigma=1)\n",
        "}\n",
        "\n",
        "model_hsb = bmb.Model(\"TD ~ 0 + hsgp(Yds, m=10, c=1.5)\", nfl, family=\"negativebinomial\", priors=priors)\n",
        "idata_hsb = model_hsb.fit()"
      ],
      "metadata": {
        "colab": {
          "base_uri": "https://localhost:8080/",
          "height": 119,
          "referenced_widgets": [
            "201e86d6611344298e45e3cf000654f2",
            "28cd6ef215b34b3cbd8300b57fb7e3e4"
          ]
        },
        "id": "IDcoDwQayBHL",
        "outputId": "31fcc484-3e03-4753-c5b9-e51f26eba389"
      },
      "execution_count": null,
      "outputs": [
        {
          "output_type": "display_data",
          "data": {
            "text/plain": [
              "Output()"
            ],
            "application/vnd.jupyter.widget-view+json": {
              "version_major": 2,
              "version_minor": 0,
              "model_id": "201e86d6611344298e45e3cf000654f2"
            }
          },
          "metadata": {}
        },
        {
          "output_type": "display_data",
          "data": {
            "text/plain": [],
            "text/html": [
              "<pre style=\"white-space:pre;overflow-x:auto;line-height:normal;font-family:Menlo,'DejaVu Sans Mono',consolas,'Courier New',monospace\"></pre>\n"
            ]
          },
          "metadata": {}
        }
      ]
    },
    {
      "cell_type": "code",
      "source": [
        "_, ax = bmb.interpret.plot_predictions(model_hsb, idata_hsb, [\"Yds\"],\n",
        "                                       pps = True,\n",
        "                                       fig_kwargs={\"figsize\": (10, 3)})\n",
        "ax[0].plot(nfl[\"Yds\"].values, nfl[\"TD\"].values, \"C2.\")"
      ],
      "metadata": {
        "colab": {
          "base_uri": "https://localhost:8080/"
        },
        "id": "2E44yIIFzSBp",
        "outputId": "59761f09-5efa-4100-b57b-8d6fb1aa9f11"
      },
      "execution_count": null,
      "outputs": [
        {
          "output_type": "stream",
          "name": "stderr",
          "text": [
            "/usr/local/lib/python3.11/dist-packages/arviz/rcparams.py:368: FutureWarning: stats.hdi_prob is deprecated since 0.18.0, use stats.ci_prob instead\n",
            "  warnings.warn(\n"
          ]
        },
        {
          "output_type": "execute_result",
          "data": {
            "text/plain": [
              "[<matplotlib.lines.Line2D at 0x7bdbb63232d0>]"
            ]
          },
          "metadata": {},
          "execution_count": 31
        },
        {
          "output_type": "display_data",
          "data": {
            "text/plain": [
              "<Figure size 1000x300 with 1 Axes>"
            ],
            "image/png": "[encoded data removed]"
          },
          "metadata": {}
        }
      ]
    },
    {
      "cell_type": "code",
      "source": [
        "cmp_df_bmb = az.compare( {\"Poly 3Yds\":idata_poly_3,\"Poly 3Yds Dis Yds\":idata_poly_1_dis,\"Poly 3YpR\":idata_poly_3_rate,\n",
        "                          \"Poly 3Yds 1YpR\":idata_poly_3_total,\"Poly 3Yds 1YpR Int YdsPos\":idata_poly_3_total_int,\n",
        "                          \"Poly 1Yds\":idata_poly_1,\"BSpline3 3Yds\":idata_spline_3, \"Poly 3Yds 3Rec\":idata_poly_3_comb,\n",
        "                          \"Poly 3Yds 1Pos\":idata_poly_3_pos, \"BSplineManual 1Yds\":idata_spline_manual} )\n",
        "cmp_df_bmb"
      ],
      "metadata": {
        "colab": {
          "base_uri": "https://localhost:8080/",
          "height": 522
        },
        "id": "jkSeA13pAheC",
        "outputId": "154e7d8c-4358-433c-ac15-b92b688db1a7"
      },
      "execution_count": null,
      "outputs": [
        {
          "output_type": "stream",
          "name": "stderr",
          "text": [
            "/usr/local/lib/python3.11/dist-packages/arviz/stats/stats.py:795: UserWarning: Estimated shape parameter of Pareto distribution is greater than 0.70 for one or more samples. You should consider using a more robust model, this is because importance sampling is less likely to work well if the marginal posterior and LOO posterior are very different. This is more likely to happen with a non-robust model and highly influential observations.\n",
            "  warnings.warn(\n",
            "/usr/local/lib/python3.11/dist-packages/arviz/stats/stats.py:795: UserWarning: Estimated shape parameter of Pareto distribution is greater than 0.70 for one or more samples. You should consider using a more robust model, this is because importance sampling is less likely to work well if the marginal posterior and LOO posterior are very different. This is more likely to happen with a non-robust model and highly influential observations.\n",
            "  warnings.warn(\n",
            "/usr/local/lib/python3.11/dist-packages/arviz/stats/stats.py:795: UserWarning: Estimated shape parameter of Pareto distribution is greater than 0.70 for one or more samples. You should consider using a more robust model, this is because importance sampling is less likely to work well if the marginal posterior and LOO posterior are very different. This is more likely to happen with a non-robust model and highly influential observations.\n",
            "  warnings.warn(\n",
            "/usr/local/lib/python3.11/dist-packages/arviz/stats/stats.py:795: UserWarning: Estimated shape parameter of Pareto distribution is greater than 0.70 for one or more samples. You should consider using a more robust model, this is because importance sampling is less likely to work well if the marginal posterior and LOO posterior are very different. This is more likely to happen with a non-robust model and highly influential observations.\n",
            "  warnings.warn(\n"
          ]
        },
        {
          "output_type": "execute_result",
          "data": {
            "text/plain": [
              "                           rank    elpd_loo     p_loo  elpd_diff  \\\n",
              "Poly 3Yds 1YpR                0 -535.999448  4.853481   0.000000   \n",
              "Poly 3Yds                     1 -537.532000  3.878883   1.532552   \n",
              "Poly 3Yds 1YpR Int YdsPos     2 -538.053468  7.949863   2.054020   \n",
              "Poly 3Yds 1Pos                3 -538.313426  6.787760   2.313978   \n",
              "Poly 3Yds 3Rec                4 -538.690210  6.827189   2.690762   \n",
              "BSplineManual 1Yds            5 -539.527538  5.458453   3.528089   \n",
              "BSpline3 3Yds                 6 -540.892994  6.696566   4.893546   \n",
              "Poly 3YpR                     7 -570.374729  4.543661  34.375281   \n",
              "Poly 1Yds                     8 -574.862203  2.819918  38.862755   \n",
              "Poly 3Yds Dis Yds             9 -590.925456  6.907221  54.926008   \n",
              "\n",
              "                                 weight         se       dse  warning scale  \n",
              "Poly 3Yds 1YpR             7.545975e-01  16.595786  0.000000     True   log  \n",
              "Poly 3Yds                  2.484606e-11  16.644651  2.199026    False   log  \n",
              "Poly 3Yds 1YpR Int YdsPos  2.301428e-11  16.756718  1.935729     True   log  \n",
              "Poly 3Yds 1Pos             2.454025e-01  16.814625  3.028300    False   log  \n",
              "Poly 3Yds 3Rec             2.397481e-11  16.708690  2.317196    False   log  \n",
              "BSplineManual 1Yds         2.303662e-11  16.696358  2.140193    False   log  \n",
              "BSpline3 3Yds              2.220205e-11  16.790780  2.317290     True   log  \n",
              "Poly 3YpR                  1.709411e-11  17.477428  6.921997    False   log  \n",
              "Poly 1Yds                  2.819841e-11  17.048622  7.999732    False   log  \n",
              "Poly 3Yds Dis Yds          0.000000e+00  18.044974  9.381687     True   log  "
            ],
            "text/html": [
              "\n",
              "  <div id=\"df-0268d06b-4bbe-4d92-acae-b52f888ad7d9\" class=\"colab-df-container\">\n",
              "    <div>\n",
              "<style scoped>\n",
              "    .dataframe tbody tr th:only-of-type {\n",
              "        vertical-align: middle;\n",
              "    }\n",
              "\n",
              "    .dataframe tbody tr th {\n",
              "        vertical-align: top;\n",
              "    }\n",
              "\n",
              "    .dataframe thead th {\n",
              "        text-align: right;\n",
              "    }\n",
              "</style>\n",
              "<table border=\"1\" class=\"dataframe\">\n",
              "  <thead>\n",
              "    <tr style=\"text-align: right;\">\n",
              "      <th></th>\n",
              "      <th>rank</th>\n",
              "      <th>elpd_loo</th>\n",
              "      <th>p_loo</th>\n",
              "      <th>elpd_diff</th>\n",
              "      <th>weight</th>\n",
              "      <th>se</th>\n",
              "      <th>dse</th>\n",
              "      <th>warning</th>\n",
              "      <th>scale</th>\n",
              "    </tr>\n",
              "  </thead>\n",
              "  <tbody>\n",
              "    <tr>\n",
              "      <th>Poly 3Yds 1YpR</th>\n",
              "      <td>0</td>\n",
              "      <td>-535.999448</td>\n",
              "      <td>4.853481</td>\n",
              "      <td>0.000000</td>\n",
              "      <td>7.545975e-01</td>\n",
              "      <td>16.595786</td>\n",
              "      <td>0.000000</td>\n",
              "      <td>True</td>\n",
              "      <td>log</td>\n",
              "    </tr>\n",
              "    <tr>\n",
              "      <th>Poly 3Yds</th>\n",
              "      <td>1</td>\n",
              "      <td>-537.532000</td>\n",
              "      <td>3.878883</td>\n",
              "      <td>1.532552</td>\n",
              "      <td>2.484606e-11</td>\n",
              "      <td>16.644651</td>\n",
              "      <td>2.199026</td>\n",
              "      <td>False</td>\n",
              "      <td>log</td>\n",
              "    </tr>\n",
              "    <tr>\n",
              "      <th>Poly 3Yds 1YpR Int YdsPos</th>\n",
              "      <td>2</td>\n",
              "      <td>-538.053468</td>\n",
              "      <td>7.949863</td>\n",
              "      <td>2.054020</td>\n",
              "      <td>2.301428e-11</td>\n",
              "      <td>16.756718</td>\n",
              "      <td>1.935729</td>\n",
              "      <td>True</td>\n",
              "      <td>log</td>\n",
              "    </tr>\n",
              "    <tr>\n",
              "      <th>Poly 3Yds 1Pos</th>\n",
              "      <td>3</td>\n",
              "      <td>-538.313426</td>\n",
              "      <td>6.787760</td>\n",
              "      <td>2.313978</td>\n",
              "      <td>2.454025e-01</td>\n",
              "      <td>16.814625</td>\n",
              "      <td>3.028300</td>\n",
              "      <td>False</td>\n",
              "      <td>log</td>\n",
              "    </tr>\n",
              "    <tr>\n",
              "      <th>Poly 3Yds 3Rec</th>\n",
              "      <td>4</td>\n",
              "      <td>-538.690210</td>\n",
              "      <td>6.827189</td>\n",
              "      <td>2.690762</td>\n",
              "      <td>2.397481e-11</td>\n",
              "      <td>16.708690</td>\n",
              "      <td>2.317196</td>\n",
              "      <td>False</td>\n",
              "      <td>log</td>\n",
              "    </tr>\n",
              "    <tr>\n",
              "      <th>BSplineManual 1Yds</th>\n",
              "      <td>5</td>\n",
              "      <td>-539.527538</td>\n",
              "      <td>5.458453</td>\n",
              "      <td>3.528089</td>\n",
              "      <td>2.303662e-11</td>\n",
              "      <td>16.696358</td>\n",
              "      <td>2.140193</td>\n",
              "      <td>False</td>\n",
              "      <td>log</td>\n",
              "    </tr>\n",
              "    <tr>\n",
              "      <th>BSpline3 3Yds</th>\n",
              "      <td>6</td>\n",
              "      <td>-540.892994</td>\n",
              "      <td>6.696566</td>\n",
              "      <td>4.893546</td>\n",
              "      <td>2.220205e-11</td>\n",
              "      <td>16.790780</td>\n",
              "      <td>2.317290</td>\n",
              "      <td>True</td>\n",
              "      <td>log</td>\n",
              "    </tr>\n",
              "    <tr>\n",
              "      <th>Poly 3YpR</th>\n",
              "      <td>7</td>\n",
              "      <td>-570.374729</td>\n",
              "      <td>4.543661</td>\n",
              "      <td>34.375281</td>\n",
              "      <td>1.709411e-11</td>\n",
              "      <td>17.477428</td>\n",
              "      <td>6.921997</td>\n",
              "      <td>False</td>\n",
              "      <td>log</td>\n",
              "    </tr>\n",
              "    <tr>\n",
              "      <th>Poly 1Yds</th>\n",
              "      <td>8</td>\n",
              "      <td>-574.862203</td>\n",
              "      <td>2.819918</td>\n",
              "      <td>38.862755</td>\n",
              "      <td>2.819841e-11</td>\n",
              "      <td>17.048622</td>\n",
              "      <td>7.999732</td>\n",
              "      <td>False</td>\n",
              "      <td>log</td>\n",
              "    </tr>\n",
              "    <tr>\n",
              "      <th>Poly 3Yds Dis Yds</th>\n",
              "      <td>9</td>\n",
              "      <td>-590.925456</td>\n",
              "      <td>6.907221</td>\n",
              "      <td>54.926008</td>\n",
              "      <td>0.000000e+00</td>\n",
              "      <td>18.044974</td>\n",
              "      <td>9.381687</td>\n",
              "      <td>True</td>\n",
              "      <td>log</td>\n",
              "    </tr>\n",
              "  </tbody>\n",
              "</table>\n",
              "</div>\n",
              "    <div class=\"colab-df-buttons\">\n",
              "\n",
              "  <div class=\"colab-df-container\">\n",
              "    <button class=\"colab-df-convert\" onclick=\"convertToInteractive('df-0268d06b-4bbe-4d92-acae-b52f888ad7d9')\"\n",
              "            title=\"Convert this dataframe to an interactive table.\"\n",
              "            style=\"display:none;\">\n",
              "\n",
              "  <svg xmlns=\"http://www.w3.org/2000/svg\" height=\"24px\" viewBox=\"0 -960 960 960\">\n",
              "    <path d=\"M120-120v-720h720v720H120Zm60-500h600v-160H180v160Zm220 220h160v-160H400v160Zm0 220h160v-160H400v160ZM180-400h160v-160H180v160Zm440 0h160v-160H620v160ZM180-180h160v-160H180v160Zm440 0h160v-160H620v160Z\"/>\n",
              "  </svg>\n",
              "    </button>\n",
              "\n",
              "  <style>\n",
              "    .colab-df-container {\n",
              "      display:flex;\n",
              "      gap: 12px;\n",
              "    }\n",
              "\n",
              "    .colab-df-convert {\n",
              "      background-color: #E8F0FE;\n",
              "      border: none;\n",
              "      border-radius: 50%;\n",
              "      cursor: pointer;\n",
              "      display: none;\n",
              "      fill: #1967D2;\n",
              "      height: 32px;\n",
              "      padding: 0 0 0 0;\n",
              "      width: 32px;\n",
              "    }\n",
              "\n",
              "    .colab-df-convert:hover {\n",
              "      background-color: #E2EBFA;\n",
              "      box-shadow: 0px 1px 2px rgba(60, 64, 67, 0.3), 0px 1px 3px 1px rgba(60, 64, 67, 0.15);\n",
              "      fill: #174EA6;\n",
              "    }\n",
              "\n",
              "    .colab-df-buttons div {\n",
              "      margin-bottom: 4px;\n",
              "    }\n",
              "\n",
              "    [theme=dark] .colab-df-convert {\n",
              "      background-color: #3B4455;\n",
              "      fill: #D2E3FC;\n",
              "    }\n",
              "\n",
              "    [theme=dark] .colab-df-convert:hover {\n",
              "      background-color: #434B5C;\n",
              "      box-shadow: 0px 1px 3px 1px rgba(0, 0, 0, 0.15);\n",
              "      filter: drop-shadow(0px 1px 2px rgba(0, 0, 0, 0.3));\n",
              "      fill: #FFFFFF;\n",
              "    }\n",
              "  </style>\n",
              "\n",
              "    <script>\n",
              "      const buttonEl =\n",
              "        document.querySelector('#df-0268d06b-4bbe-4d92-acae-b52f888ad7d9 button.colab-df-convert');\n",
              "      buttonEl.style.display =\n",
              "        google.colab.kernel.accessAllowed ? 'block' : 'none';\n",
              "\n",
              "      async function convertToInteractive(key) {\n",
              "        const element = document.querySelector('#df-0268d06b-4bbe-4d92-acae-b52f888ad7d9');\n",
              "        const dataTable =\n",
              "          await google.colab.kernel.invokeFunction('convertToInteractive',\n",
              "                                                    [key], {});\n",
              "        if (!dataTable) return;\n",
              "\n",
              "        const docLinkHtml = 'Like what you see? Visit the ' +\n",
              "          '<a target=\"_blank\" href=https://colab.research.google.com/notebooks/data_table.ipynb>data table notebook</a>'\n",
              "          + ' to learn more about interactive tables.';\n",
              "        element.innerHTML = '';\n",
              "        dataTable['output_type'] = 'display_data';\n",
              "        await google.colab.output.renderOutput(dataTable, element);\n",
              "        const docLink = document.createElement('div');\n",
              "        docLink.innerHTML = docLinkHtml;\n",
              "        element.appendChild(docLink);\n",
              "      }\n",
              "    </script>\n",
              "  </div>\n",
              "\n",
              "\n",
              "<div id=\"df-6b8c3d0f-97ed-4490-82ae-107a8f48d7ba\">\n",
              "  <button class=\"colab-df-quickchart\" onclick=\"quickchart('df-6b8c3d0f-97ed-4490-82ae-107a8f48d7ba')\"\n",
              "            title=\"Suggest charts\"\n",
              "            style=\"display:none;\">\n",
              "\n",
              "<svg xmlns=\"http://www.w3.org/2000/svg\" height=\"24px\"viewBox=\"0 0 24 24\"\n",
              "     width=\"24px\">\n",
              "    <g>\n",
              "        <path d=\"M19 3H5c-1.1 0-2 .9-2 2v14c0 1.1.9 2 2 2h14c1.1 0 2-.9 2-2V5c0-1.1-.9-2-2-2zM9 17H7v-7h2v7zm4 0h-2V7h2v10zm4 0h-2v-4h2v4z\"/>\n",
              "    </g>\n",
              "</svg>\n",
              "  </button>\n",
              "\n",
              "<style>\n",
              "  .colab-df-quickchart {\n",
              "      --bg-color: #E8F0FE;\n",
              "      --fill-color: #1967D2;\n",
              "      --hover-bg-color: #E2EBFA;\n",
              "      --hover-fill-color: #174EA6;\n",
              "      --disabled-fill-color: #AAA;\n",
              "      --disabled-bg-color: #DDD;\n",
              "  }\n",
              "\n",
              "  [theme=dark] .colab-df-quickchart {\n",
              "      --bg-color: #3B4455;\n",
              "      --fill-color: #D2E3FC;\n",
              "      --hover-bg-color: #434B5C;\n",
              "      --hover-fill-color: #FFFFFF;\n",
              "      --disabled-bg-color: #3B4455;\n",
              "      --disabled-fill-color: #666;\n",
              "  }\n",
              "\n",
              "  .colab-df-quickchart {\n",
              "    background-color: var(--bg-color);\n",
              "    border: none;\n",
              "    border-radius: 50%;\n",
              "    cursor: pointer;\n",
              "    display: none;\n",
              "    fill: var(--fill-color);\n",
              "    height: 32px;\n",
              "    padding: 0;\n",
              "    width: 32px;\n",
              "  }\n",
              "\n",
              "  .colab-df-quickchart:hover {\n",
              "    background-color: var(--hover-bg-color);\n",
              "    box-shadow: 0 1px 2px rgba(60, 64, 67, 0.3), 0 1px 3px 1px rgba(60, 64, 67, 0.15);\n",
              "    fill: var(--button-hover-fill-color);\n",
              "  }\n",
              "\n",
              "  .colab-df-quickchart-complete:disabled,\n",
              "  .colab-df-quickchart-complete:disabled:hover {\n",
              "    background-color: var(--disabled-bg-color);\n",
              "    fill: var(--disabled-fill-color);\n",
              "    box-shadow: none;\n",
              "  }\n",
              "\n",
              "  .colab-df-spinner {\n",
              "    border: 2px solid var(--fill-color);\n",
              "    border-color: transparent;\n",
              "    border-bottom-color: var(--fill-color);\n",
              "    animation:\n",
              "      spin 1s steps(1) infinite;\n",
              "  }\n",
              "\n",
              "  @keyframes spin {\n",
              "    0% {\n",
              "      border-color: transparent;\n",
              "      border-bottom-color: var(--fill-color);\n",
              "      border-left-color: var(--fill-color);\n",
              "    }\n",
              "    20% {\n",
              "      border-color: transparent;\n",
              "      border-left-color: var(--fill-color);\n",
              "      border-top-color: var(--fill-color);\n",
              "    }\n",
              "    30% {\n",
              "      border-color: transparent;\n",
              "      border-left-color: var(--fill-color);\n",
              "      border-top-color: var(--fill-color);\n",
              "      border-right-color: var(--fill-color);\n",
              "    }\n",
              "    40% {\n",
              "      border-color: transparent;\n",
              "      border-right-color: var(--fill-color);\n",
              "      border-top-color: var(--fill-color);\n",
              "    }\n",
              "    60% {\n",
              "      border-color: transparent;\n",
              "      border-right-color: var(--fill-color);\n",
              "    }\n",
              "    80% {\n",
              "      border-color: transparent;\n",
              "      border-right-color: var(--fill-color);\n",
              "      border-bottom-color: var(--fill-color);\n",
              "    }\n",
              "    90% {\n",
              "      border-color: transparent;\n",
              "      border-bottom-color: var(--fill-color);\n",
              "    }\n",
              "  }\n",
              "</style>\n",
              "\n",
              "  <script>\n",
              "    async function quickchart(key) {\n",
              "      const quickchartButtonEl =\n",
              "        document.querySelector('#' + key + ' button');\n",
              "      quickchartButtonEl.disabled = true;  // To prevent multiple clicks.\n",
              "      quickchartButtonEl.classList.add('colab-df-spinner');\n",
              "      try {\n",
              "        const charts = await google.colab.kernel.invokeFunction(\n",
              "            'suggestCharts', [key], {});\n",
              "      } catch (error) {\n",
              "        console.error('Error during call to suggestCharts:', error);\n",
              "      }\n",
              "      quickchartButtonEl.classList.remove('colab-df-spinner');\n",
              "      quickchartButtonEl.classList.add('colab-df-quickchart-complete');\n",
              "    }\n",
              "    (() => {\n",
              "      let quickchartButtonEl =\n",
              "        document.querySelector('#df-6b8c3d0f-97ed-4490-82ae-107a8f48d7ba button');\n",
              "      quickchartButtonEl.style.display =\n",
              "        google.colab.kernel.accessAllowed ? 'block' : 'none';\n",
              "    })();\n",
              "  </script>\n",
              "</div>\n",
              "\n",
              "  <div id=\"id_51cac867-9685-4a60-9674-4dc95dda2c8e\">\n",
              "    <style>\n",
              "      .colab-df-generate {\n",
              "        background-color: #E8F0FE;\n",
              "        border: none;\n",
              "        border-radius: 50%;\n",
              "        cursor: pointer;\n",
              "        display: none;\n",
              "        fill: #1967D2;\n",
              "        height: 32px;\n",
              "        padding: 0 0 0 0;\n",
              "        width: 32px;\n",
              "      }\n",
              "\n",
              "      .colab-df-generate:hover {\n",
              "        background-color: #E2EBFA;\n",
              "        box-shadow: 0px 1px 2px rgba(60, 64, 67, 0.3), 0px 1px 3px 1px rgba(60, 64, 67, 0.15);\n",
              "        fill: #174EA6;\n",
              "      }\n",
              "\n",
              "      [theme=dark] .colab-df-generate {\n",
              "        background-color: #3B4455;\n",
              "        fill: #D2E3FC;\n",
              "      }\n",
              "\n",
              "      [theme=dark] .colab-df-generate:hover {\n",
              "        background-color: #434B5C;\n",
              "        box-shadow: 0px 1px 3px 1px rgba(0, 0, 0, 0.15);\n",
              "        filter: drop-shadow(0px 1px 2px rgba(0, 0, 0, 0.3));\n",
              "        fill: #FFFFFF;\n",
              "      }\n",
              "    </style>\n",
              "    <button class=\"colab-df-generate\" onclick=\"generateWithVariable('cmp_df_bmb')\"\n",
              "            title=\"Generate code using this dataframe.\"\n",
              "            style=\"display:none;\">\n",
              "\n",
              "  <svg xmlns=\"http://www.w3.org/2000/svg\" height=\"24px\"viewBox=\"0 0 24 24\"\n",
              "       width=\"24px\">\n",
              "    <path d=\"M7,19H8.4L18.45,9,17,7.55,7,17.6ZM5,21V16.75L18.45,3.32a2,2,0,0,1,2.83,0l1.4,1.43a1.91,1.91,0,0,1,.58,1.4,1.91,1.91,0,0,1-.58,1.4L9.25,21ZM18.45,9,17,7.55Zm-12,3A5.31,5.31,0,0,0,4.9,8.1,5.31,5.31,0,0,0,1,6.5,5.31,5.31,0,0,0,4.9,4.9,5.31,5.31,0,0,0,6.5,1,5.31,5.31,0,0,0,8.1,4.9,5.31,5.31,0,0,0,12,6.5,5.46,5.46,0,0,0,6.5,12Z\"/>\n",
              "  </svg>\n",
              "    </button>\n",
              "    <script>\n",
              "      (() => {\n",
              "      const buttonEl =\n",
              "        document.querySelector('#id_51cac867-9685-4a60-9674-4dc95dda2c8e button.colab-df-generate');\n",
              "      buttonEl.style.display =\n",
              "        google.colab.kernel.accessAllowed ? 'block' : 'none';\n",
              "\n",
              "      buttonEl.onclick = () => {\n",
              "        google.colab.notebook.generateWithVariable('cmp_df_bmb');\n",
              "      }\n",
              "      })();\n",
              "    </script>\n",
              "  </div>\n",
              "\n",
              "    </div>\n",
              "  </div>\n"
            ],
            "application/vnd.google.colaboratory.intrinsic+json": {
              "type": "dataframe",
              "variable_name": "cmp_df_bmb",
              "summary": "{\n  \"name\": \"cmp_df_bmb\",\n  \"rows\": 10,\n  \"fields\": [\n    {\n      \"column\": \"rank\",\n      \"properties\": {\n        \"dtype\": \"number\",\n        \"std\": 3,\n        \"min\": 0,\n        \"max\": 9,\n        \"num_unique_values\": 10,\n        \"samples\": [\n          8,\n          1,\n          5\n        ],\n        \"semantic_type\": \"\",\n        \"description\": \"\"\n      }\n    },\n    {\n      \"column\": \"elpd_loo\",\n      \"properties\": {\n        \"dtype\": \"number\",\n        \"std\": 20.157052294631306,\n        \"min\": -590.9254561477173,\n        \"max\": -535.9994480691805,\n        \"num_unique_values\": 10,\n        \"samples\": [\n          -574.8622034584466,\n          -537.5319997304524,\n          -539.5275375120088\n        ],\n        \"semantic_type\": \"\",\n        \"description\": \"\"\n      }\n    },\n    {\n      \"column\": \"p_loo\",\n      \"properties\": {\n        \"dtype\": \"number\",\n        \"std\": 1.6221354730691342,\n        \"min\": 2.8199182474193094,\n        \"max\": 7.949863010078161,\n        \"num_unique_values\": 10,\n        \"samples\": [\n          2.8199182474193094,\n          3.8788830007473507,\n          5.458452987433475\n        ],\n        \"semantic_type\": \"\",\n        \"description\": \"\"\n      }\n    },\n    {\n      \"column\": \"elpd_diff\",\n      \"properties\": {\n        \"dtype\": \"number\",\n        \"std\": 20.157052294631324,\n        \"min\": 0.0,\n        \"max\": 54.92600807853682,\n        \"num_unique_values\": 10,\n        \"samples\": [\n          38.86275538926607,\n          1.5325516612718362,\n          3.5280894428281817\n        ],\n        \"semantic_type\": \"\",\n        \"description\": \"\"\n      }\n    },\n    {\n      \"column\": \"weight\",\n      \"properties\": {\n        \"dtype\": \"number\",\n        \"std\": 0.24258785271115432,\n        \"min\": 0.0,\n        \"max\": 0.754597521124602,\n        \"num_unique_values\": 10,\n        \"samples\": [\n          2.8198412478806674e-11,\n          2.48460629028724e-11,\n          2.303662261661843e-11\n        ],\n        \"semantic_type\": \"\",\n        \"description\": \"\"\n      }\n    },\n    {\n      \"column\": \"se\",\n      \"properties\": {\n        \"dtype\": \"number\",\n        \"std\": 0.46050242234990646,\n        \"min\": 16.59578629350165,\n        \"max\": 18.044974220286704,\n        \"num_unique_values\": 10,\n        \"samples\": [\n          17.048621799235697,\n          16.64465091843834,\n          16.69635762657173\n        ],\n        \"semantic_type\": \"\",\n        \"description\": \"\"\n      }\n    },\n    {\n      \"column\": \"dse\",\n      \"properties\": {\n        \"dtype\": \"number\",\n        \"std\": 3.104839751737344,\n        \"min\": 0.0,\n        \"max\": 9.381687308112621,\n        \"num_unique_values\": 10,\n        \"samples\": [\n          7.999731838553346,\n          2.199025982223739,\n          2.1401931959324085\n        ],\n        \"semantic_type\": \"\",\n        \"description\": \"\"\n      }\n    },\n    {\n      \"column\": \"warning\",\n      \"properties\": {\n        \"dtype\": \"boolean\",\n        \"num_unique_values\": 2,\n        \"samples\": [\n          false,\n          true\n        ],\n        \"semantic_type\": \"\",\n        \"description\": \"\"\n      }\n    },\n    {\n      \"column\": \"scale\",\n      \"properties\": {\n        \"dtype\": \"category\",\n        \"num_unique_values\": 1,\n        \"samples\": [\n          \"log\"\n        ],\n        \"semantic_type\": \"\",\n        \"description\": \"\"\n      }\n    }\n  ]\n}"
            }
          },
          "metadata": {},
          "execution_count": 32
        }
      ]
    },
    {
      "cell_type": "code",
      "source": [
        "az.plot_compare(cmp_df_bmb)"
      ],
      "metadata": {
        "colab": {
          "base_uri": "https://localhost:8080/"
        },
        "id": "2C9QFzaaresi",
        "outputId": "059d9e71-8224-4264-91f2-94184df9199d"
      },
      "execution_count": null,
      "outputs": [
        {
          "output_type": "execute_result",
          "data": {
            "text/plain": [
              "<Axes: title={'center': 'Model comparison\\nhigher is better'}, xlabel='elpd_loo (log)', ylabel='ranked models'>"
            ]
          },
          "metadata": {},
          "execution_count": 33
        },
        {
          "output_type": "display_data",
          "data": {
            "text/plain": [
              "<Figure size 600x1000 with 1 Axes>"
            ],
            "image/png": "[encoded data removed]"
          },
          "metadata": {}
        }
      ]
    },
    {
      "cell_type": "code",
      "source": [
        "model_hsb.predict(idata_hsb, kind=\"response\")\n",
        "az.plot_ppc(idata_hsb)"
      ],
      "metadata": {
        "colab": {
          "base_uri": "https://localhost:8080/"
        },
        "id": "6HMggGpIz2of",
        "outputId": "992dfbf6-6d65-42f6-cb21-cbcd08834e22"
      },
      "execution_count": null,
      "outputs": [
        {
          "output_type": "execute_result",
          "data": {
            "text/plain": [
              "<Axes: xlabel='TD'>"
            ]
          },
          "metadata": {},
          "execution_count": 34
        },
        {
          "output_type": "display_data",
          "data": {
            "text/plain": [
              "<Figure size 640x480 with 1 Axes>"
            ],
            "image/png": "[encoded data removed]"
          },
          "metadata": {}
        }
      ]
    },
    {
      "cell_type": "code",
      "source": [
        "model_poly_3.predict(idata_poly_3, kind=\"response\")\n",
        "az.plot_ppc(idata_poly_3)"
      ],
      "metadata": {
        "colab": {
          "base_uri": "https://localhost:8080/"
        },
        "id": "qrYboL8P0buC",
        "outputId": "b5f2a5ec-bdd3-4ca7-8403-95239ba97197"
      },
      "execution_count": null,
      "outputs": [
        {
          "output_type": "execute_result",
          "data": {
            "text/plain": [
              "<Axes: xlabel='TD'>"
            ]
          },
          "metadata": {},
          "execution_count": 35
        },
        {
          "output_type": "display_data",
          "data": {
            "text/plain": [
              "<Figure size 640x480 with 1 Axes>"
            ],
            "image/png": "[encoded data removed]"
          },
          "metadata": {}
        }
      ]
    },
    {
      "cell_type": "code",
      "source": [
        "#plot of posterior predictive dist\n",
        "bmb.interpret.plot_predictions(model_poly_3, idata_poly_3, \"Yds\", pps=True)\n",
        "#raw data\n",
        "plt.plot(nfl.Yds, nfl.TD, \"C2.\", zorder=-3)"
      ],
      "metadata": {
        "colab": {
          "base_uri": "https://localhost:8080/"
        },
        "id": "ZcmTnZDlHOIs",
        "outputId": "791d4343-f13e-4d11-b67c-fe507b0e9196"
      },
      "execution_count": null,
      "outputs": [
        {
          "output_type": "stream",
          "name": "stderr",
          "text": [
            "/usr/local/lib/python3.11/dist-packages/arviz/rcparams.py:368: FutureWarning: stats.hdi_prob is deprecated since 0.18.0, use stats.ci_prob instead\n",
            "  warnings.warn(\n"
          ]
        },
        {
          "output_type": "execute_result",
          "data": {
            "text/plain": [
              "[<matplotlib.lines.Line2D at 0x7bdbb0d11710>]"
            ]
          },
          "metadata": {},
          "execution_count": 36
        },
        {
          "output_type": "display_data",
          "data": {
            "text/plain": [
              "<Figure size 640x480 with 1 Axes>"
            ],
            "image/png": "[encoded data removed]"
          },
          "metadata": {}
        }
      ]
    },
    {
      "cell_type": "markdown",
      "metadata": {
        "id": "3V1AyYvLdA6H"
      },
      "source": [
        "##**Conclusion**"
      ]
    },
    {
      "cell_type": "markdown",
      "metadata": {
        "id": "vYuQtb3Nd5aq"
      },
      "source": [
        "Based on the elpd_loo and the posterior predictive, I'd say the model using just a degree three polynomial with yards as the predictor or the HGSP are probably the best models. This is the model named \"Poly 3Yds\" in the list of elpd_loos. It has the second highest elpd_loo, very close to that the best performing model. I selected this model over the top performing one to avoid overfitting; the top one is this model plus yards per reception, so it has more variables than needed.\n",
        "\n",
        "It was really interesting to me that the position hierarchy or interaction term seemed completely unnecessary to making a well performing model. I would have expected it to completely flounder without, but it seems just fine. I would have thought that tight ends would have had a generally weaker trend between yards and touchdowns than wide receiver because of how often tight ends are used for short plays and blocking rather than deep routes with the goal of shooting for a touchdown (same with running backs), but I guess my assumption was misguided.\n",
        "\n",
        "From observing the plot of the model I ended up going with, it seems like the strongest predictor for sacks is total yards, which makes sense. You kind of need to get a lot of yards to get a lot of touchdowns because both indicate movement down the field, and yards is better than any metric like targets or reception because it does a better job of capturing the distance a player is getting from their plays, rather than just the sheer number of plays being made (which could just be a bunch of checkdowns that will never go for TDs).\n",
        "\n",
        "The fact that I ended up on a third degree polynomial actually makes sense to me, and here's why: For low ranges of yard totals (0-500), you're mostly getting players with very few touchdowns, which makes sense, because they're probably not playing a lot. This makes the trend to start off pretty strong because going up in that range means more play time and more opportunity to get touchdowns. In the middle ranges of yards (500-1000), where most players fall, there's a lot of noise from different positions, making it hard to discern a clear trend, which is why the line is flat. Way out in the probowl level, star receivers area of yardage (1000+), we see a strong trend again. Players out here are mostly wide receivers, so if they're getting a lot of yards, then that means their team is almost certainly running the offense largely through them, resulting in a lot of touchdowns. This steep, flat, steep pattern naturally results in a cubic model arising.\n",
        "\n",
        "If I ran more models in the future, I would want to get some data on more than just one season, because I think that would help me define the trends in high usage players more effectively. There tends to be only 1 or 2 1500+ yard players each season, so it's really hard to find a clear pattern with that little data out in these ranges. I also might like to try predicting total touchdowns rather than just receiving touchdowns using numerous other factors such as passing and rushing yards to get a better picture of the entire league. Overall, though, I'm pretty happy with my model."
      ]
    }
  ],
  "metadata": {
    "colab": {
      "provenance": [],
      "authorship_tag": "ABX9TyNZdgs4pP2Y5GewJSfhV1PE",
      "include_colab_link": true
    },
    "kernelspec": {
      "display_name": "Python 3",
      "name": "python3"
    },
    "language_info": {
      "name": "python"
    },
    "widgets": {
      "application/vnd.jupyter.widget-state+json": {
        "aa00b3a1b46842349fadcb266c1c9e99": {
          "model_module": "@jupyter-widgets/output",
          "model_name": "OutputModel",
          "model_module_version": "1.0.0",
          "state": {
            "_dom_classes": [],
            "_model_module": "@jupyter-widgets/output",
            "_model_module_version": "1.0.0",
            "_model_name": "OutputModel",
            "_view_count": null,
            "_view_module": "@jupyter-widgets/output",
            "_view_module_version": "1.0.0",
            "_view_name": "OutputView",
            "layout": "IPY_MODEL_9c18d2decea148d6ac360efd9d4ce1ff",
            "msg_id": "",
            "outputs": [
              {
                "output_type": "display_data",
                "data": {
                  "text/plain": "                                                                                                                   \n \u001b[1m \u001b[0m\u001b[1mProgress                 \u001b[0m\u001b[1m \u001b[0m \u001b[1m \u001b[0m\u001b[1mDraws\u001b[0m\u001b[1m \u001b[0m \u001b[1m \u001b[0m\u001b[1mDivergences\u001b[0m\u001b[1m \u001b[0m \u001b[1m \u001b[0m\u001b[1mStep size\u001b[0m\u001b[1m \u001b[0m \u001b[1m \u001b[0m\u001b[1mGrad evals\u001b[0m\u001b[1m \u001b[0m \u001b[1m \u001b[0m\u001b[1mSampling Speed\u001b[0m\u001b[1m \u001b[0m \u001b[1m \u001b[0m\u001b[1mElapsed\u001b[0m\u001b[1m \u001b[0m \u001b[1m \u001b[0m\u001b[1mRemaining\u001b[0m\u001b[1m \u001b[0m \n ───────────────────────────────────────────────────────────────────────────────────────────────────────────────── \n  \u001b[38;2;31;119;180m━━━━━━━━━━━━━━━━━━━━━━━━━\u001b[0m   2000    0             0.76        3            341.24 draws/s   0:00:05   0:00:00    \n  \u001b[38;2;31;119;180m━━━━━━━━━━━━━━━━━━━━━━━━━\u001b[0m   2000    0             1.16        7            160.69 draws/s   0:00:12   0:00:00    \n                                                                                                                   \n",
                  "text/html": "<pre style=\"white-space:pre;overflow-x:auto;line-height:normal;font-family:Menlo,'DejaVu Sans Mono',consolas,'Courier New',monospace\">                                                                                                                   \n <span style=\"font-weight: bold\"> Progress                  </span> <span style=\"font-weight: bold\"> Draws </span> <span style=\"font-weight: bold\"> Divergences </span> <span style=\"font-weight: bold\"> Step size </span> <span style=\"font-weight: bold\"> Grad evals </span> <span style=\"font-weight: bold\"> Sampling Speed </span> <span style=\"font-weight: bold\"> Elapsed </span> <span style=\"font-weight: bold\"> Remaining </span> \n ───────────────────────────────────────────────────────────────────────────────────────────────────────────────── \n  <span style=\"color: #1f77b4; text-decoration-color: #1f77b4\">━━━━━━━━━━━━━━━━━━━━━━━━━</span>   2000    0             0.76        3            341.24 draws/s   0:00:05   0:00:00    \n  <span style=\"color: #1f77b4; text-decoration-color: #1f77b4\">━━━━━━━━━━━━━━━━━━━━━━━━━</span>   2000    0             1.16        7            160.69 draws/s   0:00:12   0:00:00    \n                                                                                                                   \n</pre>\n"
                },
                "metadata": {}
              }
            ]
          }
        },
        "9c18d2decea148d6ac360efd9d4ce1ff": {
          "model_module": "@jupyter-widgets/base",
          "model_name": "LayoutModel",
          "model_module_version": "1.2.0",
          "state": {
            "_model_module": "@jupyter-widgets/base",
            "_model_module_version": "1.2.0",
            "_model_name": "LayoutModel",
            "_view_count": null,
            "_view_module": "@jupyter-widgets/base",
            "_view_module_version": "1.2.0",
            "_view_name": "LayoutView",
            "align_content": null,
            "align_items": null,
            "align_self": null,
            "border": null,
            "bottom": null,
            "display": null,
            "flex": null,
            "flex_flow": null,
            "grid_area": null,
            "grid_auto_columns": null,
            "grid_auto_flow": null,
            "grid_auto_rows": null,
            "grid_column": null,
            "grid_gap": null,
            "grid_row": null,
            "grid_template_areas": null,
            "grid_template_columns": null,
            "grid_template_rows": null,
            "height": null,
            "justify_content": null,
            "justify_items": null,
            "left": null,
            "margin": null,
            "max_height": null,
            "max_width": null,
            "min_height": null,
            "min_width": null,
            "object_fit": null,
            "object_position": null,
            "order": null,
            "overflow": null,
            "overflow_x": null,
            "overflow_y": null,
            "padding": null,
            "right": null,
            "top": null,
            "visibility": null,
            "width": null
          }
        },
        "d4319d93a585464289d546f19658df1a": {
          "model_module": "@jupyter-widgets/output",
          "model_name": "OutputModel",
          "model_module_version": "1.0.0",
          "state": {
            "_dom_classes": [],
            "_model_module": "@jupyter-widgets/output",
            "_model_module_version": "1.0.0",
            "_model_name": "OutputModel",
            "_view_count": null,
            "_view_module": "@jupyter-widgets/output",
            "_view_module_version": "1.0.0",
            "_view_name": "OutputView",
            "layout": "IPY_MODEL_a611eb9b8eb9434fb59a00eb79347dba",
            "msg_id": "",
            "outputs": [
              {
                "output_type": "display_data",
                "data": {
                  "text/plain": "                                                                                                                   \n \u001b[1m \u001b[0m\u001b[1mProgress                 \u001b[0m\u001b[1m \u001b[0m \u001b[1m \u001b[0m\u001b[1mDraws\u001b[0m\u001b[1m \u001b[0m \u001b[1m \u001b[0m\u001b[1mDivergences\u001b[0m\u001b[1m \u001b[0m \u001b[1m \u001b[0m\u001b[1mStep size\u001b[0m\u001b[1m \u001b[0m \u001b[1m \u001b[0m\u001b[1mGrad evals\u001b[0m\u001b[1m \u001b[0m \u001b[1m \u001b[0m\u001b[1mSampling Speed\u001b[0m\u001b[1m \u001b[0m \u001b[1m \u001b[0m\u001b[1mElapsed\u001b[0m\u001b[1m \u001b[0m \u001b[1m \u001b[0m\u001b[1mRemaining\u001b[0m\u001b[1m \u001b[0m \n ───────────────────────────────────────────────────────────────────────────────────────────────────────────────── \n  \u001b[38;2;31;119;180m━━━━━━━━━━━━━━━━━━━━━━━━━\u001b[0m   2000    0             0.59        7            498.55 draws/s   0:00:04   0:00:00    \n  \u001b[38;2;31;119;180m━━━━━━━━━━━━━━━━━━━━━━━━━\u001b[0m   2000    0             0.49        15           241.53 draws/s   0:00:08   0:00:00    \n                                                                                                                   \n",
                  "text/html": "<pre style=\"white-space:pre;overflow-x:auto;line-height:normal;font-family:Menlo,'DejaVu Sans Mono',consolas,'Courier New',monospace\">                                                                                                                   \n <span style=\"font-weight: bold\"> Progress                  </span> <span style=\"font-weight: bold\"> Draws </span> <span style=\"font-weight: bold\"> Divergences </span> <span style=\"font-weight: bold\"> Step size </span> <span style=\"font-weight: bold\"> Grad evals </span> <span style=\"font-weight: bold\"> Sampling Speed </span> <span style=\"font-weight: bold\"> Elapsed </span> <span style=\"font-weight: bold\"> Remaining </span> \n ───────────────────────────────────────────────────────────────────────────────────────────────────────────────── \n  <span style=\"color: #1f77b4; text-decoration-color: #1f77b4\">━━━━━━━━━━━━━━━━━━━━━━━━━</span>   2000    0             0.59        7            498.55 draws/s   0:00:04   0:00:00    \n  <span style=\"color: #1f77b4; text-decoration-color: #1f77b4\">━━━━━━━━━━━━━━━━━━━━━━━━━</span>   2000    0             0.49        15           241.53 draws/s   0:00:08   0:00:00    \n                                                                                                                   \n</pre>\n"
                },
                "metadata": {}
              }
            ]
          }
        },
        "a611eb9b8eb9434fb59a00eb79347dba": {
          "model_module": "@jupyter-widgets/base",
          "model_name": "LayoutModel",
          "model_module_version": "1.2.0",
          "state": {
            "_model_module": "@jupyter-widgets/base",
            "_model_module_version": "1.2.0",
            "_model_name": "LayoutModel",
            "_view_count": null,
            "_view_module": "@jupyter-widgets/base",
            "_view_module_version": "1.2.0",
            "_view_name": "LayoutView",
            "align_content": null,
            "align_items": null,
            "align_self": null,
            "border": null,
            "bottom": null,
            "display": null,
            "flex": null,
            "flex_flow": null,
            "grid_area": null,
            "grid_auto_columns": null,
            "grid_auto_flow": null,
            "grid_auto_rows": null,
            "grid_column": null,
            "grid_gap": null,
            "grid_row": null,
            "grid_template_areas": null,
            "grid_template_columns": null,
            "grid_template_rows": null,
            "height": null,
            "justify_content": null,
            "justify_items": null,
            "left": null,
            "margin": null,
            "max_height": null,
            "max_width": null,
            "min_height": null,
            "min_width": null,
            "object_fit": null,
            "object_position": null,
            "order": null,
            "overflow": null,
            "overflow_x": null,
            "overflow_y": null,
            "padding": null,
            "right": null,
            "top": null,
            "visibility": null,
            "width": null
          }
        },
        "42bb8f842e7d43d3894f748fb2980a86": {
          "model_module": "@jupyter-widgets/output",
          "model_name": "OutputModel",
          "model_module_version": "1.0.0",
          "state": {
            "_dom_classes": [],
            "_model_module": "@jupyter-widgets/output",
            "_model_module_version": "1.0.0",
            "_model_name": "OutputModel",
            "_view_count": null,
            "_view_module": "@jupyter-widgets/output",
            "_view_module_version": "1.0.0",
            "_view_name": "OutputView",
            "layout": "IPY_MODEL_5f37a086043c4799b4e1ed811a27e4ae",
            "msg_id": "",
            "outputs": [
              {
                "output_type": "display_data",
                "data": {
                  "text/plain": "                                                                                                                   \n \u001b[1m \u001b[0m\u001b[1mProgress                 \u001b[0m\u001b[1m \u001b[0m \u001b[1m \u001b[0m\u001b[1mDraws\u001b[0m\u001b[1m \u001b[0m \u001b[1m \u001b[0m\u001b[1mDivergences\u001b[0m\u001b[1m \u001b[0m \u001b[1m \u001b[0m\u001b[1mStep size\u001b[0m\u001b[1m \u001b[0m \u001b[1m \u001b[0m\u001b[1mGrad evals\u001b[0m\u001b[1m \u001b[0m \u001b[1m \u001b[0m\u001b[1mSampling Speed\u001b[0m\u001b[1m \u001b[0m \u001b[1m \u001b[0m\u001b[1mElapsed\u001b[0m\u001b[1m \u001b[0m \u001b[1m \u001b[0m\u001b[1mRemaining\u001b[0m\u001b[1m \u001b[0m \n ───────────────────────────────────────────────────────────────────────────────────────────────────────────────── \n  \u001b[38;2;31;119;180m━━━━━━━━━━━━━━━━━━━━━━━━━\u001b[0m   2000    0             0.17        63           122.31 draws/s   0:00:16   0:00:00    \n  \u001b[38;2;31;119;180m━━━━━━━━━━━━━━━━━━━━━━━━━\u001b[0m   2000    0             0.14        31           67.26 draws/s    0:00:29   0:00:00    \n                                                                                                                   \n",
                  "text/html": "<pre style=\"white-space:pre;overflow-x:auto;line-height:normal;font-family:Menlo,'DejaVu Sans Mono',consolas,'Courier New',monospace\">                                                                                                                   \n <span style=\"font-weight: bold\"> Progress                  </span> <span style=\"font-weight: bold\"> Draws </span> <span style=\"font-weight: bold\"> Divergences </span> <span style=\"font-weight: bold\"> Step size </span> <span style=\"font-weight: bold\"> Grad evals </span> <span style=\"font-weight: bold\"> Sampling Speed </span> <span style=\"font-weight: bold\"> Elapsed </span> <span style=\"font-weight: bold\"> Remaining </span> \n ───────────────────────────────────────────────────────────────────────────────────────────────────────────────── \n  <span style=\"color: #1f77b4; text-decoration-color: #1f77b4\">━━━━━━━━━━━━━━━━━━━━━━━━━</span>   2000    0             0.17        63           122.31 draws/s   0:00:16   0:00:00    \n  <span style=\"color: #1f77b4; text-decoration-color: #1f77b4\">━━━━━━━━━━━━━━━━━━━━━━━━━</span>   2000    0             0.14        31           67.26 draws/s    0:00:29   0:00:00    \n                                                                                                                   \n</pre>\n"
                },
                "metadata": {}
              }
            ]
          }
        },
        "5f37a086043c4799b4e1ed811a27e4ae": {
          "model_module": "@jupyter-widgets/base",
          "model_name": "LayoutModel",
          "model_module_version": "1.2.0",
          "state": {
            "_model_module": "@jupyter-widgets/base",
            "_model_module_version": "1.2.0",
            "_model_name": "LayoutModel",
            "_view_count": null,
            "_view_module": "@jupyter-widgets/base",
            "_view_module_version": "1.2.0",
            "_view_name": "LayoutView",
            "align_content": null,
            "align_items": null,
            "align_self": null,
            "border": null,
            "bottom": null,
            "display": null,
            "flex": null,
            "flex_flow": null,
            "grid_area": null,
            "grid_auto_columns": null,
            "grid_auto_flow": null,
            "grid_auto_rows": null,
            "grid_column": null,
            "grid_gap": null,
            "grid_row": null,
            "grid_template_areas": null,
            "grid_template_columns": null,
            "grid_template_rows": null,
            "height": null,
            "justify_content": null,
            "justify_items": null,
            "left": null,
            "margin": null,
            "max_height": null,
            "max_width": null,
            "min_height": null,
            "min_width": null,
            "object_fit": null,
            "object_position": null,
            "order": null,
            "overflow": null,
            "overflow_x": null,
            "overflow_y": null,
            "padding": null,
            "right": null,
            "top": null,
            "visibility": null,
            "width": null
          }
        },
        "c7eaeff8d4d04d839a2738dfc8262c9c": {
          "model_module": "@jupyter-widgets/output",
          "model_name": "OutputModel",
          "model_module_version": "1.0.0",
          "state": {
            "_dom_classes": [],
            "_model_module": "@jupyter-widgets/output",
            "_model_module_version": "1.0.0",
            "_model_name": "OutputModel",
            "_view_count": null,
            "_view_module": "@jupyter-widgets/output",
            "_view_module_version": "1.0.0",
            "_view_name": "OutputView",
            "layout": "IPY_MODEL_4a9e459641e6430c9e2d350ed0630182",
            "msg_id": "",
            "outputs": [
              {
                "output_type": "display_data",
                "data": {
                  "text/plain": "                                                                                                                   \n \u001b[1m \u001b[0m\u001b[1mProgress                 \u001b[0m\u001b[1m \u001b[0m \u001b[1m \u001b[0m\u001b[1mDraws\u001b[0m\u001b[1m \u001b[0m \u001b[1m \u001b[0m\u001b[1mDivergences\u001b[0m\u001b[1m \u001b[0m \u001b[1m \u001b[0m\u001b[1mStep size\u001b[0m\u001b[1m \u001b[0m \u001b[1m \u001b[0m\u001b[1mGrad evals\u001b[0m\u001b[1m \u001b[0m \u001b[1m \u001b[0m\u001b[1mSampling Speed\u001b[0m\u001b[1m \u001b[0m \u001b[1m \u001b[0m\u001b[1mElapsed\u001b[0m\u001b[1m \u001b[0m \u001b[1m \u001b[0m\u001b[1mRemaining\u001b[0m\u001b[1m \u001b[0m \n ───────────────────────────────────────────────────────────────────────────────────────────────────────────────── \n  \u001b[38;2;31;119;180m━━━━━━━━━━━━━━━━━━━━━━━━━\u001b[0m   2000    0             0.16        15           161.33 draws/s   0:00:12   0:00:00    \n  \u001b[38;2;31;119;180m━━━━━━━━━━━━━━━━━━━━━━━━━\u001b[0m   2000    0             0.19        15           81.56 draws/s    0:00:24   0:00:00    \n                                                                                                                   \n",
                  "text/html": "<pre style=\"white-space:pre;overflow-x:auto;line-height:normal;font-family:Menlo,'DejaVu Sans Mono',consolas,'Courier New',monospace\">                                                                                                                   \n <span style=\"font-weight: bold\"> Progress                  </span> <span style=\"font-weight: bold\"> Draws </span> <span style=\"font-weight: bold\"> Divergences </span> <span style=\"font-weight: bold\"> Step size </span> <span style=\"font-weight: bold\"> Grad evals </span> <span style=\"font-weight: bold\"> Sampling Speed </span> <span style=\"font-weight: bold\"> Elapsed </span> <span style=\"font-weight: bold\"> Remaining </span> \n ───────────────────────────────────────────────────────────────────────────────────────────────────────────────── \n  <span style=\"color: #1f77b4; text-decoration-color: #1f77b4\">━━━━━━━━━━━━━━━━━━━━━━━━━</span>   2000    0             0.16        15           161.33 draws/s   0:00:12   0:00:00    \n  <span style=\"color: #1f77b4; text-decoration-color: #1f77b4\">━━━━━━━━━━━━━━━━━━━━━━━━━</span>   2000    0             0.19        15           81.56 draws/s    0:00:24   0:00:00    \n                                                                                                                   \n</pre>\n"
                },
                "metadata": {}
              }
            ]
          }
        },
        "4a9e459641e6430c9e2d350ed0630182": {
          "model_module": "@jupyter-widgets/base",
          "model_name": "LayoutModel",
          "model_module_version": "1.2.0",
          "state": {
            "_model_module": "@jupyter-widgets/base",
            "_model_module_version": "1.2.0",
            "_model_name": "LayoutModel",
            "_view_count": null,
            "_view_module": "@jupyter-widgets/base",
            "_view_module_version": "1.2.0",
            "_view_name": "LayoutView",
            "align_content": null,
            "align_items": null,
            "align_self": null,
            "border": null,
            "bottom": null,
            "display": null,
            "flex": null,
            "flex_flow": null,
            "grid_area": null,
            "grid_auto_columns": null,
            "grid_auto_flow": null,
            "grid_auto_rows": null,
            "grid_column": null,
            "grid_gap": null,
            "grid_row": null,
            "grid_template_areas": null,
            "grid_template_columns": null,
            "grid_template_rows": null,
            "height": null,
            "justify_content": null,
            "justify_items": null,
            "left": null,
            "margin": null,
            "max_height": null,
            "max_width": null,
            "min_height": null,
            "min_width": null,
            "object_fit": null,
            "object_position": null,
            "order": null,
            "overflow": null,
            "overflow_x": null,
            "overflow_y": null,
            "padding": null,
            "right": null,
            "top": null,
            "visibility": null,
            "width": null
          }
        },
        "f5f762940bc847b3a00d0a3b9e811ad1": {
          "model_module": "@jupyter-widgets/output",
          "model_name": "OutputModel",
          "model_module_version": "1.0.0",
          "state": {
            "_dom_classes": [],
            "_model_module": "@jupyter-widgets/output",
            "_model_module_version": "1.0.0",
            "_model_name": "OutputModel",
            "_view_count": null,
            "_view_module": "@jupyter-widgets/output",
            "_view_module_version": "1.0.0",
            "_view_name": "OutputView",
            "layout": "IPY_MODEL_7efd9dc6744a483db3badd81b4dd340f",
            "msg_id": "",
            "outputs": [
              {
                "output_type": "display_data",
                "data": {
                  "text/plain": "                                                                                                                   \n \u001b[1m \u001b[0m\u001b[1mProgress                 \u001b[0m\u001b[1m \u001b[0m \u001b[1m \u001b[0m\u001b[1mDraws\u001b[0m\u001b[1m \u001b[0m \u001b[1m \u001b[0m\u001b[1mDivergences\u001b[0m\u001b[1m \u001b[0m \u001b[1m \u001b[0m\u001b[1mStep size\u001b[0m\u001b[1m \u001b[0m \u001b[1m \u001b[0m\u001b[1mGrad evals\u001b[0m\u001b[1m \u001b[0m \u001b[1m \u001b[0m\u001b[1mSampling Speed\u001b[0m\u001b[1m \u001b[0m \u001b[1m \u001b[0m\u001b[1mElapsed\u001b[0m\u001b[1m \u001b[0m \u001b[1m \u001b[0m\u001b[1mRemaining\u001b[0m\u001b[1m \u001b[0m \n ───────────────────────────────────────────────────────────────────────────────────────────────────────────────── \n  \u001b[38;2;31;119;180m━━━━━━━━━━━━━━━━━━━━━━━━━\u001b[0m   2000    0             0.67        7            353.31 draws/s   0:00:05   0:00:00    \n  \u001b[38;2;31;119;180m━━━━━━━━━━━━━━━━━━━━━━━━━\u001b[0m   2000    0             0.79        3            187.40 draws/s   0:00:10   0:00:00    \n                                                                                                                   \n",
                  "text/html": "<pre style=\"white-space:pre;overflow-x:auto;line-height:normal;font-family:Menlo,'DejaVu Sans Mono',consolas,'Courier New',monospace\">                                                                                                                   \n <span style=\"font-weight: bold\"> Progress                  </span> <span style=\"font-weight: bold\"> Draws </span> <span style=\"font-weight: bold\"> Divergences </span> <span style=\"font-weight: bold\"> Step size </span> <span style=\"font-weight: bold\"> Grad evals </span> <span style=\"font-weight: bold\"> Sampling Speed </span> <span style=\"font-weight: bold\"> Elapsed </span> <span style=\"font-weight: bold\"> Remaining </span> \n ───────────────────────────────────────────────────────────────────────────────────────────────────────────────── \n  <span style=\"color: #1f77b4; text-decoration-color: #1f77b4\">━━━━━━━━━━━━━━━━━━━━━━━━━</span>   2000    0             0.67        7            353.31 draws/s   0:00:05   0:00:00    \n  <span style=\"color: #1f77b4; text-decoration-color: #1f77b4\">━━━━━━━━━━━━━━━━━━━━━━━━━</span>   2000    0             0.79        3            187.40 draws/s   0:00:10   0:00:00    \n                                                                                                                   \n</pre>\n"
                },
                "metadata": {}
              }
            ]
          }
        },
        "7efd9dc6744a483db3badd81b4dd340f": {
          "model_module": "@jupyter-widgets/base",
          "model_name": "LayoutModel",
          "model_module_version": "1.2.0",
          "state": {
            "_model_module": "@jupyter-widgets/base",
            "_model_module_version": "1.2.0",
            "_model_name": "LayoutModel",
            "_view_count": null,
            "_view_module": "@jupyter-widgets/base",
            "_view_module_version": "1.2.0",
            "_view_name": "LayoutView",
            "align_content": null,
            "align_items": null,
            "align_self": null,
            "border": null,
            "bottom": null,
            "display": null,
            "flex": null,
            "flex_flow": null,
            "grid_area": null,
            "grid_auto_columns": null,
            "grid_auto_flow": null,
            "grid_auto_rows": null,
            "grid_column": null,
            "grid_gap": null,
            "grid_row": null,
            "grid_template_areas": null,
            "grid_template_columns": null,
            "grid_template_rows": null,
            "height": null,
            "justify_content": null,
            "justify_items": null,
            "left": null,
            "margin": null,
            "max_height": null,
            "max_width": null,
            "min_height": null,
            "min_width": null,
            "object_fit": null,
            "object_position": null,
            "order": null,
            "overflow": null,
            "overflow_x": null,
            "overflow_y": null,
            "padding": null,
            "right": null,
            "top": null,
            "visibility": null,
            "width": null
          }
        },
        "c066eb8d3d744d2b820f0d446c3315b9": {
          "model_module": "@jupyter-widgets/output",
          "model_name": "OutputModel",
          "model_module_version": "1.0.0",
          "state": {
            "_dom_classes": [],
            "_model_module": "@jupyter-widgets/output",
            "_model_module_version": "1.0.0",
            "_model_name": "OutputModel",
            "_view_count": null,
            "_view_module": "@jupyter-widgets/output",
            "_view_module_version": "1.0.0",
            "_view_name": "OutputView",
            "layout": "IPY_MODEL_c4059c916aef4bdd846e681e2e78446d",
            "msg_id": "",
            "outputs": [
              {
                "output_type": "display_data",
                "data": {
                  "text/plain": "                                                                                                                   \n \u001b[1m \u001b[0m\u001b[1mProgress                 \u001b[0m\u001b[1m \u001b[0m \u001b[1m \u001b[0m\u001b[1mDraws\u001b[0m\u001b[1m \u001b[0m \u001b[1m \u001b[0m\u001b[1mDivergences\u001b[0m\u001b[1m \u001b[0m \u001b[1m \u001b[0m\u001b[1mStep size\u001b[0m\u001b[1m \u001b[0m \u001b[1m \u001b[0m\u001b[1mGrad evals\u001b[0m\u001b[1m \u001b[0m \u001b[1m \u001b[0m\u001b[1mSampling Speed\u001b[0m\u001b[1m \u001b[0m \u001b[1m \u001b[0m\u001b[1mElapsed\u001b[0m\u001b[1m \u001b[0m \u001b[1m \u001b[0m\u001b[1mRemaining\u001b[0m\u001b[1m \u001b[0m \n ───────────────────────────────────────────────────────────────────────────────────────────────────────────────── \n  \u001b[38;2;31;119;180m━━━━━━━━━━━━━━━━━━━━━━━━━\u001b[0m   2000    0             0.60        3            533.97 draws/s   0:00:03   0:00:00    \n  \u001b[38;2;31;119;180m━━━━━━━━━━━━━━━━━━━━━━━━━\u001b[0m   2000    0             0.82        3            269.13 draws/s   0:00:07   0:00:00    \n                                                                                                                   \n",
                  "text/html": "<pre style=\"white-space:pre;overflow-x:auto;line-height:normal;font-family:Menlo,'DejaVu Sans Mono',consolas,'Courier New',monospace\">                                                                                                                   \n <span style=\"font-weight: bold\"> Progress                  </span> <span style=\"font-weight: bold\"> Draws </span> <span style=\"font-weight: bold\"> Divergences </span> <span style=\"font-weight: bold\"> Step size </span> <span style=\"font-weight: bold\"> Grad evals </span> <span style=\"font-weight: bold\"> Sampling Speed </span> <span style=\"font-weight: bold\"> Elapsed </span> <span style=\"font-weight: bold\"> Remaining </span> \n ───────────────────────────────────────────────────────────────────────────────────────────────────────────────── \n  <span style=\"color: #1f77b4; text-decoration-color: #1f77b4\">━━━━━━━━━━━━━━━━━━━━━━━━━</span>   2000    0             0.60        3            533.97 draws/s   0:00:03   0:00:00    \n  <span style=\"color: #1f77b4; text-decoration-color: #1f77b4\">━━━━━━━━━━━━━━━━━━━━━━━━━</span>   2000    0             0.82        3            269.13 draws/s   0:00:07   0:00:00    \n                                                                                                                   \n</pre>\n"
                },
                "metadata": {}
              }
            ]
          }
        },
        "c4059c916aef4bdd846e681e2e78446d": {
          "model_module": "@jupyter-widgets/base",
          "model_name": "LayoutModel",
          "model_module_version": "1.2.0",
          "state": {
            "_model_module": "@jupyter-widgets/base",
            "_model_module_version": "1.2.0",
            "_model_name": "LayoutModel",
            "_view_count": null,
            "_view_module": "@jupyter-widgets/base",
            "_view_module_version": "1.2.0",
            "_view_name": "LayoutView",
            "align_content": null,
            "align_items": null,
            "align_self": null,
            "border": null,
            "bottom": null,
            "display": null,
            "flex": null,
            "flex_flow": null,
            "grid_area": null,
            "grid_auto_columns": null,
            "grid_auto_flow": null,
            "grid_auto_rows": null,
            "grid_column": null,
            "grid_gap": null,
            "grid_row": null,
            "grid_template_areas": null,
            "grid_template_columns": null,
            "grid_template_rows": null,
            "height": null,
            "justify_content": null,
            "justify_items": null,
            "left": null,
            "margin": null,
            "max_height": null,
            "max_width": null,
            "min_height": null,
            "min_width": null,
            "object_fit": null,
            "object_position": null,
            "order": null,
            "overflow": null,
            "overflow_x": null,
            "overflow_y": null,
            "padding": null,
            "right": null,
            "top": null,
            "visibility": null,
            "width": null
          }
        },
        "14abde65ed2a419bb8334f66f5e9e5e1": {
          "model_module": "@jupyter-widgets/output",
          "model_name": "OutputModel",
          "model_module_version": "1.0.0",
          "state": {
            "_dom_classes": [],
            "_model_module": "@jupyter-widgets/output",
            "_model_module_version": "1.0.0",
            "_model_name": "OutputModel",
            "_view_count": null,
            "_view_module": "@jupyter-widgets/output",
            "_view_module_version": "1.0.0",
            "_view_name": "OutputView",
            "layout": "IPY_MODEL_f915a75e78ec4b24bb0e8844ba44ddb9",
            "msg_id": "",
            "outputs": [
              {
                "output_type": "display_data",
                "data": {
                  "text/plain": "                                                                                                                   \n \u001b[1m \u001b[0m\u001b[1mProgress                 \u001b[0m\u001b[1m \u001b[0m \u001b[1m \u001b[0m\u001b[1mDraws\u001b[0m\u001b[1m \u001b[0m \u001b[1m \u001b[0m\u001b[1mDivergences\u001b[0m\u001b[1m \u001b[0m \u001b[1m \u001b[0m\u001b[1mStep size\u001b[0m\u001b[1m \u001b[0m \u001b[1m \u001b[0m\u001b[1mGrad evals\u001b[0m\u001b[1m \u001b[0m \u001b[1m \u001b[0m\u001b[1mSampling Speed\u001b[0m\u001b[1m \u001b[0m \u001b[1m \u001b[0m\u001b[1mElapsed\u001b[0m\u001b[1m \u001b[0m \u001b[1m \u001b[0m\u001b[1mRemaining\u001b[0m\u001b[1m \u001b[0m \n ───────────────────────────────────────────────────────────────────────────────────────────────────────────────── \n  \u001b[38;2;31;119;180m━━━━━━━━━━━━━━━━━━━━━━━━━\u001b[0m   2000    0             0.42        7            222.34 draws/s   0:00:08   0:00:00    \n  \u001b[38;2;31;119;180m━━━━━━━━━━━━━━━━━━━━━━━━━\u001b[0m   2000    0             0.48        7            107.69 draws/s   0:00:18   0:00:00    \n                                                                                                                   \n",
                  "text/html": "<pre style=\"white-space:pre;overflow-x:auto;line-height:normal;font-family:Menlo,'DejaVu Sans Mono',consolas,'Courier New',monospace\">                                                                                                                   \n <span style=\"font-weight: bold\"> Progress                  </span> <span style=\"font-weight: bold\"> Draws </span> <span style=\"font-weight: bold\"> Divergences </span> <span style=\"font-weight: bold\"> Step size </span> <span style=\"font-weight: bold\"> Grad evals </span> <span style=\"font-weight: bold\"> Sampling Speed </span> <span style=\"font-weight: bold\"> Elapsed </span> <span style=\"font-weight: bold\"> Remaining </span> \n ───────────────────────────────────────────────────────────────────────────────────────────────────────────────── \n  <span style=\"color: #1f77b4; text-decoration-color: #1f77b4\">━━━━━━━━━━━━━━━━━━━━━━━━━</span>   2000    0             0.42        7            222.34 draws/s   0:00:08   0:00:00    \n  <span style=\"color: #1f77b4; text-decoration-color: #1f77b4\">━━━━━━━━━━━━━━━━━━━━━━━━━</span>   2000    0             0.48        7            107.69 draws/s   0:00:18   0:00:00    \n                                                                                                                   \n</pre>\n"
                },
                "metadata": {}
              }
            ]
          }
        },
        "f915a75e78ec4b24bb0e8844ba44ddb9": {
          "model_module": "@jupyter-widgets/base",
          "model_name": "LayoutModel",
          "model_module_version": "1.2.0",
          "state": {
            "_model_module": "@jupyter-widgets/base",
            "_model_module_version": "1.2.0",
            "_model_name": "LayoutModel",
            "_view_count": null,
            "_view_module": "@jupyter-widgets/base",
            "_view_module_version": "1.2.0",
            "_view_name": "LayoutView",
            "align_content": null,
            "align_items": null,
            "align_self": null,
            "border": null,
            "bottom": null,
            "display": null,
            "flex": null,
            "flex_flow": null,
            "grid_area": null,
            "grid_auto_columns": null,
            "grid_auto_flow": null,
            "grid_auto_rows": null,
            "grid_column": null,
            "grid_gap": null,
            "grid_row": null,
            "grid_template_areas": null,
            "grid_template_columns": null,
            "grid_template_rows": null,
            "height": null,
            "justify_content": null,
            "justify_items": null,
            "left": null,
            "margin": null,
            "max_height": null,
            "max_width": null,
            "min_height": null,
            "min_width": null,
            "object_fit": null,
            "object_position": null,
            "order": null,
            "overflow": null,
            "overflow_x": null,
            "overflow_y": null,
            "padding": null,
            "right": null,
            "top": null,
            "visibility": null,
            "width": null
          }
        },
        "3ed1e5d4a7e94dda9923acb620a9e832": {
          "model_module": "@jupyter-widgets/output",
          "model_name": "OutputModel",
          "model_module_version": "1.0.0",
          "state": {
            "_dom_classes": [],
            "_model_module": "@jupyter-widgets/output",
            "_model_module_version": "1.0.0",
            "_model_name": "OutputModel",
            "_view_count": null,
            "_view_module": "@jupyter-widgets/output",
            "_view_module_version": "1.0.0",
            "_view_name": "OutputView",
            "layout": "IPY_MODEL_eaf69669913f4724975d8b3c70010d67",
            "msg_id": "",
            "outputs": [
              {
                "output_type": "display_data",
                "data": {
                  "text/plain": "                                                                                                                   \n \u001b[1m \u001b[0m\u001b[1mProgress                 \u001b[0m\u001b[1m \u001b[0m \u001b[1m \u001b[0m\u001b[1mDraws\u001b[0m\u001b[1m \u001b[0m \u001b[1m \u001b[0m\u001b[1mDivergences\u001b[0m\u001b[1m \u001b[0m \u001b[1m \u001b[0m\u001b[1mStep size\u001b[0m\u001b[1m \u001b[0m \u001b[1m \u001b[0m\u001b[1mGrad evals\u001b[0m\u001b[1m \u001b[0m \u001b[1m \u001b[0m\u001b[1mSampling Speed\u001b[0m\u001b[1m \u001b[0m \u001b[1m \u001b[0m\u001b[1mElapsed\u001b[0m\u001b[1m \u001b[0m \u001b[1m \u001b[0m\u001b[1mRemaining\u001b[0m\u001b[1m \u001b[0m \n ───────────────────────────────────────────────────────────────────────────────────────────────────────────────── \n  \u001b[38;2;31;119;180m━━━━━━━━━━━━━━━━━━━━━━━━━\u001b[0m   2000    0             0.02        127          17.39 draws/s    0:01:54   0:00:00    \n  \u001b[38;2;31;119;180m━━━━━━━━━━━━━━━━━━━━━━━━━\u001b[0m   2000    0             0.02        127          9.26 draws/s     0:03:35   0:00:00    \n                                                                                                                   \n",
                  "text/html": "<pre style=\"white-space:pre;overflow-x:auto;line-height:normal;font-family:Menlo,'DejaVu Sans Mono',consolas,'Courier New',monospace\">                                                                                                                   \n <span style=\"font-weight: bold\"> Progress                  </span> <span style=\"font-weight: bold\"> Draws </span> <span style=\"font-weight: bold\"> Divergences </span> <span style=\"font-weight: bold\"> Step size </span> <span style=\"font-weight: bold\"> Grad evals </span> <span style=\"font-weight: bold\"> Sampling Speed </span> <span style=\"font-weight: bold\"> Elapsed </span> <span style=\"font-weight: bold\"> Remaining </span> \n ───────────────────────────────────────────────────────────────────────────────────────────────────────────────── \n  <span style=\"color: #1f77b4; text-decoration-color: #1f77b4\">━━━━━━━━━━━━━━━━━━━━━━━━━</span>   2000    0             0.02        127          17.39 draws/s    0:01:54   0:00:00    \n  <span style=\"color: #1f77b4; text-decoration-color: #1f77b4\">━━━━━━━━━━━━━━━━━━━━━━━━━</span>   2000    0             0.02        127          9.26 draws/s     0:03:35   0:00:00    \n                                                                                                                   \n</pre>\n"
                },
                "metadata": {}
              }
            ]
          }
        },
        "eaf69669913f4724975d8b3c70010d67": {
          "model_module": "@jupyter-widgets/base",
          "model_name": "LayoutModel",
          "model_module_version": "1.2.0",
          "state": {
            "_model_module": "@jupyter-widgets/base",
            "_model_module_version": "1.2.0",
            "_model_name": "LayoutModel",
            "_view_count": null,
            "_view_module": "@jupyter-widgets/base",
            "_view_module_version": "1.2.0",
            "_view_name": "LayoutView",
            "align_content": null,
            "align_items": null,
            "align_self": null,
            "border": null,
            "bottom": null,
            "display": null,
            "flex": null,
            "flex_flow": null,
            "grid_area": null,
            "grid_auto_columns": null,
            "grid_auto_flow": null,
            "grid_auto_rows": null,
            "grid_column": null,
            "grid_gap": null,
            "grid_row": null,
            "grid_template_areas": null,
            "grid_template_columns": null,
            "grid_template_rows": null,
            "height": null,
            "justify_content": null,
            "justify_items": null,
            "left": null,
            "margin": null,
            "max_height": null,
            "max_width": null,
            "min_height": null,
            "min_width": null,
            "object_fit": null,
            "object_position": null,
            "order": null,
            "overflow": null,
            "overflow_x": null,
            "overflow_y": null,
            "padding": null,
            "right": null,
            "top": null,
            "visibility": null,
            "width": null
          }
        },
        "81b42cdb0ecb4cf6814ac62906c9cc91": {
          "model_module": "@jupyter-widgets/output",
          "model_name": "OutputModel",
          "model_module_version": "1.0.0",
          "state": {
            "_dom_classes": [],
            "_model_module": "@jupyter-widgets/output",
            "_model_module_version": "1.0.0",
            "_model_name": "OutputModel",
            "_view_count": null,
            "_view_module": "@jupyter-widgets/output",
            "_view_module_version": "1.0.0",
            "_view_name": "OutputView",
            "layout": "IPY_MODEL_e07b688689964c8a8edb8eb92e5fa279",
            "msg_id": "",
            "outputs": [
              {
                "output_type": "display_data",
                "data": {
                  "text/plain": "                                                                                                                   \n \u001b[1m \u001b[0m\u001b[1mProgress                 \u001b[0m\u001b[1m \u001b[0m \u001b[1m \u001b[0m\u001b[1mDraws\u001b[0m\u001b[1m \u001b[0m \u001b[1m \u001b[0m\u001b[1mDivergences\u001b[0m\u001b[1m \u001b[0m \u001b[1m \u001b[0m\u001b[1mStep size\u001b[0m\u001b[1m \u001b[0m \u001b[1m \u001b[0m\u001b[1mGrad evals\u001b[0m\u001b[1m \u001b[0m \u001b[1m \u001b[0m\u001b[1mSampling Speed\u001b[0m\u001b[1m \u001b[0m \u001b[1m \u001b[0m\u001b[1mElapsed\u001b[0m\u001b[1m \u001b[0m \u001b[1m \u001b[0m\u001b[1mRemaining\u001b[0m\u001b[1m \u001b[0m \n ───────────────────────────────────────────────────────────────────────────────────────────────────────────────── \n  \u001b[38;2;31;119;180m━━━━━━━━━━━━━━━━━━━━━━━━━\u001b[0m   2000    0             0.30        15           232.59 draws/s   0:00:08   0:00:00    \n  \u001b[38;2;31;119;180m━━━━━━━━━━━━━━━━━━━━━━━━━\u001b[0m   2000    0             0.41        7            138.56 draws/s   0:00:14   0:00:00    \n                                                                                                                   \n",
                  "text/html": "<pre style=\"white-space:pre;overflow-x:auto;line-height:normal;font-family:Menlo,'DejaVu Sans Mono',consolas,'Courier New',monospace\">                                                                                                                   \n <span style=\"font-weight: bold\"> Progress                  </span> <span style=\"font-weight: bold\"> Draws </span> <span style=\"font-weight: bold\"> Divergences </span> <span style=\"font-weight: bold\"> Step size </span> <span style=\"font-weight: bold\"> Grad evals </span> <span style=\"font-weight: bold\"> Sampling Speed </span> <span style=\"font-weight: bold\"> Elapsed </span> <span style=\"font-weight: bold\"> Remaining </span> \n ───────────────────────────────────────────────────────────────────────────────────────────────────────────────── \n  <span style=\"color: #1f77b4; text-decoration-color: #1f77b4\">━━━━━━━━━━━━━━━━━━━━━━━━━</span>   2000    0             0.30        15           232.59 draws/s   0:00:08   0:00:00    \n  <span style=\"color: #1f77b4; text-decoration-color: #1f77b4\">━━━━━━━━━━━━━━━━━━━━━━━━━</span>   2000    0             0.41        7            138.56 draws/s   0:00:14   0:00:00    \n                                                                                                                   \n</pre>\n"
                },
                "metadata": {}
              }
            ]
          }
        },
        "e07b688689964c8a8edb8eb92e5fa279": {
          "model_module": "@jupyter-widgets/base",
          "model_name": "LayoutModel",
          "model_module_version": "1.2.0",
          "state": {
            "_model_module": "@jupyter-widgets/base",
            "_model_module_version": "1.2.0",
            "_model_name": "LayoutModel",
            "_view_count": null,
            "_view_module": "@jupyter-widgets/base",
            "_view_module_version": "1.2.0",
            "_view_name": "LayoutView",
            "align_content": null,
            "align_items": null,
            "align_self": null,
            "border": null,
            "bottom": null,
            "display": null,
            "flex": null,
            "flex_flow": null,
            "grid_area": null,
            "grid_auto_columns": null,
            "grid_auto_flow": null,
            "grid_auto_rows": null,
            "grid_column": null,
            "grid_gap": null,
            "grid_row": null,
            "grid_template_areas": null,
            "grid_template_columns": null,
            "grid_template_rows": null,
            "height": null,
            "justify_content": null,
            "justify_items": null,
            "left": null,
            "margin": null,
            "max_height": null,
            "max_width": null,
            "min_height": null,
            "min_width": null,
            "object_fit": null,
            "object_position": null,
            "order": null,
            "overflow": null,
            "overflow_x": null,
            "overflow_y": null,
            "padding": null,
            "right": null,
            "top": null,
            "visibility": null,
            "width": null
          }
        },
        "22810bfd470a41d3b2de93097db4f057": {
          "model_module": "@jupyter-widgets/output",
          "model_name": "OutputModel",
          "model_module_version": "1.0.0",
          "state": {
            "_dom_classes": [],
            "_model_module": "@jupyter-widgets/output",
            "_model_module_version": "1.0.0",
            "_model_name": "OutputModel",
            "_view_count": null,
            "_view_module": "@jupyter-widgets/output",
            "_view_module_version": "1.0.0",
            "_view_name": "OutputView",
            "layout": "IPY_MODEL_0eab7b68b2e04444b105fb11b3362862",
            "msg_id": "",
            "outputs": [
              {
                "output_type": "display_data",
                "data": {
                  "text/plain": "                                                                                                                   \n \u001b[1m \u001b[0m\u001b[1mProgress                 \u001b[0m\u001b[1m \u001b[0m \u001b[1m \u001b[0m\u001b[1mDraws\u001b[0m\u001b[1m \u001b[0m \u001b[1m \u001b[0m\u001b[1mDivergences\u001b[0m\u001b[1m \u001b[0m \u001b[1m \u001b[0m\u001b[1mStep size\u001b[0m\u001b[1m \u001b[0m \u001b[1m \u001b[0m\u001b[1mGrad evals\u001b[0m\u001b[1m \u001b[0m \u001b[1m \u001b[0m\u001b[1mSampling Speed\u001b[0m\u001b[1m \u001b[0m \u001b[1m \u001b[0m\u001b[1mElapsed\u001b[0m\u001b[1m \u001b[0m \u001b[1m \u001b[0m\u001b[1mRemaining\u001b[0m\u001b[1m \u001b[0m \n ───────────────────────────────────────────────────────────────────────────────────────────────────────────────── \n  \u001b[38;2;31;119;180m━━━━━━━━━━━━━━━━━━━━━━━━━\u001b[0m   2000    0             0.34        7            394.91 draws/s   0:00:05   0:00:00    \n  \u001b[38;2;31;119;180m━━━━━━━━━━━━━━━━━━━━━━━━━\u001b[0m   2000    0             0.42        15           191.91 draws/s   0:00:10   0:00:00    \n                                                                                                                   \n",
                  "text/html": "<pre style=\"white-space:pre;overflow-x:auto;line-height:normal;font-family:Menlo,'DejaVu Sans Mono',consolas,'Courier New',monospace\">                                                                                                                   \n <span style=\"font-weight: bold\"> Progress                  </span> <span style=\"font-weight: bold\"> Draws </span> <span style=\"font-weight: bold\"> Divergences </span> <span style=\"font-weight: bold\"> Step size </span> <span style=\"font-weight: bold\"> Grad evals </span> <span style=\"font-weight: bold\"> Sampling Speed </span> <span style=\"font-weight: bold\"> Elapsed </span> <span style=\"font-weight: bold\"> Remaining </span> \n ───────────────────────────────────────────────────────────────────────────────────────────────────────────────── \n  <span style=\"color: #1f77b4; text-decoration-color: #1f77b4\">━━━━━━━━━━━━━━━━━━━━━━━━━</span>   2000    0             0.34        7            394.91 draws/s   0:00:05   0:00:00    \n  <span style=\"color: #1f77b4; text-decoration-color: #1f77b4\">━━━━━━━━━━━━━━━━━━━━━━━━━</span>   2000    0             0.42        15           191.91 draws/s   0:00:10   0:00:00    \n                                                                                                                   \n</pre>\n"
                },
                "metadata": {}
              }
            ]
          }
        },
        "0eab7b68b2e04444b105fb11b3362862": {
          "model_module": "@jupyter-widgets/base",
          "model_name": "LayoutModel",
          "model_module_version": "1.2.0",
          "state": {
            "_model_module": "@jupyter-widgets/base",
            "_model_module_version": "1.2.0",
            "_model_name": "LayoutModel",
            "_view_count": null,
            "_view_module": "@jupyter-widgets/base",
            "_view_module_version": "1.2.0",
            "_view_name": "LayoutView",
            "align_content": null,
            "align_items": null,
            "align_self": null,
            "border": null,
            "bottom": null,
            "display": null,
            "flex": null,
            "flex_flow": null,
            "grid_area": null,
            "grid_auto_columns": null,
            "grid_auto_flow": null,
            "grid_auto_rows": null,
            "grid_column": null,
            "grid_gap": null,
            "grid_row": null,
            "grid_template_areas": null,
            "grid_template_columns": null,
            "grid_template_rows": null,
            "height": null,
            "justify_content": null,
            "justify_items": null,
            "left": null,
            "margin": null,
            "max_height": null,
            "max_width": null,
            "min_height": null,
            "min_width": null,
            "object_fit": null,
            "object_position": null,
            "order": null,
            "overflow": null,
            "overflow_x": null,
            "overflow_y": null,
            "padding": null,
            "right": null,
            "top": null,
            "visibility": null,
            "width": null
          }
        },
        "201e86d6611344298e45e3cf000654f2": {
          "model_module": "@jupyter-widgets/output",
          "model_name": "OutputModel",
          "model_module_version": "1.0.0",
          "state": {
            "_dom_classes": [],
            "_model_module": "@jupyter-widgets/output",
            "_model_module_version": "1.0.0",
            "_model_name": "OutputModel",
            "_view_count": null,
            "_view_module": "@jupyter-widgets/output",
            "_view_module_version": "1.0.0",
            "_view_name": "OutputView",
            "layout": "IPY_MODEL_28cd6ef215b34b3cbd8300b57fb7e3e4",
            "msg_id": "",
            "outputs": [
              {
                "output_type": "display_data",
                "data": {
                  "text/plain": "                                                                                                                   \n \u001b[1m \u001b[0m\u001b[1mProgress                 \u001b[0m\u001b[1m \u001b[0m \u001b[1m \u001b[0m\u001b[1mDraws\u001b[0m\u001b[1m \u001b[0m \u001b[1m \u001b[0m\u001b[1mDivergences\u001b[0m\u001b[1m \u001b[0m \u001b[1m \u001b[0m\u001b[1mStep size\u001b[0m\u001b[1m \u001b[0m \u001b[1m \u001b[0m\u001b[1mGrad evals\u001b[0m\u001b[1m \u001b[0m \u001b[1m \u001b[0m\u001b[1mSampling Speed\u001b[0m\u001b[1m \u001b[0m \u001b[1m \u001b[0m\u001b[1mElapsed\u001b[0m\u001b[1m \u001b[0m \u001b[1m \u001b[0m\u001b[1mRemaining\u001b[0m\u001b[1m \u001b[0m \n ───────────────────────────────────────────────────────────────────────────────────────────────────────────────── \n  \u001b[38;2;31;119;180m━━━━━━━━━━━━━━━━━━━━━━━━━\u001b[0m   2000    0             0.21        15           103.37 draws/s   0:00:19   0:00:00    \n  \u001b[38;2;31;119;180m━━━━━━━━━━━━━━━━━━━━━━━━━\u001b[0m   2000    0             0.14        31           49.34 draws/s    0:00:40   0:00:00    \n                                                                                                                   \n",
                  "text/html": "<pre style=\"white-space:pre;overflow-x:auto;line-height:normal;font-family:Menlo,'DejaVu Sans Mono',consolas,'Courier New',monospace\">                                                                                                                   \n <span style=\"font-weight: bold\"> Progress                  </span> <span style=\"font-weight: bold\"> Draws </span> <span style=\"font-weight: bold\"> Divergences </span> <span style=\"font-weight: bold\"> Step size </span> <span style=\"font-weight: bold\"> Grad evals </span> <span style=\"font-weight: bold\"> Sampling Speed </span> <span style=\"font-weight: bold\"> Elapsed </span> <span style=\"font-weight: bold\"> Remaining </span> \n ───────────────────────────────────────────────────────────────────────────────────────────────────────────────── \n  <span style=\"color: #1f77b4; text-decoration-color: #1f77b4\">━━━━━━━━━━━━━━━━━━━━━━━━━</span>   2000    0             0.21        15           103.37 draws/s   0:00:19   0:00:00    \n  <span style=\"color: #1f77b4; text-decoration-color: #1f77b4\">━━━━━━━━━━━━━━━━━━━━━━━━━</span>   2000    0             0.14        31           49.34 draws/s    0:00:40   0:00:00    \n                                                                                                                   \n</pre>\n"
                },
                "metadata": {}
              }
            ]
          }
        },
        "28cd6ef215b34b3cbd8300b57fb7e3e4": {
          "model_module": "@jupyter-widgets/base",
          "model_name": "LayoutModel",
          "model_module_version": "1.2.0",
          "state": {
            "_model_module": "@jupyter-widgets/base",
            "_model_module_version": "1.2.0",
            "_model_name": "LayoutModel",
            "_view_count": null,
            "_view_module": "@jupyter-widgets/base",
            "_view_module_version": "1.2.0",
            "_view_name": "LayoutView",
            "align_content": null,
            "align_items": null,
            "align_self": null,
            "border": null,
            "bottom": null,
            "display": null,
            "flex": null,
            "flex_flow": null,
            "grid_area": null,
            "grid_auto_columns": null,
            "grid_auto_flow": null,
            "grid_auto_rows": null,
            "grid_column": null,
            "grid_gap": null,
            "grid_row": null,
            "grid_template_areas": null,
            "grid_template_columns": null,
            "grid_template_rows": null,
            "height": null,
            "justify_content": null,
            "justify_items": null,
            "left": null,
            "margin": null,
            "max_height": null,
            "max_width": null,
            "min_height": null,
            "min_width": null,
            "object_fit": null,
            "object_position": null,
            "order": null,
            "overflow": null,
            "overflow_x": null,
            "overflow_y": null,
            "padding": null,
            "right": null,
            "top": null,
            "visibility": null,
            "width": null
          }
        }
      }
    }
  },
  "nbformat": 4,
  "nbformat_minor": 0
}